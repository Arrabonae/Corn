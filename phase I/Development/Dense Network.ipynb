{
 "cells": [
  {
   "cell_type": "code",
   "execution_count": 4,
   "metadata": {},
   "outputs": [],
   "source": [
    "import numpy as np\n",
    "import pandas as pd"
   ]
  },
  {
   "cell_type": "code",
   "execution_count": 5,
   "metadata": {},
   "outputs": [],
   "source": [
    "weather = pd.read_csv('Datasets/weather.csv', index_col = 'Date')\n",
    "price = pd.read_csv('Datasets/Data.csv', index_col='Date', parse_dates=True)"
   ]
  },
  {
   "cell_type": "code",
   "execution_count": 6,
   "metadata": {},
   "outputs": [
    {
     "data": {
      "text/html": [
       "<div>\n",
       "<style scoped>\n",
       "    .dataframe tbody tr th:only-of-type {\n",
       "        vertical-align: middle;\n",
       "    }\n",
       "\n",
       "    .dataframe tbody tr th {\n",
       "        vertical-align: top;\n",
       "    }\n",
       "\n",
       "    .dataframe thead th {\n",
       "        text-align: right;\n",
       "    }\n",
       "</style>\n",
       "<table border=\"1\" class=\"dataframe\">\n",
       "  <thead>\n",
       "    <tr style=\"text-align: right;\">\n",
       "      <th></th>\n",
       "      <th>Price</th>\n",
       "      <th>Open</th>\n",
       "      <th>High</th>\n",
       "      <th>Low</th>\n",
       "      <th>Vol.</th>\n",
       "      <th>Change %</th>\n",
       "    </tr>\n",
       "    <tr>\n",
       "      <th>Date</th>\n",
       "      <th></th>\n",
       "      <th></th>\n",
       "      <th></th>\n",
       "      <th></th>\n",
       "      <th></th>\n",
       "      <th></th>\n",
       "    </tr>\n",
       "  </thead>\n",
       "  <tbody>\n",
       "    <tr>\n",
       "      <th>2010-01-04</th>\n",
       "      <td>418.50</td>\n",
       "      <td>415.75</td>\n",
       "      <td>426.25</td>\n",
       "      <td>413.25</td>\n",
       "      <td>140.55K</td>\n",
       "      <td>1.03%</td>\n",
       "    </tr>\n",
       "    <tr>\n",
       "      <th>2010-01-05</th>\n",
       "      <td>418.75</td>\n",
       "      <td>417.25</td>\n",
       "      <td>420.00</td>\n",
       "      <td>415.25</td>\n",
       "      <td>80.97K</td>\n",
       "      <td>0.06%</td>\n",
       "    </tr>\n",
       "    <tr>\n",
       "      <th>2010-01-06</th>\n",
       "      <td>421.75</td>\n",
       "      <td>418.00</td>\n",
       "      <td>422.00</td>\n",
       "      <td>416.00</td>\n",
       "      <td>96.45K</td>\n",
       "      <td>0.72%</td>\n",
       "    </tr>\n",
       "    <tr>\n",
       "      <th>2010-01-07</th>\n",
       "      <td>417.50</td>\n",
       "      <td>421.00</td>\n",
       "      <td>424.00</td>\n",
       "      <td>414.50</td>\n",
       "      <td>137.40K</td>\n",
       "      <td>-1.01%</td>\n",
       "    </tr>\n",
       "    <tr>\n",
       "      <th>2010-01-08</th>\n",
       "      <td>423.00</td>\n",
       "      <td>417.50</td>\n",
       "      <td>423.75</td>\n",
       "      <td>415.00</td>\n",
       "      <td>135.00K</td>\n",
       "      <td>1.32%</td>\n",
       "    </tr>\n",
       "  </tbody>\n",
       "</table>\n",
       "</div>"
      ],
      "text/plain": [
       "             Price    Open    High     Low     Vol. Change %\n",
       "Date                                                        \n",
       "2010-01-04  418.50  415.75  426.25  413.25  140.55K    1.03%\n",
       "2010-01-05  418.75  417.25  420.00  415.25   80.97K    0.06%\n",
       "2010-01-06  421.75  418.00  422.00  416.00   96.45K    0.72%\n",
       "2010-01-07  417.50  421.00  424.00  414.50  137.40K   -1.01%\n",
       "2010-01-08  423.00  417.50  423.75  415.00  135.00K    1.32%"
      ]
     },
     "execution_count": 6,
     "metadata": {},
     "output_type": "execute_result"
    }
   ],
   "source": [
    "price = price[(price.index > '2010-01-01') & (price.index < '2019-01-01')]\n",
    "price = price[::-1]\n",
    "price.head()"
   ]
  },
  {
   "cell_type": "code",
   "execution_count": 7,
   "metadata": {},
   "outputs": [
    {
     "data": {
      "text/html": [
       "<div>\n",
       "<style scoped>\n",
       "    .dataframe tbody tr th:only-of-type {\n",
       "        vertical-align: middle;\n",
       "    }\n",
       "\n",
       "    .dataframe tbody tr th {\n",
       "        vertical-align: top;\n",
       "    }\n",
       "\n",
       "    .dataframe thead th {\n",
       "        text-align: right;\n",
       "    }\n",
       "</style>\n",
       "<table border=\"1\" class=\"dataframe\">\n",
       "  <thead>\n",
       "    <tr style=\"text-align: right;\">\n",
       "      <th></th>\n",
       "      <th>TMAX</th>\n",
       "      <th>TMIN</th>\n",
       "      <th>PRCP</th>\n",
       "      <th>SNOW</th>\n",
       "    </tr>\n",
       "    <tr>\n",
       "      <th>Date</th>\n",
       "      <th></th>\n",
       "      <th></th>\n",
       "      <th></th>\n",
       "      <th></th>\n",
       "    </tr>\n",
       "  </thead>\n",
       "  <tbody>\n",
       "    <tr>\n",
       "      <th>2010-01-01</th>\n",
       "      <td>-31.046402</td>\n",
       "      <td>-74.829545</td>\n",
       "      <td>3.594223</td>\n",
       "      <td>4.698390</td>\n",
       "    </tr>\n",
       "    <tr>\n",
       "      <th>2010-01-02</th>\n",
       "      <td>-52.175943</td>\n",
       "      <td>-101.472170</td>\n",
       "      <td>3.552830</td>\n",
       "      <td>7.444340</td>\n",
       "    </tr>\n",
       "    <tr>\n",
       "      <th>2010-01-03</th>\n",
       "      <td>-57.468414</td>\n",
       "      <td>-103.546093</td>\n",
       "      <td>2.228358</td>\n",
       "      <td>5.344408</td>\n",
       "    </tr>\n",
       "    <tr>\n",
       "      <th>2010-01-04</th>\n",
       "      <td>-46.521938</td>\n",
       "      <td>-88.392139</td>\n",
       "      <td>2.521024</td>\n",
       "      <td>5.994973</td>\n",
       "    </tr>\n",
       "    <tr>\n",
       "      <th>2010-01-05</th>\n",
       "      <td>-40.622883</td>\n",
       "      <td>-76.595881</td>\n",
       "      <td>2.895195</td>\n",
       "      <td>4.625172</td>\n",
       "    </tr>\n",
       "  </tbody>\n",
       "</table>\n",
       "</div>"
      ],
      "text/plain": [
       "                 TMAX        TMIN      PRCP      SNOW\n",
       "Date                                                 \n",
       "2010-01-01 -31.046402  -74.829545  3.594223  4.698390\n",
       "2010-01-02 -52.175943 -101.472170  3.552830  7.444340\n",
       "2010-01-03 -57.468414 -103.546093  2.228358  5.344408\n",
       "2010-01-04 -46.521938  -88.392139  2.521024  5.994973\n",
       "2010-01-05 -40.622883  -76.595881  2.895195  4.625172"
      ]
     },
     "execution_count": 7,
     "metadata": {},
     "output_type": "execute_result"
    }
   ],
   "source": [
    "weather.head()"
   ]
  },
  {
   "cell_type": "code",
   "execution_count": 32,
   "metadata": {},
   "outputs": [
    {
     "data": {
      "text/html": [
       "<div>\n",
       "<style scoped>\n",
       "    .dataframe tbody tr th:only-of-type {\n",
       "        vertical-align: middle;\n",
       "    }\n",
       "\n",
       "    .dataframe tbody tr th {\n",
       "        vertical-align: top;\n",
       "    }\n",
       "\n",
       "    .dataframe thead th {\n",
       "        text-align: right;\n",
       "    }\n",
       "</style>\n",
       "<table border=\"1\" class=\"dataframe\">\n",
       "  <thead>\n",
       "    <tr style=\"text-align: right;\">\n",
       "      <th></th>\n",
       "      <th>Price</th>\n",
       "      <th>Open</th>\n",
       "      <th>High</th>\n",
       "      <th>Low</th>\n",
       "      <th>Vol.</th>\n",
       "      <th>Change %</th>\n",
       "      <th>TMAX</th>\n",
       "      <th>TMIN</th>\n",
       "      <th>PRCP</th>\n",
       "      <th>SNOW</th>\n",
       "    </tr>\n",
       "    <tr>\n",
       "      <th>Date</th>\n",
       "      <th></th>\n",
       "      <th></th>\n",
       "      <th></th>\n",
       "      <th></th>\n",
       "      <th></th>\n",
       "      <th></th>\n",
       "      <th></th>\n",
       "      <th></th>\n",
       "      <th></th>\n",
       "      <th></th>\n",
       "    </tr>\n",
       "  </thead>\n",
       "  <tbody>\n",
       "    <tr>\n",
       "      <th>2010-01-04</th>\n",
       "      <td>418.50</td>\n",
       "      <td>415.75</td>\n",
       "      <td>426.25</td>\n",
       "      <td>413.25</td>\n",
       "      <td>140.55</td>\n",
       "      <td>1.03%</td>\n",
       "      <td>-46.521938</td>\n",
       "      <td>-88.392139</td>\n",
       "      <td>2.521024</td>\n",
       "      <td>5.994973</td>\n",
       "    </tr>\n",
       "    <tr>\n",
       "      <th>2010-01-05</th>\n",
       "      <td>418.75</td>\n",
       "      <td>417.25</td>\n",
       "      <td>420.00</td>\n",
       "      <td>415.25</td>\n",
       "      <td>80.97</td>\n",
       "      <td>0.06%</td>\n",
       "      <td>-40.622883</td>\n",
       "      <td>-76.595881</td>\n",
       "      <td>2.895195</td>\n",
       "      <td>4.625172</td>\n",
       "    </tr>\n",
       "    <tr>\n",
       "      <th>2010-01-06</th>\n",
       "      <td>421.75</td>\n",
       "      <td>418.00</td>\n",
       "      <td>422.00</td>\n",
       "      <td>416.00</td>\n",
       "      <td>96.45</td>\n",
       "      <td>0.72%</td>\n",
       "      <td>-34.017431</td>\n",
       "      <td>-72.576606</td>\n",
       "      <td>3.870642</td>\n",
       "      <td>3.200000</td>\n",
       "    </tr>\n",
       "    <tr>\n",
       "      <th>2010-01-07</th>\n",
       "      <td>417.50</td>\n",
       "      <td>421.00</td>\n",
       "      <td>424.00</td>\n",
       "      <td>414.50</td>\n",
       "      <td>137.40</td>\n",
       "      <td>-1.01%</td>\n",
       "      <td>-30.523176</td>\n",
       "      <td>-61.433685</td>\n",
       "      <td>31.739330</td>\n",
       "      <td>45.121615</td>\n",
       "    </tr>\n",
       "    <tr>\n",
       "      <th>2010-01-08</th>\n",
       "      <td>423.00</td>\n",
       "      <td>417.50</td>\n",
       "      <td>423.75</td>\n",
       "      <td>415.00</td>\n",
       "      <td>135.00</td>\n",
       "      <td>1.32%</td>\n",
       "      <td>-35.299818</td>\n",
       "      <td>-68.329845</td>\n",
       "      <td>32.447680</td>\n",
       "      <td>47.646497</td>\n",
       "    </tr>\n",
       "  </tbody>\n",
       "</table>\n",
       "</div>"
      ],
      "text/plain": [
       "             Price    Open    High     Low    Vol. Change %       TMAX  \\\n",
       "Date                                                                     \n",
       "2010-01-04  418.50  415.75  426.25  413.25  140.55    1.03% -46.521938   \n",
       "2010-01-05  418.75  417.25  420.00  415.25   80.97    0.06% -40.622883   \n",
       "2010-01-06  421.75  418.00  422.00  416.00   96.45    0.72% -34.017431   \n",
       "2010-01-07  417.50  421.00  424.00  414.50  137.40   -1.01% -30.523176   \n",
       "2010-01-08  423.00  417.50  423.75  415.00  135.00    1.32% -35.299818   \n",
       "\n",
       "                 TMIN       PRCP       SNOW  \n",
       "Date                                         \n",
       "2010-01-04 -88.392139   2.521024   5.994973  \n",
       "2010-01-05 -76.595881   2.895195   4.625172  \n",
       "2010-01-06 -72.576606   3.870642   3.200000  \n",
       "2010-01-07 -61.433685  31.739330  45.121615  \n",
       "2010-01-08 -68.329845  32.447680  47.646497  "
      ]
     },
     "execution_count": 32,
     "metadata": {},
     "output_type": "execute_result"
    }
   ],
   "source": [
    "#Merge the two dataframes based on Index\n",
    "final = pd.concat([price, weather],axis=1)\n",
    "#final = final.fillna(0)\n",
    "final.dropna(inplace=True)\n",
    "final['Vol.'] = final['Vol.'].str.slice(0,-1)\n",
    "index = final.index.values\n",
    "final.head()"
   ]
  },
  {
   "cell_type": "code",
   "execution_count": 34,
   "metadata": {},
   "outputs": [
    {
     "name": "stdout",
     "output_type": "stream",
     "text": [
      "<class 'pandas.core.frame.DataFrame'>\n",
      "DatetimeIndex: 2429 entries, 2010-01-04 to 2018-12-31\n",
      "Data columns (total 10 columns):\n",
      "Price       2429 non-null float64\n",
      "Open        2429 non-null float64\n",
      "High        2429 non-null float64\n",
      "Low         2429 non-null float64\n",
      "Vol.        2429 non-null object\n",
      "Change %    2429 non-null object\n",
      "TMAX        2429 non-null float64\n",
      "TMIN        2429 non-null float64\n",
      "PRCP        2429 non-null float64\n",
      "SNOW        2429 non-null float64\n",
      "dtypes: float64(8), object(2)\n",
      "memory usage: 208.7+ KB\n"
     ]
    }
   ],
   "source": [
    "final.info()"
   ]
  },
  {
   "cell_type": "code",
   "execution_count": 35,
   "metadata": {},
   "outputs": [],
   "source": [
    "from sklearn.preprocessing import MinMaxScaler"
   ]
  },
  {
   "cell_type": "code",
   "execution_count": 36,
   "metadata": {},
   "outputs": [],
   "source": [
    "scaler = MinMaxScaler()\n",
    "labels = final.drop(['Price','Change %','High','Low','Open','Vol.'], axis=1)"
   ]
  },
  {
   "cell_type": "code",
   "execution_count": 37,
   "metadata": {},
   "outputs": [],
   "source": [
    "labels = pd.DataFrame(scaler.fit_transform(labels))\n",
    "labels.columns = ['PRCP','TMAX', 'TMIN', 'SNOW']\n",
    "labels = labels.set_index(index)"
   ]
  },
  {
   "cell_type": "code",
   "execution_count": 38,
   "metadata": {},
   "outputs": [
    {
     "data": {
      "text/html": [
       "<div>\n",
       "<style scoped>\n",
       "    .dataframe tbody tr th:only-of-type {\n",
       "        vertical-align: middle;\n",
       "    }\n",
       "\n",
       "    .dataframe tbody tr th {\n",
       "        vertical-align: top;\n",
       "    }\n",
       "\n",
       "    .dataframe thead th {\n",
       "        text-align: right;\n",
       "    }\n",
       "</style>\n",
       "<table border=\"1\" class=\"dataframe\">\n",
       "  <thead>\n",
       "    <tr style=\"text-align: right;\">\n",
       "      <th></th>\n",
       "      <th>PRCP</th>\n",
       "      <th>TMAX</th>\n",
       "      <th>TMIN</th>\n",
       "      <th>SNOW</th>\n",
       "    </tr>\n",
       "  </thead>\n",
       "  <tbody>\n",
       "    <tr>\n",
       "      <th>2010-01-04</th>\n",
       "      <td>0.150927</td>\n",
       "      <td>0.125927</td>\n",
       "      <td>0.007841</td>\n",
       "      <td>0.050645</td>\n",
       "    </tr>\n",
       "    <tr>\n",
       "      <th>2010-01-05</th>\n",
       "      <td>0.179005</td>\n",
       "      <td>0.185362</td>\n",
       "      <td>0.009005</td>\n",
       "      <td>0.039073</td>\n",
       "    </tr>\n",
       "    <tr>\n",
       "      <th>2010-01-06</th>\n",
       "      <td>0.210446</td>\n",
       "      <td>0.205613</td>\n",
       "      <td>0.012040</td>\n",
       "      <td>0.027033</td>\n",
       "    </tr>\n",
       "    <tr>\n",
       "      <th>2010-01-07</th>\n",
       "      <td>0.227078</td>\n",
       "      <td>0.261756</td>\n",
       "      <td>0.098758</td>\n",
       "      <td>0.381185</td>\n",
       "    </tr>\n",
       "    <tr>\n",
       "      <th>2010-01-08</th>\n",
       "      <td>0.204342</td>\n",
       "      <td>0.227010</td>\n",
       "      <td>0.100962</td>\n",
       "      <td>0.402515</td>\n",
       "    </tr>\n",
       "  </tbody>\n",
       "</table>\n",
       "</div>"
      ],
      "text/plain": [
       "                PRCP      TMAX      TMIN      SNOW\n",
       "2010-01-04  0.150927  0.125927  0.007841  0.050645\n",
       "2010-01-05  0.179005  0.185362  0.009005  0.039073\n",
       "2010-01-06  0.210446  0.205613  0.012040  0.027033\n",
       "2010-01-07  0.227078  0.261756  0.098758  0.381185\n",
       "2010-01-08  0.204342  0.227010  0.100962  0.402515"
      ]
     },
     "execution_count": 38,
     "metadata": {},
     "output_type": "execute_result"
    }
   ],
   "source": [
    "labels.head()"
   ]
  },
  {
   "cell_type": "code",
   "execution_count": 39,
   "metadata": {},
   "outputs": [
    {
     "name": "stdout",
     "output_type": "stream",
     "text": [
      "<class 'pandas.core.frame.DataFrame'>\n",
      "DatetimeIndex: 2429 entries, 2010-01-04 to 2018-12-31\n",
      "Data columns (total 4 columns):\n",
      "PRCP    2429 non-null float64\n",
      "TMAX    2429 non-null float64\n",
      "TMIN    2429 non-null float64\n",
      "SNOW    2429 non-null float64\n",
      "dtypes: float64(4)\n",
      "memory usage: 94.9 KB\n"
     ]
    }
   ],
   "source": [
    "labels.info()"
   ]
  },
  {
   "cell_type": "code",
   "execution_count": 40,
   "metadata": {},
   "outputs": [],
   "source": [
    "#Train Test Split X\n",
    "X_test= labels.tail(429)\n",
    "X_train = labels.head(2000)"
   ]
  },
  {
   "cell_type": "code",
   "execution_count": 41,
   "metadata": {},
   "outputs": [
    {
     "data": {
      "text/html": [
       "<div>\n",
       "<style scoped>\n",
       "    .dataframe tbody tr th:only-of-type {\n",
       "        vertical-align: middle;\n",
       "    }\n",
       "\n",
       "    .dataframe tbody tr th {\n",
       "        vertical-align: top;\n",
       "    }\n",
       "\n",
       "    .dataframe thead th {\n",
       "        text-align: right;\n",
       "    }\n",
       "</style>\n",
       "<table border=\"1\" class=\"dataframe\">\n",
       "  <thead>\n",
       "    <tr style=\"text-align: right;\">\n",
       "      <th></th>\n",
       "      <th>Price</th>\n",
       "      <th>Open</th>\n",
       "      <th>High</th>\n",
       "      <th>Low</th>\n",
       "      <th>Vol.</th>\n",
       "      <th>Change %</th>\n",
       "      <th>TMAX</th>\n",
       "      <th>TMIN</th>\n",
       "      <th>PRCP</th>\n",
       "      <th>SNOW</th>\n",
       "    </tr>\n",
       "    <tr>\n",
       "      <th>Date</th>\n",
       "      <th></th>\n",
       "      <th></th>\n",
       "      <th></th>\n",
       "      <th></th>\n",
       "      <th></th>\n",
       "      <th></th>\n",
       "      <th></th>\n",
       "      <th></th>\n",
       "      <th></th>\n",
       "      <th></th>\n",
       "    </tr>\n",
       "  </thead>\n",
       "  <tbody>\n",
       "  </tbody>\n",
       "</table>\n",
       "</div>"
      ],
      "text/plain": [
       "Empty DataFrame\n",
       "Columns: [Price, Open, High, Low, Vol., Change %, TMAX, TMIN, PRCP, SNOW]\n",
       "Index: []"
      ]
     },
     "execution_count": 41,
     "metadata": {},
     "output_type": "execute_result"
    }
   ],
   "source": [
    "final[final['Price']==0]"
   ]
  },
  {
   "cell_type": "code",
   "execution_count": 42,
   "metadata": {},
   "outputs": [],
   "source": [
    "prices = pd.DataFrame(scaler.fit_transform(pd.DataFrame(final['Price'])))\n",
    "prices.columns = ['Price']\n",
    "prices = prices.set_index(index)\n",
    "prices=prices['Price'].map(lambda x: prices.Price.mean() if x == 0 else x)"
   ]
  },
  {
   "cell_type": "code",
   "execution_count": 43,
   "metadata": {},
   "outputs": [],
   "source": [
    "# Test Train split Y\n",
    "y_test= prices.tail(429)\n",
    "y_train = prices.head(2000)"
   ]
  },
  {
   "cell_type": "code",
   "execution_count": 44,
   "metadata": {},
   "outputs": [
    {
     "data": {
      "text/plain": [
       "Series([], Name: Price, dtype: float64)"
      ]
     },
     "execution_count": 44,
     "metadata": {},
     "output_type": "execute_result"
    }
   ],
   "source": [
    "y_train[y_train==0]"
   ]
  },
  {
   "cell_type": "code",
   "execution_count": 45,
   "metadata": {},
   "outputs": [
    {
     "name": "stderr",
     "output_type": "stream",
     "text": [
      "Using TensorFlow backend.\n"
     ]
    }
   ],
   "source": [
    "from keras.layers import Dense, LSTM\n",
    "from keras.models import Sequential"
   ]
  },
  {
   "cell_type": "code",
   "execution_count": 47,
   "metadata": {},
   "outputs": [
    {
     "name": "stderr",
     "output_type": "stream",
     "text": [
      "W0816 20:45:12.909955 4668515776 deprecation_wrapper.py:119] From /anaconda3/lib/python3.7/site-packages/keras/backend/tensorflow_backend.py:986: The name tf.assign_add is deprecated. Please use tf.compat.v1.assign_add instead.\n",
      "\n",
      "W0816 20:45:12.979565 4668515776 deprecation_wrapper.py:119] From /anaconda3/lib/python3.7/site-packages/keras/backend/tensorflow_backend.py:973: The name tf.assign is deprecated. Please use tf.compat.v1.assign instead.\n",
      "\n"
     ]
    },
    {
     "name": "stdout",
     "output_type": "stream",
     "text": [
      "Epoch 1/50\n",
      "2000/2000 [==============================] - 1s 408us/step - loss: 0.0824 - mean_absolute_percentage_error: 141.7810\n",
      "Epoch 2/50\n",
      "2000/2000 [==============================] - 0s 56us/step - loss: 0.0821 - mean_absolute_percentage_error: 143.6212\n",
      "Epoch 3/50\n",
      "2000/2000 [==============================] - 0s 56us/step - loss: 0.0821 - mean_absolute_percentage_error: 142.4673\n",
      "Epoch 4/50\n",
      "2000/2000 [==============================] - 0s 56us/step - loss: 0.0822 - mean_absolute_percentage_error: 143.8884\n",
      "Epoch 5/50\n",
      "2000/2000 [==============================] - 0s 57us/step - loss: 0.0823 - mean_absolute_percentage_error: 142.7935\n",
      "Epoch 6/50\n",
      "2000/2000 [==============================] - 0s 56us/step - loss: 0.0820 - mean_absolute_percentage_error: 142.7295\n",
      "Epoch 7/50\n",
      "2000/2000 [==============================] - 0s 55us/step - loss: 0.0819 - mean_absolute_percentage_error: 141.9911\n",
      "Epoch 8/50\n",
      "2000/2000 [==============================] - 0s 57us/step - loss: 0.0819 - mean_absolute_percentage_error: 143.4848\n",
      "Epoch 9/50\n",
      "2000/2000 [==============================] - 0s 57us/step - loss: 0.0820 - mean_absolute_percentage_error: 143.3063\n",
      "Epoch 10/50\n",
      "2000/2000 [==============================] - 0s 56us/step - loss: 0.0818 - mean_absolute_percentage_error: 143.0401\n",
      "Epoch 11/50\n",
      "2000/2000 [==============================] - 0s 57us/step - loss: 0.0816 - mean_absolute_percentage_error: 141.4791\n",
      "Epoch 12/50\n",
      "2000/2000 [==============================] - 0s 57us/step - loss: 0.0816 - mean_absolute_percentage_error: 144.0493\n",
      "Epoch 13/50\n",
      "2000/2000 [==============================] - 0s 57us/step - loss: 0.0814 - mean_absolute_percentage_error: 141.0452\n",
      "Epoch 14/50\n",
      "2000/2000 [==============================] - 0s 57us/step - loss: 0.0814 - mean_absolute_percentage_error: 143.8309\n",
      "Epoch 15/50\n",
      "2000/2000 [==============================] - 0s 56us/step - loss: 0.0813 - mean_absolute_percentage_error: 139.8802\n",
      "Epoch 16/50\n",
      "2000/2000 [==============================] - 0s 60us/step - loss: 0.0812 - mean_absolute_percentage_error: 142.8541\n",
      "Epoch 17/50\n",
      "2000/2000 [==============================] - 0s 55us/step - loss: 0.0811 - mean_absolute_percentage_error: 140.4488\n",
      "Epoch 18/50\n",
      "2000/2000 [==============================] - 0s 56us/step - loss: 0.0810 - mean_absolute_percentage_error: 142.6523\n",
      "Epoch 19/50\n",
      "2000/2000 [==============================] - 0s 55us/step - loss: 0.0809 - mean_absolute_percentage_error: 142.3649\n",
      "Epoch 20/50\n",
      "2000/2000 [==============================] - 0s 56us/step - loss: 0.0807 - mean_absolute_percentage_error: 138.6322\n",
      "Epoch 21/50\n",
      "2000/2000 [==============================] - 0s 56us/step - loss: 0.0804 - mean_absolute_percentage_error: 140.6367\n",
      "Epoch 22/50\n",
      "2000/2000 [==============================] - 0s 56us/step - loss: 0.0803 - mean_absolute_percentage_error: 140.3984\n",
      "Epoch 23/50\n",
      "2000/2000 [==============================] - 0s 56us/step - loss: 0.0803 - mean_absolute_percentage_error: 140.5258\n",
      "Epoch 24/50\n",
      "2000/2000 [==============================] - 0s 57us/step - loss: 0.0804 - mean_absolute_percentage_error: 140.6924\n",
      "Epoch 25/50\n",
      "2000/2000 [==============================] - 0s 57us/step - loss: 0.0800 - mean_absolute_percentage_error: 140.6606\n",
      "Epoch 26/50\n",
      "2000/2000 [==============================] - 0s 56us/step - loss: 0.0803 - mean_absolute_percentage_error: 138.1016\n",
      "Epoch 27/50\n",
      "2000/2000 [==============================] - 0s 55us/step - loss: 0.0798 - mean_absolute_percentage_error: 140.2386\n",
      "Epoch 28/50\n",
      "2000/2000 [==============================] - 0s 57us/step - loss: 0.0794 - mean_absolute_percentage_error: 138.8816\n",
      "Epoch 29/50\n",
      "2000/2000 [==============================] - 0s 56us/step - loss: 0.0799 - mean_absolute_percentage_error: 137.1387\n",
      "Epoch 30/50\n",
      "2000/2000 [==============================] - 0s 56us/step - loss: 0.0795 - mean_absolute_percentage_error: 138.6081\n",
      "Epoch 31/50\n",
      "2000/2000 [==============================] - 0s 57us/step - loss: 0.0792 - mean_absolute_percentage_error: 136.7517\n",
      "Epoch 32/50\n",
      "2000/2000 [==============================] - 0s 57us/step - loss: 0.0790 - mean_absolute_percentage_error: 140.4001\n",
      "Epoch 33/50\n",
      "2000/2000 [==============================] - 0s 56us/step - loss: 0.0793 - mean_absolute_percentage_error: 137.8310\n",
      "Epoch 34/50\n",
      "2000/2000 [==============================] - 0s 57us/step - loss: 0.0786 - mean_absolute_percentage_error: 138.2911\n",
      "Epoch 35/50\n",
      "2000/2000 [==============================] - 0s 57us/step - loss: 0.0784 - mean_absolute_percentage_error: 137.2624\n",
      "Epoch 36/50\n",
      "2000/2000 [==============================] - 0s 56us/step - loss: 0.0787 - mean_absolute_percentage_error: 136.3051\n",
      "Epoch 37/50\n",
      "2000/2000 [==============================] - 0s 58us/step - loss: 0.0783 - mean_absolute_percentage_error: 137.4790\n",
      "Epoch 38/50\n",
      "2000/2000 [==============================] - 0s 57us/step - loss: 0.0782 - mean_absolute_percentage_error: 137.8660\n",
      "Epoch 39/50\n",
      "2000/2000 [==============================] - 0s 58us/step - loss: 0.0779 - mean_absolute_percentage_error: 135.9782\n",
      "Epoch 40/50\n",
      "2000/2000 [==============================] - 0s 56us/step - loss: 0.0783 - mean_absolute_percentage_error: 135.3022\n",
      "Epoch 41/50\n",
      "2000/2000 [==============================] - 0s 57us/step - loss: 0.0778 - mean_absolute_percentage_error: 136.3970\n",
      "Epoch 42/50\n",
      "2000/2000 [==============================] - 0s 57us/step - loss: 0.0775 - mean_absolute_percentage_error: 134.8721\n",
      "Epoch 43/50\n",
      "2000/2000 [==============================] - 0s 58us/step - loss: 0.0777 - mean_absolute_percentage_error: 136.3933\n",
      "Epoch 44/50\n",
      "2000/2000 [==============================] - 0s 57us/step - loss: 0.0779 - mean_absolute_percentage_error: 134.5494\n",
      "Epoch 45/50\n",
      "2000/2000 [==============================] - 0s 57us/step - loss: 0.0771 - mean_absolute_percentage_error: 133.9575\n",
      "Epoch 46/50\n",
      "2000/2000 [==============================] - 0s 58us/step - loss: 0.0768 - mean_absolute_percentage_error: 134.0266\n",
      "Epoch 47/50\n",
      "2000/2000 [==============================] - 0s 58us/step - loss: 0.0772 - mean_absolute_percentage_error: 135.0438\n",
      "Epoch 48/50\n",
      "2000/2000 [==============================] - 0s 57us/step - loss: 0.0767 - mean_absolute_percentage_error: 132.9634\n",
      "Epoch 49/50\n",
      "2000/2000 [==============================] - 0s 58us/step - loss: 0.0771 - mean_absolute_percentage_error: 132.8460\n",
      "Epoch 50/50\n",
      "2000/2000 [==============================] - 0s 58us/step - loss: 0.0776 - mean_absolute_percentage_error: 134.9219\n"
     ]
    }
   ],
   "source": [
    "model = Sequential()\n",
    "model.add(Dense(18,activation='relu',input_shape=(4, )))\n",
    "model.add(Dense(64, activation='relu'))\n",
    "model.add(Dense(32, activation='sigmoid'))\n",
    "model.add(Dense(1, activation='sigmoid'))\n",
    "model.compile(optimizer='adam',loss='mse',metrics=['mape'])\n",
    "model.fit(X_train, y_train,epochs=50,batch_size=20, verbose=1)\n",
    "predictions = model.predict(X_test)"
   ]
  },
  {
   "cell_type": "code",
   "execution_count": 48,
   "metadata": {},
   "outputs": [],
   "source": [
    "results = np.array(predictions).reshape(429\n",
    "                                        ,1)"
   ]
  },
  {
   "cell_type": "code",
   "execution_count": 49,
   "metadata": {},
   "outputs": [
    {
     "data": {
      "text/plain": [
       "array([477.27457], dtype=float32)"
      ]
     },
     "execution_count": 49,
     "metadata": {},
     "output_type": "execute_result"
    }
   ],
   "source": [
    "results = scaler.inverse_transform(results)\n",
    "y_test_scaled = scaler.inverse_transform(np.array(y_test).reshape(429,1))\n",
    "results[0]"
   ]
  },
  {
   "cell_type": "code",
   "execution_count": 50,
   "metadata": {},
   "outputs": [
    {
     "data": {
      "text/plain": [
       "array([371.5])"
      ]
     },
     "execution_count": 50,
     "metadata": {},
     "output_type": "execute_result"
    }
   ],
   "source": [
    "y_test_scaled[0]"
   ]
  },
  {
   "cell_type": "code",
   "execution_count": 51,
   "metadata": {},
   "outputs": [],
   "source": [
    "pred = pd.DataFrame(results)"
   ]
  },
  {
   "cell_type": "code",
   "execution_count": 52,
   "metadata": {},
   "outputs": [],
   "source": [
    "true = pd.DataFrame(y_test_scaled)"
   ]
  },
  {
   "cell_type": "code",
   "execution_count": 53,
   "metadata": {},
   "outputs": [],
   "source": [
    "date_rng = pd.date_range(start='28-10-2017', end='31-12-2018', freq='D')\n",
    "dq = pd.DataFrame(date_rng, columns=['date'])"
   ]
  },
  {
   "cell_type": "code",
   "execution_count": 54,
   "metadata": {},
   "outputs": [
    {
     "data": {
      "text/html": [
       "<div>\n",
       "<style scoped>\n",
       "    .dataframe tbody tr th:only-of-type {\n",
       "        vertical-align: middle;\n",
       "    }\n",
       "\n",
       "    .dataframe tbody tr th {\n",
       "        vertical-align: top;\n",
       "    }\n",
       "\n",
       "    .dataframe thead th {\n",
       "        text-align: right;\n",
       "    }\n",
       "</style>\n",
       "<table border=\"1\" class=\"dataframe\">\n",
       "  <thead>\n",
       "    <tr style=\"text-align: right;\">\n",
       "      <th></th>\n",
       "      <th>Predictions</th>\n",
       "      <th>Actual</th>\n",
       "      <th>Difference %</th>\n",
       "      <th>Difference</th>\n",
       "    </tr>\n",
       "    <tr>\n",
       "      <th>Date</th>\n",
       "      <th></th>\n",
       "      <th></th>\n",
       "      <th></th>\n",
       "      <th></th>\n",
       "    </tr>\n",
       "  </thead>\n",
       "  <tbody>\n",
       "    <tr>\n",
       "      <th>2017-10-28</th>\n",
       "      <td>477.274567</td>\n",
       "      <td>371.5</td>\n",
       "      <td>-0.284723</td>\n",
       "      <td>-105.774567</td>\n",
       "    </tr>\n",
       "    <tr>\n",
       "      <th>2017-10-29</th>\n",
       "      <td>478.300507</td>\n",
       "      <td>366.0</td>\n",
       "      <td>-0.306832</td>\n",
       "      <td>-112.300507</td>\n",
       "    </tr>\n",
       "    <tr>\n",
       "      <th>2017-10-30</th>\n",
       "      <td>492.068634</td>\n",
       "      <td>372.5</td>\n",
       "      <td>-0.320990</td>\n",
       "      <td>-119.568634</td>\n",
       "    </tr>\n",
       "    <tr>\n",
       "      <th>2017-10-31</th>\n",
       "      <td>446.340851</td>\n",
       "      <td>375.0</td>\n",
       "      <td>-0.190242</td>\n",
       "      <td>-71.340851</td>\n",
       "    </tr>\n",
       "    <tr>\n",
       "      <th>2017-11-01</th>\n",
       "      <td>454.318634</td>\n",
       "      <td>369.5</td>\n",
       "      <td>-0.229550</td>\n",
       "      <td>-84.818634</td>\n",
       "    </tr>\n",
       "  </tbody>\n",
       "</table>\n",
       "</div>"
      ],
      "text/plain": [
       "            Predictions  Actual  Difference %  Difference\n",
       "Date                                                     \n",
       "2017-10-28   477.274567   371.5     -0.284723 -105.774567\n",
       "2017-10-29   478.300507   366.0     -0.306832 -112.300507\n",
       "2017-10-30   492.068634   372.5     -0.320990 -119.568634\n",
       "2017-10-31   446.340851   375.0     -0.190242  -71.340851\n",
       "2017-11-01   454.318634   369.5     -0.229550  -84.818634"
      ]
     },
     "execution_count": 54,
     "metadata": {},
     "output_type": "execute_result"
    }
   ],
   "source": [
    "pred['Date'] = dq\n",
    "pred.columns = ['Predictions', 'Date']\n",
    "true['Date'] = dq\n",
    "true.columns = ['Actual', 'Date']\n",
    "final_results = pd.merge(pred, true, on='Date')\n",
    "final_results.set_index(final_results.Date, inplace = True)\n",
    "final_results.drop('Date', axis=1, inplace=True)\n",
    "final_results['Difference %'] = ((final_results.Actual- final_results.Predictions)/final_results.Actual)\n",
    "final_results['Difference'] = (final_results.Actual- final_results.Predictions)\n",
    "final_results.head()"
   ]
  },
  {
   "cell_type": "code",
   "execution_count": 55,
   "metadata": {},
   "outputs": [],
   "source": [
    "import matplotlib.pyplot as plt\n",
    "import seaborn as sns\n",
    "%matplotlib inline"
   ]
  },
  {
   "cell_type": "code",
   "execution_count": 56,
   "metadata": {},
   "outputs": [
    {
     "data": {
      "text/plain": [
       "<matplotlib.axes._subplots.AxesSubplot at 0x7fc2b65f0410>"
      ]
     },
     "execution_count": 56,
     "metadata": {},
     "output_type": "execute_result"
    },
    {
     "data": {
      "image/png": "[encoded data removed]",
      "text/plain": [
       "<Figure size 432x288 with 1 Axes>"
      ]
     },
     "metadata": {
      "needs_background": "light"
     },
     "output_type": "display_data"
    }
   ],
   "source": [
    "sns.scatterplot('Actual', 'Predictions', data=final_results)"
   ]
  },
  {
   "cell_type": "code",
   "execution_count": 57,
   "metadata": {},
   "outputs": [
    {
     "data": {
      "text/plain": [
       "<matplotlib.axes._subplots.AxesSubplot at 0x7fc290e634d0>"
      ]
     },
     "execution_count": 57,
     "metadata": {},
     "output_type": "execute_result"
    },
    {
     "data": {
      "image/png": "[encoded data removed]",
      "text/plain": [
       "<Figure size 432x288 with 1 Axes>"
      ]
     },
     "metadata": {
      "needs_background": "light"
     },
     "output_type": "display_data"
    }
   ],
   "source": [
    "sns.distplot(final_results.Difference, bins=25)"
   ]
  },
  {
   "cell_type": "code",
   "execution_count": 58,
   "metadata": {},
   "outputs": [
    {
     "data": {
      "text/plain": [
       "<matplotlib.legend.Legend at 0x7fc250e0cad0>"
      ]
     },
     "execution_count": 58,
     "metadata": {},
     "output_type": "execute_result"
    },
    {
     "data": {
      "image/png": "[encoded data removed]",
      "text/plain": [
       "<Figure size 1152x576 with 1 Axes>"
      ]
     },
     "metadata": {
      "needs_background": "light"
     },
     "output_type": "display_data"
    }
   ],
   "source": [
    "final_results.Predictions.plot( figsize=(16,8))\n",
    "final_results.Actual.plot()\n",
    "plt.legend()"
   ]
  },
  {
   "cell_type": "code",
   "execution_count": null,
   "metadata": {},
   "outputs": [],
   "source": []
  }
 ],
 "metadata": {
  "kernelspec": {
   "display_name": "Python 3",
   "language": "python",
   "name": "python3"
  },
  "language_info": {
   "codemirror_mode": {
    "name": "ipython",
    "version": 3
   },
   "file_extension": ".py",
   "mimetype": "text/x-python",
   "name": "python",
   "nbconvert_exporter": "python",
   "pygments_lexer": "ipython3",
   "version": "3.7.4"
  }
 },
 "nbformat": 4,
 "nbformat_minor": 2
}
