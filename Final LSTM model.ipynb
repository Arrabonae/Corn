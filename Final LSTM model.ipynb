{
 "cells": [
  {
   "cell_type": "code",
   "execution_count": 1,
   "metadata": {},
   "outputs": [
    {
     "data": {
      "text/plain": [
       "'2.0.0-beta1'"
      ]
     },
     "execution_count": 1,
     "metadata": {},
     "output_type": "execute_result"
    }
   ],
   "source": [
    "import numpy as np\n",
    "import pandas as pd\n",
    "from numpy import array\n",
    "from numpy import hstack\n",
    "import matplotlib.pyplot as plt\n",
    "import seaborn as sns\n",
    "%matplotlib inline\n",
    "import tensorflow as tf\n",
    "tf.__version__"
   ]
  },
  {
   "cell_type": "markdown",
   "metadata": {},
   "source": [
    "The data transformation code is from : https://machinelearningmastery.com/how-to-develop-lstm-models-for-time-series-forecasting/"
   ]
  },
  {
   "cell_type": "code",
   "execution_count": 2,
   "metadata": {},
   "outputs": [
    {
     "data": {
      "text/plain": [
       "(2420, 8)"
      ]
     },
     "execution_count": 2,
     "metadata": {},
     "output_type": "execute_result"
    }
   ],
   "source": [
    "df = pd.read_csv('final.csv', index_col= 'Unnamed: 0')\n",
    "df = df.head(2420)\n",
    "df.shape"
   ]
  },
  {
   "cell_type": "code",
   "execution_count": 3,
   "metadata": {},
   "outputs": [
    {
     "data": {
      "text/plain": [
       "array([0.22180801, 0.21514135, 0.21533365, 0.15092663, 0.125927  ,\n",
       "       0.00784088, 0.05064523, 0.2208589 ])"
      ]
     },
     "execution_count": 3,
     "metadata": {},
     "output_type": "execute_result"
    }
   ],
   "source": [
    "#Define input sequence\n",
    "in_seq1 = array(df['Open'])\n",
    "in_seq2 = array(df['High'])\n",
    "in_seq3 = array(df['Low'])\n",
    "in_seq4 = array(df['TMAX'])\n",
    "in_seq5 = array(df['TMIN'])\n",
    "in_seq6 = array(df['PRCP'])\n",
    "in_seq7 = array(df['SNOW'])\n",
    "out_seq = array(df['Price'])\n",
    "# convert to [rows, columns] structure\n",
    "in_seq1 = in_seq1.reshape((len(in_seq1), 1))\n",
    "in_seq2 = in_seq2.reshape((len(in_seq2), 1))\n",
    "in_seq3 = in_seq3.reshape((len(in_seq3), 1))\n",
    "in_seq4 = in_seq4.reshape((len(in_seq4), 1))\n",
    "in_seq5 = in_seq5.reshape((len(in_seq5), 1))\n",
    "in_seq6 = in_seq6.reshape((len(in_seq6), 1))\n",
    "in_seq7 = in_seq7.reshape((len(in_seq7), 1))\n",
    "out_seq = out_seq.reshape((len(out_seq), 1))\n",
    "# horizontally stack columns\n",
    "dataset = hstack((in_seq2,in_seq3,in_seq1,in_seq4,in_seq5,in_seq6,in_seq7, out_seq))\n",
    "dataset[0]"
   ]
  },
  {
   "cell_type": "code",
   "execution_count": 4,
   "metadata": {},
   "outputs": [],
   "source": [
    "# split a multivariate sequence into samples\n",
    "def split_sequences(sequences, n_steps):\n",
    "    X, y = list(), list()\n",
    "    for i in range(len(sequences)):\n",
    "        # find the end of this pattern\n",
    "        end_ix = i + n_steps\n",
    "        # check if we are beyond the dataset\n",
    "        if end_ix > len(sequences):\n",
    "            break\n",
    "        # gather input and output parts of the pattern\n",
    "        seq_x, seq_y = sequences[i:end_ix, :-1], sequences[end_ix-1, -1]\n",
    "        X.append(seq_x)\n",
    "        y.append(seq_y)\n",
    "    return array(X), array(y)"
   ]
  },
  {
   "cell_type": "code",
   "execution_count": 5,
   "metadata": {},
   "outputs": [],
   "source": [
    "n_steps=2\n",
    "X, y = split_sequences(dataset, n_steps)\n",
    "X_train = X[0:-100]\n",
    "X_test = X[-101:-1]\n",
    "y_train = y[0:-100]\n",
    "y_test = y[-101:-1]\n",
    "n_features = X_train.shape[2]"
   ]
  },
  {
   "cell_type": "code",
   "execution_count": 6,
   "metadata": {},
   "outputs": [
    {
     "data": {
      "text/plain": [
       "(2319, 2, 7)"
      ]
     },
     "execution_count": 6,
     "metadata": {},
     "output_type": "execute_result"
    }
   ],
   "source": [
    "X_train.shape"
   ]
  },
  {
   "cell_type": "code",
   "execution_count": 7,
   "metadata": {},
   "outputs": [
    {
     "data": {
      "text/plain": [
       "(2319,)"
      ]
     },
     "execution_count": 7,
     "metadata": {},
     "output_type": "execute_result"
    }
   ],
   "source": [
    "y_train.shape"
   ]
  },
  {
   "cell_type": "markdown",
   "metadata": {},
   "source": [
    "the hyper parameters are comming from the optimizer model in the other notebook "
   ]
  },
  {
   "cell_type": "code",
   "execution_count": 17,
   "metadata": {},
   "outputs": [
    {
     "name": "stdout",
     "output_type": "stream",
     "text": [
      "Model: \"sequential_1\"\n",
      "_________________________________________________________________\n",
      "Layer (type)                 Output Shape              Param #   \n",
      "=================================================================\n",
      "lstm_3 (LSTM)                (None, 2, 344)            484352    \n",
      "_________________________________________________________________\n",
      "dropout_3 (Dropout)          (None, 2, 344)            0         \n",
      "_________________________________________________________________\n",
      "lstm_4 (LSTM)                (None, 2, 214)            478504    \n",
      "_________________________________________________________________\n",
      "dropout_4 (Dropout)          (None, 2, 214)            0         \n",
      "_________________________________________________________________\n",
      "lstm_5 (LSTM)                (None, 2, 287)            576296    \n",
      "_________________________________________________________________\n",
      "dropout_5 (Dropout)          (None, 2, 287)            0         \n",
      "_________________________________________________________________\n",
      "flatten_1 (Flatten)          (None, 574)               0         \n",
      "_________________________________________________________________\n",
      "dense_3 (Dense)              (None, 128)               73600     \n",
      "_________________________________________________________________\n",
      "dense_4 (Dense)              (None, 64)                8256      \n",
      "_________________________________________________________________\n",
      "dense_5 (Dense)              (None, 1)                 65        \n",
      "=================================================================\n",
      "Total params: 1,621,073\n",
      "Trainable params: 1,621,073\n",
      "Non-trainable params: 0\n",
      "_________________________________________________________________\n",
      "Train on 2319 samples\n",
      "Epoch 1/112\n",
      "2319/2319 [==============================] - 2s 1ms/sample - loss: 0.1219 - accuracy: 4.3122e-04\n",
      "Epoch 2/112\n",
      "2319/2319 [==============================] - 0s 187us/sample - loss: 0.0491 - accuracy: 8.6244e-04\n",
      "Epoch 3/112\n",
      "2319/2319 [==============================] - 0s 166us/sample - loss: 0.0122 - accuracy: 8.6244e-04\n",
      "Epoch 4/112\n",
      "2319/2319 [==============================] - 0s 174us/sample - loss: 0.0067 - accuracy: 8.6244e-04\n",
      "Epoch 5/112\n",
      "2319/2319 [==============================] - 0s 170us/sample - loss: 0.0032 - accuracy: 8.6244e-04\n",
      "Epoch 6/112\n",
      "2319/2319 [==============================] - 0s 176us/sample - loss: 0.0018 - accuracy: 8.6244e-04\n",
      "Epoch 7/112\n",
      "2319/2319 [==============================] - 0s 161us/sample - loss: 0.0014 - accuracy: 8.6244e-04\n",
      "Epoch 8/112\n",
      "2319/2319 [==============================] - 0s 185us/sample - loss: 0.0012 - accuracy: 8.6244e-04\n",
      "Epoch 9/112\n",
      "2319/2319 [==============================] - 0s 166us/sample - loss: 0.0010 - accuracy: 8.6244e-04\n",
      "Epoch 10/112\n",
      "2319/2319 [==============================] - 0s 163us/sample - loss: 9.7216e-04 - accuracy: 8.6244e-04\n",
      "Epoch 11/112\n",
      "2319/2319 [==============================] - 0s 200us/sample - loss: 8.4080e-04 - accuracy: 8.6244e-04\n",
      "Epoch 12/112\n",
      "2319/2319 [==============================] - 0s 170us/sample - loss: 8.2114e-04 - accuracy: 8.6244e-04\n",
      "Epoch 13/112\n",
      "2319/2319 [==============================] - 0s 171us/sample - loss: 8.0591e-04 - accuracy: 8.6244e-04\n",
      "Epoch 14/112\n",
      "2319/2319 [==============================] - 0s 160us/sample - loss: 7.6395e-04 - accuracy: 8.6244e-04\n",
      "Epoch 15/112\n",
      "2319/2319 [==============================] - 0s 155us/sample - loss: 7.3807e-04 - accuracy: 8.6244e-04\n",
      "Epoch 16/112\n",
      "2319/2319 [==============================] - 0s 164us/sample - loss: 7.3468e-04 - accuracy: 8.6244e-04\n",
      "Epoch 17/112\n",
      "2319/2319 [==============================] - 0s 161us/sample - loss: 7.8527e-04 - accuracy: 8.6244e-04\n",
      "Epoch 18/112\n",
      "2319/2319 [==============================] - 0s 153us/sample - loss: 7.2091e-04 - accuracy: 8.6244e-04\n",
      "Epoch 19/112\n",
      "2319/2319 [==============================] - 0s 172us/sample - loss: 7.4531e-04 - accuracy: 8.6244e-04\n",
      "Epoch 20/112\n",
      "2319/2319 [==============================] - 0s 165us/sample - loss: 6.9828e-04 - accuracy: 8.6244e-04\n",
      "Epoch 21/112\n",
      "2319/2319 [==============================] - 0s 172us/sample - loss: 6.7057e-04 - accuracy: 8.6244e-04\n",
      "Epoch 22/112\n",
      "2319/2319 [==============================] - 0s 184us/sample - loss: 6.9970e-04 - accuracy: 8.6244e-04\n",
      "Epoch 23/112\n",
      "2319/2319 [==============================] - 0s 182us/sample - loss: 7.3378e-04 - accuracy: 8.6244e-04\n",
      "Epoch 24/112\n",
      "2319/2319 [==============================] - 0s 169us/sample - loss: 7.1861e-04 - accuracy: 8.6244e-04\n",
      "Epoch 25/112\n",
      "2319/2319 [==============================] - 0s 187us/sample - loss: 7.2134e-04 - accuracy: 8.6244e-04\n",
      "Epoch 26/112\n",
      "2319/2319 [==============================] - 0s 192us/sample - loss: 6.9682e-04 - accuracy: 8.6244e-04\n",
      "Epoch 27/112\n",
      "2319/2319 [==============================] - 0s 175us/sample - loss: 7.1919e-04 - accuracy: 8.6244e-04\n",
      "Epoch 28/112\n",
      "2319/2319 [==============================] - 0s 170us/sample - loss: 6.4835e-04 - accuracy: 8.6244e-04\n",
      "Epoch 29/112\n",
      "2319/2319 [==============================] - 0s 173us/sample - loss: 6.5297e-04 - accuracy: 8.6244e-04\n",
      "Epoch 30/112\n",
      "2319/2319 [==============================] - 0s 166us/sample - loss: 6.3797e-04 - accuracy: 8.6244e-04\n",
      "Epoch 31/112\n",
      "2319/2319 [==============================] - 0s 168us/sample - loss: 6.3090e-04 - accuracy: 8.6244e-04\n",
      "Epoch 32/112\n",
      "2319/2319 [==============================] - 0s 186us/sample - loss: 5.8563e-04 - accuracy: 8.6244e-04\n",
      "Epoch 33/112\n",
      "2319/2319 [==============================] - 0s 168us/sample - loss: 6.6452e-04 - accuracy: 8.6244e-04\n",
      "Epoch 34/112\n",
      "2319/2319 [==============================] - 0s 162us/sample - loss: 6.5591e-04 - accuracy: 8.6244e-04\n",
      "Epoch 35/112\n",
      "2319/2319 [==============================] - 0s 169us/sample - loss: 6.2498e-04 - accuracy: 8.6244e-04\n",
      "Epoch 36/112\n",
      "2319/2319 [==============================] - 0s 182us/sample - loss: 6.2886e-04 - accuracy: 8.6244e-04\n",
      "Epoch 37/112\n",
      "2319/2319 [==============================] - 0s 180us/sample - loss: 5.9310e-04 - accuracy: 8.6244e-04\n",
      "Epoch 38/112\n",
      "2319/2319 [==============================] - 0s 171us/sample - loss: 5.8964e-04 - accuracy: 8.6244e-04\n",
      "Epoch 39/112\n",
      "2319/2319 [==============================] - 0s 159us/sample - loss: 6.6848e-04 - accuracy: 8.6244e-04\n",
      "Epoch 40/112\n",
      "2319/2319 [==============================] - 0s 160us/sample - loss: 6.2901e-04 - accuracy: 8.6244e-04\n",
      "Epoch 41/112\n",
      "2319/2319 [==============================] - 0s 172us/sample - loss: 5.9690e-04 - accuracy: 8.6244e-04\n",
      "Epoch 42/112\n",
      "2319/2319 [==============================] - 0s 165us/sample - loss: 6.2783e-04 - accuracy: 8.6244e-04\n",
      "Epoch 43/112\n",
      "2319/2319 [==============================] - 0s 166us/sample - loss: 6.0254e-04 - accuracy: 8.6244e-04\n",
      "Epoch 44/112\n",
      "2319/2319 [==============================] - 0s 168us/sample - loss: 5.9721e-04 - accuracy: 8.6244e-04\n",
      "Epoch 45/112\n",
      "2319/2319 [==============================] - 0s 164us/sample - loss: 5.7933e-04 - accuracy: 8.6244e-04\n",
      "Epoch 46/112\n",
      "2319/2319 [==============================] - 0s 174us/sample - loss: 5.7758e-04 - accuracy: 8.6244e-04\n",
      "Epoch 47/112\n",
      "2319/2319 [==============================] - 0s 162us/sample - loss: 5.4653e-04 - accuracy: 8.6244e-04\n",
      "Epoch 48/112\n",
      "2319/2319 [==============================] - 0s 167us/sample - loss: 5.5789e-04 - accuracy: 8.6244e-04\n",
      "Epoch 49/112\n",
      "2319/2319 [==============================] - 0s 169us/sample - loss: 5.8425e-04 - accuracy: 8.6244e-04\n",
      "Epoch 50/112\n",
      "2319/2319 [==============================] - 0s 184us/sample - loss: 6.6127e-04 - accuracy: 8.6244e-04\n",
      "Epoch 51/112\n",
      "2319/2319 [==============================] - 0s 177us/sample - loss: 6.2686e-04 - accuracy: 8.6244e-04\n",
      "Epoch 52/112\n",
      "2319/2319 [==============================] - 0s 163us/sample - loss: 6.8441e-04 - accuracy: 8.6244e-04\n",
      "Epoch 53/112\n",
      "2319/2319 [==============================] - 0s 166us/sample - loss: 6.7721e-04 - accuracy: 8.6244e-04\n",
      "Epoch 54/112\n",
      "2319/2319 [==============================] - 0s 165us/sample - loss: 6.1966e-04 - accuracy: 8.6244e-04\n",
      "Epoch 55/112\n",
      "2319/2319 [==============================] - 0s 180us/sample - loss: 5.2933e-04 - accuracy: 8.6244e-04\n",
      "Epoch 56/112\n",
      "2319/2319 [==============================] - 0s 188us/sample - loss: 5.3731e-04 - accuracy: 8.6244e-04\n",
      "Epoch 57/112\n"
     ]
    },
    {
     "name": "stdout",
     "output_type": "stream",
     "text": [
      "2319/2319 [==============================] - 0s 180us/sample - loss: 4.8543e-04 - accuracy: 8.6244e-04 - loss: 4.5368e-04 - accuracy: 5.6883\n",
      "Epoch 58/112\n",
      "2319/2319 [==============================] - 0s 181us/sample - loss: 5.1546e-04 - accuracy: 8.6244e-04\n",
      "Epoch 59/112\n",
      "2319/2319 [==============================] - 0s 184us/sample - loss: 4.9954e-04 - accuracy: 8.6244e-04\n",
      "Epoch 60/112\n",
      "2319/2319 [==============================] - 0s 186us/sample - loss: 5.0699e-04 - accuracy: 8.6244e-04\n",
      "Epoch 61/112\n",
      "2319/2319 [==============================] - 0s 187us/sample - loss: 5.7729e-04 - accuracy: 8.6244e-04\n",
      "Epoch 62/112\n",
      "2319/2319 [==============================] - 0s 176us/sample - loss: 6.0363e-04 - accuracy: 8.6244e-04\n",
      "Epoch 63/112\n",
      "2319/2319 [==============================] - 0s 175us/sample - loss: 5.2572e-04 - accuracy: 8.6244e-04\n",
      "Epoch 64/112\n",
      "2319/2319 [==============================] - 0s 175us/sample - loss: 5.8358e-04 - accuracy: 8.6244e-04\n",
      "Epoch 65/112\n",
      "2319/2319 [==============================] - 0s 178us/sample - loss: 5.8755e-04 - accuracy: 8.6244e-04\n",
      "Epoch 66/112\n",
      "2319/2319 [==============================] - 0s 191us/sample - loss: 5.9440e-04 - accuracy: 8.6244e-04\n",
      "Epoch 67/112\n",
      "2319/2319 [==============================] - 0s 170us/sample - loss: 4.6917e-04 - accuracy: 8.6244e-04\n",
      "Epoch 68/112\n",
      "2319/2319 [==============================] - 0s 174us/sample - loss: 4.7113e-04 - accuracy: 8.6244e-04\n",
      "Epoch 69/112\n",
      "2319/2319 [==============================] - 0s 183us/sample - loss: 5.1084e-04 - accuracy: 8.6244e-04\n",
      "Epoch 70/112\n",
      "2319/2319 [==============================] - 0s 185us/sample - loss: 5.5714e-04 - accuracy: 8.6244e-04\n",
      "Epoch 71/112\n",
      "2319/2319 [==============================] - 0s 180us/sample - loss: 5.1896e-04 - accuracy: 8.6244e-04\n",
      "Epoch 72/112\n",
      "2319/2319 [==============================] - 0s 160us/sample - loss: 4.4726e-04 - accuracy: 8.6244e-04\n",
      "Epoch 73/112\n",
      "2319/2319 [==============================] - 0s 171us/sample - loss: 4.2169e-04 - accuracy: 8.6244e-04\n",
      "Epoch 74/112\n",
      "2319/2319 [==============================] - 0s 175us/sample - loss: 4.9608e-04 - accuracy: 8.6244e-04\n",
      "Epoch 75/112\n",
      "2319/2319 [==============================] - 0s 169us/sample - loss: 5.3765e-04 - accuracy: 8.6244e-04\n",
      "Epoch 76/112\n",
      "2319/2319 [==============================] - 0s 172us/sample - loss: 5.1105e-04 - accuracy: 8.6244e-04\n",
      "Epoch 77/112\n",
      "2319/2319 [==============================] - 0s 177us/sample - loss: 4.7527e-04 - accuracy: 8.6244e-04\n",
      "Epoch 78/112\n",
      "2319/2319 [==============================] - 0s 185us/sample - loss: 4.1024e-04 - accuracy: 8.6244e-04\n",
      "Epoch 79/112\n",
      "2319/2319 [==============================] - 0s 187us/sample - loss: 5.0304e-04 - accuracy: 8.6244e-04\n",
      "Epoch 80/112\n",
      "2319/2319 [==============================] - 0s 159us/sample - loss: 3.8687e-04 - accuracy: 8.6244e-04\n",
      "Epoch 81/112\n",
      "2319/2319 [==============================] - 0s 168us/sample - loss: 5.0173e-04 - accuracy: 8.6244e-04\n",
      "Epoch 82/112\n",
      "2319/2319 [==============================] - 0s 175us/sample - loss: 3.9675e-04 - accuracy: 8.6244e-04\n",
      "Epoch 83/112\n",
      "2319/2319 [==============================] - 0s 198us/sample - loss: 3.4401e-04 - accuracy: 8.6244e-04\n",
      "Epoch 84/112\n",
      "2319/2319 [==============================] - 0s 196us/sample - loss: 4.1889e-04 - accuracy: 8.6244e-04\n",
      "Epoch 85/112\n",
      "2319/2319 [==============================] - 0s 186us/sample - loss: 3.9216e-04 - accuracy: 8.6244e-04\n",
      "Epoch 86/112\n",
      "2319/2319 [==============================] - 0s 203us/sample - loss: 3.4638e-04 - accuracy: 8.6244e-04\n",
      "Epoch 87/112\n",
      "2319/2319 [==============================] - 0s 208us/sample - loss: 3.7248e-04 - accuracy: 8.6244e-04\n",
      "Epoch 88/112\n",
      "2319/2319 [==============================] - 0s 194us/sample - loss: 4.2846e-04 - accuracy: 8.6244e-04\n",
      "Epoch 89/112\n",
      "2319/2319 [==============================] - 0s 179us/sample - loss: 3.6721e-04 - accuracy: 8.6244e-04\n",
      "Epoch 90/112\n",
      "2319/2319 [==============================] - 1s 248us/sample - loss: 4.3114e-04 - accuracy: 8.6244e-04\n",
      "Epoch 91/112\n",
      "2319/2319 [==============================] - 1s 239us/sample - loss: 3.1407e-04 - accuracy: 8.6244e-04\n",
      "Epoch 92/112\n",
      "2319/2319 [==============================] - 1s 228us/sample - loss: 3.1990e-04 - accuracy: 8.6244e-04\n",
      "Epoch 93/112\n",
      "2319/2319 [==============================] - 1s 305us/sample - loss: 3.2091e-04 - accuracy: 8.6244e-04\n",
      "Epoch 94/112\n",
      "2319/2319 [==============================] - 0s 201us/sample - loss: 3.1730e-04 - accuracy: 8.6244e-04\n",
      "Epoch 95/112\n",
      "2319/2319 [==============================] - 0s 193us/sample - loss: 2.9380e-04 - accuracy: 8.6244e-04\n",
      "Epoch 96/112\n",
      "2319/2319 [==============================] - 0s 204us/sample - loss: 3.6907e-04 - accuracy: 8.6244e-04\n",
      "Epoch 97/112\n",
      "2319/2319 [==============================] - 1s 227us/sample - loss: 6.2081e-04 - accuracy: 8.6244e-04\n",
      "Epoch 98/112\n",
      "2319/2319 [==============================] - 0s 198us/sample - loss: 3.9063e-04 - accuracy: 8.6244e-04\n",
      "Epoch 99/112\n",
      "2319/2319 [==============================] - 0s 214us/sample - loss: 5.0058e-04 - accuracy: 8.6244e-04\n",
      "Epoch 100/112\n",
      "2319/2319 [==============================] - 0s 197us/sample - loss: 3.9027e-04 - accuracy: 8.6244e-04\n",
      "Epoch 101/112\n",
      "2319/2319 [==============================] - 0s 212us/sample - loss: 3.7992e-04 - accuracy: 8.6244e-04\n",
      "Epoch 102/112\n",
      "2319/2319 [==============================] - 0s 208us/sample - loss: 4.1001e-04 - accuracy: 8.6244e-04\n",
      "Epoch 103/112\n",
      "2319/2319 [==============================] - 0s 193us/sample - loss: 3.0984e-04 - accuracy: 8.6244e-04\n",
      "Epoch 104/112\n",
      "2319/2319 [==============================] - 0s 203us/sample - loss: 4.2418e-04 - accuracy: 8.6244e-04\n",
      "Epoch 105/112\n",
      "2319/2319 [==============================] - 1s 346us/sample - loss: 4.8948e-04 - accuracy: 8.6244e-04\n",
      "Epoch 106/112\n",
      "2319/2319 [==============================] - 1s 305us/sample - loss: 3.9349e-04 - accuracy: 8.6244e-04\n",
      "Epoch 107/112\n",
      "2319/2319 [==============================] - 1s 344us/sample - loss: 4.7317e-04 - accuracy: 8.6244e-04\n",
      "Epoch 108/112\n",
      "2319/2319 [==============================] - 1s 288us/sample - loss: 3.8007e-04 - accuracy: 8.6244e-04\n",
      "Epoch 109/112\n",
      "2319/2319 [==============================] - 0s 204us/sample - loss: 3.2771e-04 - accuracy: 8.6244e-04\n",
      "Epoch 110/112\n",
      "2319/2319 [==============================] - 0s 215us/sample - loss: 2.8857e-04 - accuracy: 8.6244e-04\n",
      "Epoch 111/112\n",
      "2319/2319 [==============================] - 0s 201us/sample - loss: 2.9649e-04 - accuracy: 8.6244e-04\n",
      "Epoch 112/112\n",
      "2319/2319 [==============================] - 0s 214us/sample - loss: 2.9488e-04 - accuracy: 8.6244e-04\n"
     ]
    }
   ],
   "source": [
    "# define model\n",
    "model = tf.keras.models.Sequential([\n",
    "        tf.keras.layers.LSTM(344, return_sequences=True, input_shape=(n_steps, n_features)),\n",
    "        tf.keras.layers.Dropout(0.1677),\n",
    "        tf.keras.layers.LSTM(214,\n",
    "                  return_sequences=True),\n",
    "        tf.keras.layers.Dropout(0.2741),\n",
    "        tf.keras.layers.LSTM(287,\n",
    "                  return_sequences=True),\n",
    "        tf.keras.layers.Dropout(0.08178),\n",
    "        tf.keras.layers.Flatten(),\n",
    "        tf.keras.layers.Dense(128, activation='relu'),\n",
    "        tf.keras.layers.Dense(64, activation='relu'),\n",
    "        tf.keras.layers.Dense(1),\n",
    "    ])\n",
    "model.summary()\n",
    "adam=tf.keras.optimizers.Adam(lr=0.003711, epsilon=None, amsgrad=True, decay=0)\n",
    "model.compile(loss ='mean_squared_error', optimizer=adam, metrics=['accuracy'])\n",
    "\n",
    "history = model.fit(X_train, y_train, epochs=112, batch_size=293, verbose=1)"
   ]
  },
  {
   "cell_type": "code",
   "execution_count": null,
   "metadata": {},
   "outputs": [],
   "source": []
  },
  {
   "cell_type": "code",
   "execution_count": 48,
   "metadata": {},
   "outputs": [
    {
     "data": {
      "text/plain": [
       "<matplotlib.legend.Legend at 0x7f7e62c05dd0>"
      ]
     },
     "execution_count": 48,
     "metadata": {},
     "output_type": "execute_result"
    },
    {
     "data": {
      "image/png": "[encoded data removed]",
      "text/plain": [
       "<Figure size 432x288 with 1 Axes>"
      ]
     },
     "metadata": {
      "needs_background": "light"
     },
     "output_type": "display_data"
    }
   ],
   "source": [
    "plt.plot(history.history['accuracy'], label ='accuracy')\n",
    "plt.plot(history.history['loss'], label ='Loss')\n",
    "plt.legend()"
   ]
  },
  {
   "cell_type": "code",
   "execution_count": 49,
   "metadata": {},
   "outputs": [
    {
     "name": "stdout",
     "output_type": "stream",
     "text": [
      "100/100 [==============================] - 1s 13ms/sample\n"
     ]
    }
   ],
   "source": [
    "yhat = model.predict(X_test, verbose=1)"
   ]
  },
  {
   "cell_type": "code",
   "execution_count": 50,
   "metadata": {},
   "outputs": [
    {
     "data": {
      "text/html": [
       "<div>\n",
       "<style scoped>\n",
       "    .dataframe tbody tr th:only-of-type {\n",
       "        vertical-align: middle;\n",
       "    }\n",
       "\n",
       "    .dataframe tbody tr th {\n",
       "        vertical-align: top;\n",
       "    }\n",
       "\n",
       "    .dataframe thead th {\n",
       "        text-align: right;\n",
       "    }\n",
       "</style>\n",
       "<table border=\"1\" class=\"dataframe\">\n",
       "  <thead>\n",
       "    <tr style=\"text-align: right;\">\n",
       "      <th></th>\n",
       "      <th>Predictions</th>\n",
       "      <th>Actual</th>\n",
       "      <th>Difference %</th>\n",
       "      <th>Difference</th>\n",
       "    </tr>\n",
       "    <tr>\n",
       "      <th>Date</th>\n",
       "      <th></th>\n",
       "      <th></th>\n",
       "      <th></th>\n",
       "      <th></th>\n",
       "    </tr>\n",
       "  </thead>\n",
       "  <tbody>\n",
       "    <tr>\n",
       "      <td>2018-09-22</td>\n",
       "      <td>0.118830</td>\n",
       "      <td>0.106182</td>\n",
       "      <td>-0.119112</td>\n",
       "      <td>-0.012648</td>\n",
       "    </tr>\n",
       "    <tr>\n",
       "      <td>2018-09-23</td>\n",
       "      <td>0.106526</td>\n",
       "      <td>0.103823</td>\n",
       "      <td>-0.026041</td>\n",
       "      <td>-0.002704</td>\n",
       "    </tr>\n",
       "    <tr>\n",
       "      <td>2018-09-24</td>\n",
       "      <td>0.103647</td>\n",
       "      <td>0.114677</td>\n",
       "      <td>0.096178</td>\n",
       "      <td>0.011029</td>\n",
       "    </tr>\n",
       "    <tr>\n",
       "      <td>2018-09-25</td>\n",
       "      <td>0.109011</td>\n",
       "      <td>0.113261</td>\n",
       "      <td>0.037525</td>\n",
       "      <td>0.004250</td>\n",
       "    </tr>\n",
       "    <tr>\n",
       "      <td>2018-09-26</td>\n",
       "      <td>0.112978</td>\n",
       "      <td>0.120340</td>\n",
       "      <td>0.061174</td>\n",
       "      <td>0.007362</td>\n",
       "    </tr>\n",
       "  </tbody>\n",
       "</table>\n",
       "</div>"
      ],
      "text/plain": [
       "            Predictions    Actual  Difference %  Difference\n",
       "Date                                                       \n",
       "2018-09-22     0.118830  0.106182     -0.119112   -0.012648\n",
       "2018-09-23     0.106526  0.103823     -0.026041   -0.002704\n",
       "2018-09-24     0.103647  0.114677      0.096178    0.011029\n",
       "2018-09-25     0.109011  0.113261      0.037525    0.004250\n",
       "2018-09-26     0.112978  0.120340      0.061174    0.007362"
      ]
     },
     "execution_count": 50,
     "metadata": {},
     "output_type": "execute_result"
    }
   ],
   "source": [
    "from sklearn.preprocessing import MinMaxScaler\n",
    "results = np.array(yhat).reshape(100,1)\n",
    "y_test_scaled = np.array(y_test).reshape(100,1)\n",
    "pred = pd.DataFrame(results)\n",
    "true = pd.DataFrame(y_test_scaled)\n",
    "date_rng = pd.date_range(start='22-09-2018', end='31-12-2018', freq='D')\n",
    "dq = pd.DataFrame(date_rng, columns=['date'])\n",
    "pred['Date'] = dq\n",
    "pred.columns = ['Predictions', 'Date']\n",
    "true['Date'] = dq\n",
    "true.columns = ['Actual', 'Date']\n",
    "final_results = pd.merge(pred, true, on='Date')\n",
    "final_results.set_index(final_results.Date, inplace = True)\n",
    "final_results.drop('Date', axis=1, inplace=True)\n",
    "final_results['Difference %'] = ((final_results.Actual- final_results.Predictions)/final_results.Actual)\n",
    "final_results['Difference'] = (final_results.Actual- final_results.Predictions)\n",
    "final_results.head()"
   ]
  },
  {
   "cell_type": "code",
   "execution_count": 51,
   "metadata": {},
   "outputs": [
    {
     "data": {
      "text/plain": [
       "<matplotlib.axes._subplots.AxesSubplot at 0x7f7e73340550>"
      ]
     },
     "execution_count": 51,
     "metadata": {},
     "output_type": "execute_result"
    },
    {
     "data": {
      "image/png": "[encoded data removed]",
      "text/plain": [
       "<Figure size 432x288 with 1 Axes>"
      ]
     },
     "metadata": {
      "needs_background": "light"
     },
     "output_type": "display_data"
    }
   ],
   "source": [
    "sns.scatterplot('Actual', 'Predictions', data=final_results)"
   ]
  },
  {
   "cell_type": "code",
   "execution_count": 52,
   "metadata": {},
   "outputs": [
    {
     "data": {
      "text/plain": [
       "<matplotlib.axes._subplots.AxesSubplot at 0x7f7e40521690>"
      ]
     },
     "execution_count": 52,
     "metadata": {},
     "output_type": "execute_result"
    },
    {
     "data": {
      "image/png": "[encoded data removed]",
      "text/plain": [
       "<Figure size 432x288 with 1 Axes>"
      ]
     },
     "metadata": {
      "needs_background": "light"
     },
     "output_type": "display_data"
    }
   ],
   "source": [
    "sns.distplot(final_results.Difference, bins=25)"
   ]
  },
  {
   "cell_type": "code",
   "execution_count": 53,
   "metadata": {},
   "outputs": [
    {
     "data": {
      "text/plain": [
       "<matplotlib.legend.Legend at 0x7f7e75cac350>"
      ]
     },
     "execution_count": 53,
     "metadata": {},
     "output_type": "execute_result"
    },
    {
     "data": {
      "image/png": "[encoded data removed]",
      "text/plain": [
       "<Figure size 1152x576 with 1 Axes>"
      ]
     },
     "metadata": {
      "needs_background": "light"
     },
     "output_type": "display_data"
    }
   ],
   "source": [
    "final_results.Predictions.plot( figsize=(16,8))\n",
    "final_results.Actual.plot()\n",
    "plt.legend()"
   ]
  },
  {
   "cell_type": "code",
   "execution_count": null,
   "metadata": {},
   "outputs": [],
   "source": []
  }
 ],
 "metadata": {
  "kernelspec": {
   "display_name": "Python 3",
   "language": "python",
   "name": "python3"
  },
  "language_info": {
   "codemirror_mode": {
    "name": "ipython",
    "version": 3
   },
   "file_extension": ".py",
   "mimetype": "text/x-python",
   "name": "python",
   "nbconvert_exporter": "python",
   "pygments_lexer": "ipython3",
   "version": "3.7.4"
  }
 },
 "nbformat": 4,
 "nbformat_minor": 2
}
