{
 "cells": [
  {
   "cell_type": "code",
   "execution_count": 1,
   "metadata": {},
   "outputs": [],
   "source": [
    "import numpy as np\n",
    "import pandas as pd"
   ]
  },
  {
   "cell_type": "code",
   "execution_count": 2,
   "metadata": {},
   "outputs": [],
   "source": [
    "weather = pd.read_csv('Datasets/weather.csv', index_col = 'Date')\n",
    "price = pd.read_csv('Datasets/Data.csv', index_col='Date', parse_dates=True)"
   ]
  },
  {
   "cell_type": "code",
   "execution_count": 3,
   "metadata": {},
   "outputs": [
    {
     "data": {
      "text/html": [
       "<div>\n",
       "<style scoped>\n",
       "    .dataframe tbody tr th:only-of-type {\n",
       "        vertical-align: middle;\n",
       "    }\n",
       "\n",
       "    .dataframe tbody tr th {\n",
       "        vertical-align: top;\n",
       "    }\n",
       "\n",
       "    .dataframe thead th {\n",
       "        text-align: right;\n",
       "    }\n",
       "</style>\n",
       "<table border=\"1\" class=\"dataframe\">\n",
       "  <thead>\n",
       "    <tr style=\"text-align: right;\">\n",
       "      <th></th>\n",
       "      <th>Price</th>\n",
       "      <th>Open</th>\n",
       "      <th>High</th>\n",
       "      <th>Low</th>\n",
       "      <th>Vol.</th>\n",
       "      <th>Change %</th>\n",
       "    </tr>\n",
       "    <tr>\n",
       "      <th>Date</th>\n",
       "      <th></th>\n",
       "      <th></th>\n",
       "      <th></th>\n",
       "      <th></th>\n",
       "      <th></th>\n",
       "      <th></th>\n",
       "    </tr>\n",
       "  </thead>\n",
       "  <tbody>\n",
       "    <tr>\n",
       "      <th>2010-01-04</th>\n",
       "      <td>418.50</td>\n",
       "      <td>415.75</td>\n",
       "      <td>426.25</td>\n",
       "      <td>413.25</td>\n",
       "      <td>140.55K</td>\n",
       "      <td>1.03%</td>\n",
       "    </tr>\n",
       "    <tr>\n",
       "      <th>2010-01-05</th>\n",
       "      <td>418.75</td>\n",
       "      <td>417.25</td>\n",
       "      <td>420.00</td>\n",
       "      <td>415.25</td>\n",
       "      <td>80.97K</td>\n",
       "      <td>0.06%</td>\n",
       "    </tr>\n",
       "    <tr>\n",
       "      <th>2010-01-06</th>\n",
       "      <td>421.75</td>\n",
       "      <td>418.00</td>\n",
       "      <td>422.00</td>\n",
       "      <td>416.00</td>\n",
       "      <td>96.45K</td>\n",
       "      <td>0.72%</td>\n",
       "    </tr>\n",
       "    <tr>\n",
       "      <th>2010-01-07</th>\n",
       "      <td>417.50</td>\n",
       "      <td>421.00</td>\n",
       "      <td>424.00</td>\n",
       "      <td>414.50</td>\n",
       "      <td>137.40K</td>\n",
       "      <td>-1.01%</td>\n",
       "    </tr>\n",
       "    <tr>\n",
       "      <th>2010-01-08</th>\n",
       "      <td>423.00</td>\n",
       "      <td>417.50</td>\n",
       "      <td>423.75</td>\n",
       "      <td>415.00</td>\n",
       "      <td>135.00K</td>\n",
       "      <td>1.32%</td>\n",
       "    </tr>\n",
       "  </tbody>\n",
       "</table>\n",
       "</div>"
      ],
      "text/plain": [
       "             Price    Open    High     Low     Vol. Change %\n",
       "Date                                                        \n",
       "2010-01-04  418.50  415.75  426.25  413.25  140.55K    1.03%\n",
       "2010-01-05  418.75  417.25  420.00  415.25   80.97K    0.06%\n",
       "2010-01-06  421.75  418.00  422.00  416.00   96.45K    0.72%\n",
       "2010-01-07  417.50  421.00  424.00  414.50  137.40K   -1.01%\n",
       "2010-01-08  423.00  417.50  423.75  415.00  135.00K    1.32%"
      ]
     },
     "execution_count": 3,
     "metadata": {},
     "output_type": "execute_result"
    }
   ],
   "source": [
    "price = price[(price.index > '2010-01-01') & (price.index < '2019-01-01')]\n",
    "price = price[::-1]\n",
    "price.head()"
   ]
  },
  {
   "cell_type": "code",
   "execution_count": 4,
   "metadata": {},
   "outputs": [
    {
     "data": {
      "text/html": [
       "<div>\n",
       "<style scoped>\n",
       "    .dataframe tbody tr th:only-of-type {\n",
       "        vertical-align: middle;\n",
       "    }\n",
       "\n",
       "    .dataframe tbody tr th {\n",
       "        vertical-align: top;\n",
       "    }\n",
       "\n",
       "    .dataframe thead th {\n",
       "        text-align: right;\n",
       "    }\n",
       "</style>\n",
       "<table border=\"1\" class=\"dataframe\">\n",
       "  <thead>\n",
       "    <tr style=\"text-align: right;\">\n",
       "      <th></th>\n",
       "      <th>TMAX</th>\n",
       "      <th>TMIN</th>\n",
       "      <th>PRCP</th>\n",
       "      <th>SNOW</th>\n",
       "    </tr>\n",
       "    <tr>\n",
       "      <th>Date</th>\n",
       "      <th></th>\n",
       "      <th></th>\n",
       "      <th></th>\n",
       "      <th></th>\n",
       "    </tr>\n",
       "  </thead>\n",
       "  <tbody>\n",
       "    <tr>\n",
       "      <th>2010-01-01</th>\n",
       "      <td>-31.046402</td>\n",
       "      <td>-74.829545</td>\n",
       "      <td>3.594223</td>\n",
       "      <td>4.698390</td>\n",
       "    </tr>\n",
       "    <tr>\n",
       "      <th>2010-01-02</th>\n",
       "      <td>-52.175943</td>\n",
       "      <td>-101.472170</td>\n",
       "      <td>3.552830</td>\n",
       "      <td>7.444340</td>\n",
       "    </tr>\n",
       "    <tr>\n",
       "      <th>2010-01-03</th>\n",
       "      <td>-57.468414</td>\n",
       "      <td>-103.546093</td>\n",
       "      <td>2.228358</td>\n",
       "      <td>5.344408</td>\n",
       "    </tr>\n",
       "    <tr>\n",
       "      <th>2010-01-04</th>\n",
       "      <td>-46.521938</td>\n",
       "      <td>-88.392139</td>\n",
       "      <td>2.521024</td>\n",
       "      <td>5.994973</td>\n",
       "    </tr>\n",
       "    <tr>\n",
       "      <th>2010-01-05</th>\n",
       "      <td>-40.622883</td>\n",
       "      <td>-76.595881</td>\n",
       "      <td>2.895195</td>\n",
       "      <td>4.625172</td>\n",
       "    </tr>\n",
       "  </tbody>\n",
       "</table>\n",
       "</div>"
      ],
      "text/plain": [
       "                 TMAX        TMIN      PRCP      SNOW\n",
       "Date                                                 \n",
       "2010-01-01 -31.046402  -74.829545  3.594223  4.698390\n",
       "2010-01-02 -52.175943 -101.472170  3.552830  7.444340\n",
       "2010-01-03 -57.468414 -103.546093  2.228358  5.344408\n",
       "2010-01-04 -46.521938  -88.392139  2.521024  5.994973\n",
       "2010-01-05 -40.622883  -76.595881  2.895195  4.625172"
      ]
     },
     "execution_count": 4,
     "metadata": {},
     "output_type": "execute_result"
    }
   ],
   "source": [
    "weather.head()"
   ]
  },
  {
   "cell_type": "code",
   "execution_count": 5,
   "metadata": {},
   "outputs": [
    {
     "data": {
      "text/html": [
       "<div>\n",
       "<style scoped>\n",
       "    .dataframe tbody tr th:only-of-type {\n",
       "        vertical-align: middle;\n",
       "    }\n",
       "\n",
       "    .dataframe tbody tr th {\n",
       "        vertical-align: top;\n",
       "    }\n",
       "\n",
       "    .dataframe thead th {\n",
       "        text-align: right;\n",
       "    }\n",
       "</style>\n",
       "<table border=\"1\" class=\"dataframe\">\n",
       "  <thead>\n",
       "    <tr style=\"text-align: right;\">\n",
       "      <th></th>\n",
       "      <th>Price</th>\n",
       "      <th>Open</th>\n",
       "      <th>High</th>\n",
       "      <th>Low</th>\n",
       "      <th>Vol.</th>\n",
       "      <th>Change %</th>\n",
       "      <th>TMAX</th>\n",
       "      <th>TMIN</th>\n",
       "      <th>PRCP</th>\n",
       "      <th>SNOW</th>\n",
       "    </tr>\n",
       "    <tr>\n",
       "      <th>Date</th>\n",
       "      <th></th>\n",
       "      <th></th>\n",
       "      <th></th>\n",
       "      <th></th>\n",
       "      <th></th>\n",
       "      <th></th>\n",
       "      <th></th>\n",
       "      <th></th>\n",
       "      <th></th>\n",
       "      <th></th>\n",
       "    </tr>\n",
       "  </thead>\n",
       "  <tbody>\n",
       "    <tr>\n",
       "      <th>2010-01-04</th>\n",
       "      <td>418.50</td>\n",
       "      <td>415.75</td>\n",
       "      <td>426.25</td>\n",
       "      <td>413.25</td>\n",
       "      <td>140.55K</td>\n",
       "      <td>1.03%</td>\n",
       "      <td>-46.521938</td>\n",
       "      <td>-88.392139</td>\n",
       "      <td>2.521024</td>\n",
       "      <td>5.994973</td>\n",
       "    </tr>\n",
       "    <tr>\n",
       "      <th>2010-01-05</th>\n",
       "      <td>418.75</td>\n",
       "      <td>417.25</td>\n",
       "      <td>420.00</td>\n",
       "      <td>415.25</td>\n",
       "      <td>80.97K</td>\n",
       "      <td>0.06%</td>\n",
       "      <td>-40.622883</td>\n",
       "      <td>-76.595881</td>\n",
       "      <td>2.895195</td>\n",
       "      <td>4.625172</td>\n",
       "    </tr>\n",
       "    <tr>\n",
       "      <th>2010-01-06</th>\n",
       "      <td>421.75</td>\n",
       "      <td>418.00</td>\n",
       "      <td>422.00</td>\n",
       "      <td>416.00</td>\n",
       "      <td>96.45K</td>\n",
       "      <td>0.72%</td>\n",
       "      <td>-34.017431</td>\n",
       "      <td>-72.576606</td>\n",
       "      <td>3.870642</td>\n",
       "      <td>3.200000</td>\n",
       "    </tr>\n",
       "    <tr>\n",
       "      <th>2010-01-07</th>\n",
       "      <td>417.50</td>\n",
       "      <td>421.00</td>\n",
       "      <td>424.00</td>\n",
       "      <td>414.50</td>\n",
       "      <td>137.40K</td>\n",
       "      <td>-1.01%</td>\n",
       "      <td>-30.523176</td>\n",
       "      <td>-61.433685</td>\n",
       "      <td>31.739330</td>\n",
       "      <td>45.121615</td>\n",
       "    </tr>\n",
       "    <tr>\n",
       "      <th>2010-01-08</th>\n",
       "      <td>423.00</td>\n",
       "      <td>417.50</td>\n",
       "      <td>423.75</td>\n",
       "      <td>415.00</td>\n",
       "      <td>135.00K</td>\n",
       "      <td>1.32%</td>\n",
       "      <td>-35.299818</td>\n",
       "      <td>-68.329845</td>\n",
       "      <td>32.447680</td>\n",
       "      <td>47.646497</td>\n",
       "    </tr>\n",
       "  </tbody>\n",
       "</table>\n",
       "</div>"
      ],
      "text/plain": [
       "             Price    Open    High     Low     Vol. Change %       TMAX  \\\n",
       "Date                                                                      \n",
       "2010-01-04  418.50  415.75  426.25  413.25  140.55K    1.03% -46.521938   \n",
       "2010-01-05  418.75  417.25  420.00  415.25   80.97K    0.06% -40.622883   \n",
       "2010-01-06  421.75  418.00  422.00  416.00   96.45K    0.72% -34.017431   \n",
       "2010-01-07  417.50  421.00  424.00  414.50  137.40K   -1.01% -30.523176   \n",
       "2010-01-08  423.00  417.50  423.75  415.00  135.00K    1.32% -35.299818   \n",
       "\n",
       "                 TMIN       PRCP       SNOW  \n",
       "Date                                         \n",
       "2010-01-04 -88.392139   2.521024   5.994973  \n",
       "2010-01-05 -76.595881   2.895195   4.625172  \n",
       "2010-01-06 -72.576606   3.870642   3.200000  \n",
       "2010-01-07 -61.433685  31.739330  45.121615  \n",
       "2010-01-08 -68.329845  32.447680  47.646497  "
      ]
     },
     "execution_count": 5,
     "metadata": {},
     "output_type": "execute_result"
    }
   ],
   "source": [
    "#Merge the two dataframes based on Index\n",
    "final = pd.concat([price, weather],axis=1)\n",
    "#final = final.fillna(0)\n",
    "final.dropna(inplace=True)\n",
    "index = final.index.values\n",
    "final.head()"
   ]
  },
  {
   "cell_type": "code",
   "execution_count": 6,
   "metadata": {},
   "outputs": [],
   "source": [
    "from sklearn.preprocessing import MinMaxScaler"
   ]
  },
  {
   "cell_type": "code",
   "execution_count": 7,
   "metadata": {},
   "outputs": [],
   "source": [
    "scaler = MinMaxScaler()\n",
    "labels = final.drop(['Price','Vol.','Change %', 'Open', 'High', 'Low'], axis=1)"
   ]
  },
  {
   "cell_type": "code",
   "execution_count": 8,
   "metadata": {},
   "outputs": [],
   "source": [
    "labels = pd.DataFrame(scaler.fit_transform(labels))\n",
    "labels.columns = [ 'TMAX', 'TMIN','PRCP','SNOW']\n",
    "labels = labels.set_index(index)"
   ]
  },
  {
   "cell_type": "code",
   "execution_count": 9,
   "metadata": {},
   "outputs": [
    {
     "data": {
      "text/html": [
       "<div>\n",
       "<style scoped>\n",
       "    .dataframe tbody tr th:only-of-type {\n",
       "        vertical-align: middle;\n",
       "    }\n",
       "\n",
       "    .dataframe tbody tr th {\n",
       "        vertical-align: top;\n",
       "    }\n",
       "\n",
       "    .dataframe thead th {\n",
       "        text-align: right;\n",
       "    }\n",
       "</style>\n",
       "<table border=\"1\" class=\"dataframe\">\n",
       "  <thead>\n",
       "    <tr style=\"text-align: right;\">\n",
       "      <th></th>\n",
       "      <th>TMAX</th>\n",
       "      <th>TMIN</th>\n",
       "      <th>PRCP</th>\n",
       "      <th>SNOW</th>\n",
       "    </tr>\n",
       "  </thead>\n",
       "  <tbody>\n",
       "    <tr>\n",
       "      <th>2010-01-04</th>\n",
       "      <td>0.150927</td>\n",
       "      <td>0.125927</td>\n",
       "      <td>0.007841</td>\n",
       "      <td>0.050645</td>\n",
       "    </tr>\n",
       "    <tr>\n",
       "      <th>2010-01-05</th>\n",
       "      <td>0.179005</td>\n",
       "      <td>0.185362</td>\n",
       "      <td>0.009005</td>\n",
       "      <td>0.039073</td>\n",
       "    </tr>\n",
       "    <tr>\n",
       "      <th>2010-01-06</th>\n",
       "      <td>0.210446</td>\n",
       "      <td>0.205613</td>\n",
       "      <td>0.012040</td>\n",
       "      <td>0.027033</td>\n",
       "    </tr>\n",
       "    <tr>\n",
       "      <th>2010-01-07</th>\n",
       "      <td>0.227078</td>\n",
       "      <td>0.261756</td>\n",
       "      <td>0.098758</td>\n",
       "      <td>0.381185</td>\n",
       "    </tr>\n",
       "    <tr>\n",
       "      <th>2010-01-08</th>\n",
       "      <td>0.204342</td>\n",
       "      <td>0.227010</td>\n",
       "      <td>0.100962</td>\n",
       "      <td>0.402515</td>\n",
       "    </tr>\n",
       "  </tbody>\n",
       "</table>\n",
       "</div>"
      ],
      "text/plain": [
       "                TMAX      TMIN      PRCP      SNOW\n",
       "2010-01-04  0.150927  0.125927  0.007841  0.050645\n",
       "2010-01-05  0.179005  0.185362  0.009005  0.039073\n",
       "2010-01-06  0.210446  0.205613  0.012040  0.027033\n",
       "2010-01-07  0.227078  0.261756  0.098758  0.381185\n",
       "2010-01-08  0.204342  0.227010  0.100962  0.402515"
      ]
     },
     "execution_count": 9,
     "metadata": {},
     "output_type": "execute_result"
    }
   ],
   "source": [
    "labels.head()"
   ]
  },
  {
   "cell_type": "code",
   "execution_count": 10,
   "metadata": {},
   "outputs": [
    {
     "name": "stdout",
     "output_type": "stream",
     "text": [
      "<class 'pandas.core.frame.DataFrame'>\n",
      "DatetimeIndex: 2429 entries, 2010-01-04 to 2018-12-31\n",
      "Data columns (total 4 columns):\n",
      "TMAX    2429 non-null float64\n",
      "TMIN    2429 non-null float64\n",
      "PRCP    2429 non-null float64\n",
      "SNOW    2429 non-null float64\n",
      "dtypes: float64(4)\n",
      "memory usage: 94.9 KB\n"
     ]
    }
   ],
   "source": [
    "labels.info()"
   ]
  },
  {
   "cell_type": "code",
   "execution_count": 11,
   "metadata": {},
   "outputs": [],
   "source": [
    "#Train Test Split X\n",
    "X_test= labels.tail(429)\n",
    "X_train = labels.head(2000)"
   ]
  },
  {
   "cell_type": "code",
   "execution_count": 12,
   "metadata": {},
   "outputs": [
    {
     "data": {
      "text/html": [
       "<div>\n",
       "<style scoped>\n",
       "    .dataframe tbody tr th:only-of-type {\n",
       "        vertical-align: middle;\n",
       "    }\n",
       "\n",
       "    .dataframe tbody tr th {\n",
       "        vertical-align: top;\n",
       "    }\n",
       "\n",
       "    .dataframe thead th {\n",
       "        text-align: right;\n",
       "    }\n",
       "</style>\n",
       "<table border=\"1\" class=\"dataframe\">\n",
       "  <thead>\n",
       "    <tr style=\"text-align: right;\">\n",
       "      <th></th>\n",
       "      <th>Price</th>\n",
       "      <th>Open</th>\n",
       "      <th>High</th>\n",
       "      <th>Low</th>\n",
       "      <th>Vol.</th>\n",
       "      <th>Change %</th>\n",
       "      <th>TMAX</th>\n",
       "      <th>TMIN</th>\n",
       "      <th>PRCP</th>\n",
       "      <th>SNOW</th>\n",
       "    </tr>\n",
       "    <tr>\n",
       "      <th>Date</th>\n",
       "      <th></th>\n",
       "      <th></th>\n",
       "      <th></th>\n",
       "      <th></th>\n",
       "      <th></th>\n",
       "      <th></th>\n",
       "      <th></th>\n",
       "      <th></th>\n",
       "      <th></th>\n",
       "      <th></th>\n",
       "    </tr>\n",
       "  </thead>\n",
       "  <tbody>\n",
       "  </tbody>\n",
       "</table>\n",
       "</div>"
      ],
      "text/plain": [
       "Empty DataFrame\n",
       "Columns: [Price, Open, High, Low, Vol., Change %, TMAX, TMIN, PRCP, SNOW]\n",
       "Index: []"
      ]
     },
     "execution_count": 12,
     "metadata": {},
     "output_type": "execute_result"
    }
   ],
   "source": [
    "final[final['Price']==0]"
   ]
  },
  {
   "cell_type": "code",
   "execution_count": 13,
   "metadata": {},
   "outputs": [],
   "source": [
    "prices = pd.DataFrame(scaler.fit_transform(pd.DataFrame(final['Price'])))\n",
    "prices.columns = ['Price']\n",
    "prices = prices.set_index(index)\n",
    "prices=prices['Price'].map(lambda x: prices.Price.mean() if x == 0 else x)"
   ]
  },
  {
   "cell_type": "code",
   "execution_count": 14,
   "metadata": {},
   "outputs": [],
   "source": [
    "# Test Train split Y\n",
    "y_test= prices.tail(429)\n",
    "y_train = prices.head(2000)"
   ]
  },
  {
   "cell_type": "code",
   "execution_count": 15,
   "metadata": {},
   "outputs": [
    {
     "data": {
      "text/plain": [
       "Series([], Name: Price, dtype: float64)"
      ]
     },
     "execution_count": 15,
     "metadata": {},
     "output_type": "execute_result"
    }
   ],
   "source": [
    "y_train[y_train==0]"
   ]
  },
  {
   "cell_type": "code",
   "execution_count": 16,
   "metadata": {},
   "outputs": [
    {
     "name": "stderr",
     "output_type": "stream",
     "text": [
      "Using TensorFlow backend.\n"
     ]
    }
   ],
   "source": [
    "from keras.layers import Dense, LSTM\n",
    "from keras.models import Sequential"
   ]
  },
  {
   "cell_type": "code",
   "execution_count": 18,
   "metadata": {},
   "outputs": [
    {
     "name": "stderr",
     "output_type": "stream",
     "text": [
      "W0816 20:01:51.907954 4777248192 deprecation_wrapper.py:119] From /anaconda3/lib/python3.7/site-packages/keras/backend/tensorflow_backend.py:986: The name tf.assign_add is deprecated. Please use tf.compat.v1.assign_add instead.\n",
      "\n",
      "W0816 20:01:51.980121 4777248192 deprecation_wrapper.py:119] From /anaconda3/lib/python3.7/site-packages/keras/backend/tensorflow_backend.py:973: The name tf.assign is deprecated. Please use tf.compat.v1.assign instead.\n",
      "\n"
     ]
    },
    {
     "name": "stdout",
     "output_type": "stream",
     "text": [
      "Epoch 1/50\n",
      "2000/2000 [==============================] - 1s 421us/step - loss: 0.0832 - mean_absolute_percentage_error: 145.3439\n",
      "Epoch 2/50\n",
      "2000/2000 [==============================] - 0s 59us/step - loss: 0.0823 - mean_absolute_percentage_error: 142.6726\n",
      "Epoch 3/50\n",
      "2000/2000 [==============================] - 0s 59us/step - loss: 0.0819 - mean_absolute_percentage_error: 143.4623\n",
      "Epoch 4/50\n",
      "2000/2000 [==============================] - 0s 60us/step - loss: 0.0820 - mean_absolute_percentage_error: 143.1910\n",
      "Epoch 5/50\n",
      "2000/2000 [==============================] - 0s 59us/step - loss: 0.0815 - mean_absolute_percentage_error: 140.2039\n",
      "Epoch 6/50\n",
      "2000/2000 [==============================] - 0s 59us/step - loss: 0.0813 - mean_absolute_percentage_error: 141.4915\n",
      "Epoch 7/50\n",
      "2000/2000 [==============================] - 0s 61us/step - loss: 0.0810 - mean_absolute_percentage_error: 141.1832\n",
      "Epoch 8/50\n",
      "2000/2000 [==============================] - 0s 60us/step - loss: 0.0811 - mean_absolute_percentage_error: 141.0902\n",
      "Epoch 9/50\n",
      "2000/2000 [==============================] - 0s 59us/step - loss: 0.0807 - mean_absolute_percentage_error: 142.7146\n",
      "Epoch 10/50\n",
      "2000/2000 [==============================] - 0s 59us/step - loss: 0.0804 - mean_absolute_percentage_error: 139.6624\n",
      "Epoch 11/50\n",
      "2000/2000 [==============================] - 0s 61us/step - loss: 0.0803 - mean_absolute_percentage_error: 141.2062\n",
      "Epoch 12/50\n",
      "2000/2000 [==============================] - 0s 59us/step - loss: 0.0803 - mean_absolute_percentage_error: 138.4366\n",
      "Epoch 13/50\n",
      "2000/2000 [==============================] - 0s 60us/step - loss: 0.0801 - mean_absolute_percentage_error: 141.3931\n",
      "Epoch 14/50\n",
      "2000/2000 [==============================] - 0s 60us/step - loss: 0.0795 - mean_absolute_percentage_error: 137.7374\n",
      "Epoch 15/50\n",
      "2000/2000 [==============================] - 0s 59us/step - loss: 0.0796 - mean_absolute_percentage_error: 138.8605\n",
      "Epoch 16/50\n",
      "2000/2000 [==============================] - 0s 60us/step - loss: 0.0793 - mean_absolute_percentage_error: 140.2296\n",
      "Epoch 17/50\n",
      "2000/2000 [==============================] - 0s 59us/step - loss: 0.0788 - mean_absolute_percentage_error: 136.5454\n",
      "Epoch 18/50\n",
      "2000/2000 [==============================] - 0s 60us/step - loss: 0.0789 - mean_absolute_percentage_error: 136.6081\n",
      "Epoch 19/50\n",
      "2000/2000 [==============================] - 0s 59us/step - loss: 0.0788 - mean_absolute_percentage_error: 138.2344\n",
      "Epoch 20/50\n",
      "2000/2000 [==============================] - 0s 58us/step - loss: 0.0781 - mean_absolute_percentage_error: 135.9978\n",
      "Epoch 21/50\n",
      "2000/2000 [==============================] - 0s 58us/step - loss: 0.0780 - mean_absolute_percentage_error: 137.9705\n",
      "Epoch 22/50\n",
      "2000/2000 [==============================] - 0s 59us/step - loss: 0.0786 - mean_absolute_percentage_error: 135.0660\n",
      "Epoch 23/50\n",
      "2000/2000 [==============================] - 0s 59us/step - loss: 0.0778 - mean_absolute_percentage_error: 134.7199\n",
      "Epoch 24/50\n",
      "2000/2000 [==============================] - 0s 60us/step - loss: 0.0779 - mean_absolute_percentage_error: 134.1612\n",
      "Epoch 25/50\n",
      "2000/2000 [==============================] - 0s 61us/step - loss: 0.0774 - mean_absolute_percentage_error: 136.2361\n",
      "Epoch 26/50\n",
      "2000/2000 [==============================] - 0s 60us/step - loss: 0.0779 - mean_absolute_percentage_error: 135.4642\n",
      "Epoch 27/50\n",
      "2000/2000 [==============================] - 0s 62us/step - loss: 0.0775 - mean_absolute_percentage_error: 132.6736\n",
      "Epoch 28/50\n",
      "2000/2000 [==============================] - 0s 59us/step - loss: 0.0772 - mean_absolute_percentage_error: 133.9124\n",
      "Epoch 29/50\n",
      "2000/2000 [==============================] - 0s 62us/step - loss: 0.0778 - mean_absolute_percentage_error: 135.8348\n",
      "Epoch 30/50\n",
      "2000/2000 [==============================] - 0s 60us/step - loss: 0.0771 - mean_absolute_percentage_error: 132.7662\n",
      "Epoch 31/50\n",
      "2000/2000 [==============================] - 0s 59us/step - loss: 0.0769 - mean_absolute_percentage_error: 131.9500\n",
      "Epoch 32/50\n",
      "2000/2000 [==============================] - 0s 59us/step - loss: 0.0771 - mean_absolute_percentage_error: 135.6155\n",
      "Epoch 33/50\n",
      "2000/2000 [==============================] - 0s 59us/step - loss: 0.0767 - mean_absolute_percentage_error: 133.2765\n",
      "Epoch 34/50\n",
      "2000/2000 [==============================] - 0s 59us/step - loss: 0.0766 - mean_absolute_percentage_error: 134.0121\n",
      "Epoch 35/50\n",
      "2000/2000 [==============================] - 0s 59us/step - loss: 0.0767 - mean_absolute_percentage_error: 131.2118\n",
      "Epoch 36/50\n",
      "2000/2000 [==============================] - 0s 61us/step - loss: 0.0764 - mean_absolute_percentage_error: 132.5959\n",
      "Epoch 37/50\n",
      "2000/2000 [==============================] - 0s 59us/step - loss: 0.0766 - mean_absolute_percentage_error: 132.5581\n",
      "Epoch 38/50\n",
      "2000/2000 [==============================] - 0s 59us/step - loss: 0.0761 - mean_absolute_percentage_error: 130.9023\n",
      "Epoch 39/50\n",
      "2000/2000 [==============================] - 0s 59us/step - loss: 0.0762 - mean_absolute_percentage_error: 131.0493\n",
      "Epoch 40/50\n",
      "2000/2000 [==============================] - 0s 58us/step - loss: 0.0757 - mean_absolute_percentage_error: 131.7418\n",
      "Epoch 41/50\n",
      "2000/2000 [==============================] - 0s 61us/step - loss: 0.0753 - mean_absolute_percentage_error: 131.2467\n",
      "Epoch 42/50\n",
      "2000/2000 [==============================] - 0s 58us/step - loss: 0.0758 - mean_absolute_percentage_error: 131.0443\n",
      "Epoch 43/50\n",
      "2000/2000 [==============================] - 0s 59us/step - loss: 0.0754 - mean_absolute_percentage_error: 130.9628\n",
      "Epoch 44/50\n",
      "2000/2000 [==============================] - 0s 59us/step - loss: 0.0756 - mean_absolute_percentage_error: 130.6888\n",
      "Epoch 45/50\n",
      "2000/2000 [==============================] - 0s 59us/step - loss: 0.0753 - mean_absolute_percentage_error: 130.6597\n",
      "Epoch 46/50\n",
      "2000/2000 [==============================] - 0s 59us/step - loss: 0.0755 - mean_absolute_percentage_error: 129.7639\n",
      "Epoch 47/50\n",
      "2000/2000 [==============================] - 0s 60us/step - loss: 0.0752 - mean_absolute_percentage_error: 129.8832\n",
      "Epoch 48/50\n",
      "2000/2000 [==============================] - 0s 58us/step - loss: 0.0751 - mean_absolute_percentage_error: 131.3688\n",
      "Epoch 49/50\n",
      "2000/2000 [==============================] - 0s 58us/step - loss: 0.0751 - mean_absolute_percentage_error: 129.6559\n",
      "Epoch 50/50\n",
      "2000/2000 [==============================] - 0s 61us/step - loss: 0.0748 - mean_absolute_percentage_error: 128.2182\n"
     ]
    }
   ],
   "source": [
    "model = Sequential()\n",
    "model.add(Dense(18,activation='relu',input_shape=(4, )))\n",
    "model.add(Dense(64, activation='relu'))\n",
    "model.add(Dense(32, activation='sigmoid'))\n",
    "model.add(Dense(1, activation='sigmoid'))\n",
    "model.compile(optimizer='adam',loss='mse',metrics=['mape'])\n",
    "model.fit(X_train, y_train,epochs=50,batch_size=20, verbose=1)\n",
    "predictions = model.predict(X_test)"
   ]
  },
  {
   "cell_type": "code",
   "execution_count": 19,
   "metadata": {},
   "outputs": [],
   "source": [
    "results = np.array(predictions).reshape(429\n",
    "                                        ,1)"
   ]
  },
  {
   "cell_type": "code",
   "execution_count": 20,
   "metadata": {},
   "outputs": [
    {
     "data": {
      "text/plain": [
       "array([468.44156], dtype=float32)"
      ]
     },
     "execution_count": 20,
     "metadata": {},
     "output_type": "execute_result"
    }
   ],
   "source": [
    "results = scaler.inverse_transform(results)\n",
    "y_test_scaled = scaler.inverse_transform(np.array(y_test).reshape(429,1))\n",
    "results[0]"
   ]
  },
  {
   "cell_type": "code",
   "execution_count": 21,
   "metadata": {},
   "outputs": [
    {
     "data": {
      "text/plain": [
       "array([371.5])"
      ]
     },
     "execution_count": 21,
     "metadata": {},
     "output_type": "execute_result"
    }
   ],
   "source": [
    "y_test_scaled[0]"
   ]
  },
  {
   "cell_type": "code",
   "execution_count": 22,
   "metadata": {},
   "outputs": [],
   "source": [
    "pred = pd.DataFrame(results)"
   ]
  },
  {
   "cell_type": "code",
   "execution_count": 23,
   "metadata": {},
   "outputs": [],
   "source": [
    "true = pd.DataFrame(y_test_scaled)"
   ]
  },
  {
   "cell_type": "code",
   "execution_count": 24,
   "metadata": {},
   "outputs": [],
   "source": [
    "date_rng = pd.date_range(start='28-10-2017', end='31-12-2018', freq='D')\n",
    "dq = pd.DataFrame(date_rng, columns=['date'])"
   ]
  },
  {
   "cell_type": "code",
   "execution_count": 25,
   "metadata": {},
   "outputs": [
    {
     "data": {
      "text/html": [
       "<div>\n",
       "<style scoped>\n",
       "    .dataframe tbody tr th:only-of-type {\n",
       "        vertical-align: middle;\n",
       "    }\n",
       "\n",
       "    .dataframe tbody tr th {\n",
       "        vertical-align: top;\n",
       "    }\n",
       "\n",
       "    .dataframe thead th {\n",
       "        text-align: right;\n",
       "    }\n",
       "</style>\n",
       "<table border=\"1\" class=\"dataframe\">\n",
       "  <thead>\n",
       "    <tr style=\"text-align: right;\">\n",
       "      <th></th>\n",
       "      <th>Predictions</th>\n",
       "      <th>Actual</th>\n",
       "      <th>Difference %</th>\n",
       "      <th>Difference</th>\n",
       "    </tr>\n",
       "    <tr>\n",
       "      <th>Date</th>\n",
       "      <th></th>\n",
       "      <th></th>\n",
       "      <th></th>\n",
       "      <th></th>\n",
       "    </tr>\n",
       "  </thead>\n",
       "  <tbody>\n",
       "    <tr>\n",
       "      <th>2017-10-28</th>\n",
       "      <td>468.441559</td>\n",
       "      <td>371.5</td>\n",
       "      <td>-0.260946</td>\n",
       "      <td>-96.941559</td>\n",
       "    </tr>\n",
       "    <tr>\n",
       "      <th>2017-10-29</th>\n",
       "      <td>474.718414</td>\n",
       "      <td>366.0</td>\n",
       "      <td>-0.297045</td>\n",
       "      <td>-108.718414</td>\n",
       "    </tr>\n",
       "    <tr>\n",
       "      <th>2017-10-30</th>\n",
       "      <td>489.308014</td>\n",
       "      <td>372.5</td>\n",
       "      <td>-0.313579</td>\n",
       "      <td>-116.808014</td>\n",
       "    </tr>\n",
       "    <tr>\n",
       "      <th>2017-10-31</th>\n",
       "      <td>421.608856</td>\n",
       "      <td>375.0</td>\n",
       "      <td>-0.124290</td>\n",
       "      <td>-46.608856</td>\n",
       "    </tr>\n",
       "    <tr>\n",
       "      <th>2017-11-01</th>\n",
       "      <td>427.709869</td>\n",
       "      <td>369.5</td>\n",
       "      <td>-0.157537</td>\n",
       "      <td>-58.209869</td>\n",
       "    </tr>\n",
       "  </tbody>\n",
       "</table>\n",
       "</div>"
      ],
      "text/plain": [
       "            Predictions  Actual  Difference %  Difference\n",
       "Date                                                     \n",
       "2017-10-28   468.441559   371.5     -0.260946  -96.941559\n",
       "2017-10-29   474.718414   366.0     -0.297045 -108.718414\n",
       "2017-10-30   489.308014   372.5     -0.313579 -116.808014\n",
       "2017-10-31   421.608856   375.0     -0.124290  -46.608856\n",
       "2017-11-01   427.709869   369.5     -0.157537  -58.209869"
      ]
     },
     "execution_count": 25,
     "metadata": {},
     "output_type": "execute_result"
    }
   ],
   "source": [
    "pred['Date'] = dq\n",
    "pred.columns = ['Predictions', 'Date']\n",
    "true['Date'] = dq\n",
    "true.columns = ['Actual', 'Date']\n",
    "final_results = pd.merge(pred, true, on='Date')\n",
    "final_results.set_index(final_results.Date, inplace = True)\n",
    "final_results.drop('Date', axis=1, inplace=True)\n",
    "final_results['Difference %'] = ((final_results.Actual- final_results.Predictions)/final_results.Actual)\n",
    "final_results['Difference'] = (final_results.Actual- final_results.Predictions)\n",
    "final_results.head()"
   ]
  },
  {
   "cell_type": "code",
   "execution_count": 26,
   "metadata": {},
   "outputs": [],
   "source": [
    "import matplotlib.pyplot as plt\n",
    "import seaborn as sns\n",
    "%matplotlib inline"
   ]
  },
  {
   "cell_type": "code",
   "execution_count": 27,
   "metadata": {},
   "outputs": [
    {
     "data": {
      "text/plain": [
       "<matplotlib.axes._subplots.AxesSubplot at 0x7f97cdbabc50>"
      ]
     },
     "execution_count": 27,
     "metadata": {},
     "output_type": "execute_result"
    },
    {
     "data": {
      "image/png": "[encoded data removed]",
      "text/plain": [
       "<Figure size 432x288 with 1 Axes>"
      ]
     },
     "metadata": {
      "needs_background": "light"
     },
     "output_type": "display_data"
    }
   ],
   "source": [
    "sns.scatterplot('Actual', 'Predictions', data=final_results)"
   ]
  },
  {
   "cell_type": "code",
   "execution_count": 28,
   "metadata": {},
   "outputs": [
    {
     "data": {
      "text/plain": [
       "<matplotlib.axes._subplots.AxesSubplot at 0x7f97f8a101d0>"
      ]
     },
     "execution_count": 28,
     "metadata": {},
     "output_type": "execute_result"
    },
    {
     "data": {
      "image/png": "[encoded data removed]",
      "text/plain": [
       "<Figure size 432x288 with 1 Axes>"
      ]
     },
     "metadata": {
      "needs_background": "light"
     },
     "output_type": "display_data"
    }
   ],
   "source": [
    "sns.distplot(final_results.Difference, bins=25)"
   ]
  },
  {
   "cell_type": "code",
   "execution_count": 29,
   "metadata": {},
   "outputs": [
    {
     "data": {
      "text/plain": [
       "<matplotlib.legend.Legend at 0x7f97f8983ad0>"
      ]
     },
     "execution_count": 29,
     "metadata": {},
     "output_type": "execute_result"
    },
    {
     "data": {
      "image/png": "[encoded data removed]",
      "text/plain": [
       "<Figure size 1152x576 with 1 Axes>"
      ]
     },
     "metadata": {
      "needs_background": "light"
     },
     "output_type": "display_data"
    }
   ],
   "source": [
    "final_results.Predictions.plot( figsize=(16,8))\n",
    "final_results.Actual.plot()\n",
    "plt.legend()"
   ]
  },
  {
   "cell_type": "code",
   "execution_count": null,
   "metadata": {},
   "outputs": [],
   "source": []
  }
 ],
 "metadata": {
  "kernelspec": {
   "display_name": "Python 3",
   "language": "python",
   "name": "python3"
  },
  "language_info": {
   "codemirror_mode": {
    "name": "ipython",
    "version": 3
   },
   "file_extension": ".py",
   "mimetype": "text/x-python",
   "name": "python",
   "nbconvert_exporter": "python",
   "pygments_lexer": "ipython3",
   "version": "3.7.4"
  }
 },
 "nbformat": 4,
 "nbformat_minor": 2
}
