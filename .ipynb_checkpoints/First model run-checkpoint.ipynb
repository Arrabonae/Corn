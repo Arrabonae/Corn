{
 "cells": [
  {
   "cell_type": "code",
   "execution_count": 1,
   "metadata": {},
   "outputs": [],
   "source": [
    "import numpy as np\n",
    "import pandas as pd"
   ]
  },
  {
   "cell_type": "code",
   "execution_count": 6,
   "metadata": {},
   "outputs": [],
   "source": [
    "weather = pd.read_csv('2017.csv', index_col = 'Date')\n",
    "price = pd.read_csv('Data.csv', index_col='Date', parse_dates=True)"
   ]
  },
  {
   "cell_type": "code",
   "execution_count": 13,
   "metadata": {},
   "outputs": [
    {
     "data": {
      "text/html": [
       "<div>\n",
       "<style scoped>\n",
       "    .dataframe tbody tr th:only-of-type {\n",
       "        vertical-align: middle;\n",
       "    }\n",
       "\n",
       "    .dataframe tbody tr th {\n",
       "        vertical-align: top;\n",
       "    }\n",
       "\n",
       "    .dataframe thead th {\n",
       "        text-align: right;\n",
       "    }\n",
       "</style>\n",
       "<table border=\"1\" class=\"dataframe\">\n",
       "  <thead>\n",
       "    <tr style=\"text-align: right;\">\n",
       "      <th></th>\n",
       "      <th>Price</th>\n",
       "      <th>Open</th>\n",
       "      <th>High</th>\n",
       "      <th>Low</th>\n",
       "      <th>Vol.</th>\n",
       "      <th>Change %</th>\n",
       "    </tr>\n",
       "    <tr>\n",
       "      <th>Date</th>\n",
       "      <th></th>\n",
       "      <th></th>\n",
       "      <th></th>\n",
       "      <th></th>\n",
       "      <th></th>\n",
       "      <th></th>\n",
       "    </tr>\n",
       "  </thead>\n",
       "  <tbody>\n",
       "    <tr>\n",
       "      <th>2017-01-03</th>\n",
       "      <td>355.75</td>\n",
       "      <td>352.00</td>\n",
       "      <td>358.50</td>\n",
       "      <td>351.50</td>\n",
       "      <td>174.70K</td>\n",
       "      <td>1.07%</td>\n",
       "    </tr>\n",
       "    <tr>\n",
       "      <th>2017-01-04</th>\n",
       "      <td>359.75</td>\n",
       "      <td>355.00</td>\n",
       "      <td>360.00</td>\n",
       "      <td>354.75</td>\n",
       "      <td>171.29K</td>\n",
       "      <td>1.12%</td>\n",
       "    </tr>\n",
       "    <tr>\n",
       "      <th>2017-01-05</th>\n",
       "      <td>361.25</td>\n",
       "      <td>359.50</td>\n",
       "      <td>362.75</td>\n",
       "      <td>358.50</td>\n",
       "      <td>194.54K</td>\n",
       "      <td>0.42%</td>\n",
       "    </tr>\n",
       "    <tr>\n",
       "      <th>2017-01-06</th>\n",
       "      <td>358.00</td>\n",
       "      <td>360.75</td>\n",
       "      <td>362.50</td>\n",
       "      <td>356.75</td>\n",
       "      <td>166.34K</td>\n",
       "      <td>-0.90%</td>\n",
       "    </tr>\n",
       "    <tr>\n",
       "      <th>2017-01-09</th>\n",
       "      <td>360.00</td>\n",
       "      <td>359.00</td>\n",
       "      <td>360.75</td>\n",
       "      <td>355.25</td>\n",
       "      <td>185.76K</td>\n",
       "      <td>0.56%</td>\n",
       "    </tr>\n",
       "  </tbody>\n",
       "</table>\n",
       "</div>"
      ],
      "text/plain": [
       "             Price    Open    High     Low     Vol. Change %\n",
       "Date                                                        \n",
       "2017-01-03  355.75  352.00  358.50  351.50  174.70K    1.07%\n",
       "2017-01-04  359.75  355.00  360.00  354.75  171.29K    1.12%\n",
       "2017-01-05  361.25  359.50  362.75  358.50  194.54K    0.42%\n",
       "2017-01-06  358.00  360.75  362.50  356.75  166.34K   -0.90%\n",
       "2017-01-09  360.00  359.00  360.75  355.25  185.76K    0.56%"
      ]
     },
     "execution_count": 13,
     "metadata": {},
     "output_type": "execute_result"
    }
   ],
   "source": [
    "price = price[(price.index > '2017-01-01') & (price.index < '2018-01-01')]\n",
    "price = price[::-1]\n",
    "price.head()"
   ]
  },
  {
   "cell_type": "code",
   "execution_count": 7,
   "metadata": {},
   "outputs": [
    {
     "data": {
      "text/html": [
       "<div>\n",
       "<style scoped>\n",
       "    .dataframe tbody tr th:only-of-type {\n",
       "        vertical-align: middle;\n",
       "    }\n",
       "\n",
       "    .dataframe tbody tr th {\n",
       "        vertical-align: top;\n",
       "    }\n",
       "\n",
       "    .dataframe thead th {\n",
       "        text-align: right;\n",
       "    }\n",
       "</style>\n",
       "<table border=\"1\" class=\"dataframe\">\n",
       "  <thead>\n",
       "    <tr style=\"text-align: right;\">\n",
       "      <th></th>\n",
       "      <th>TMAX</th>\n",
       "      <th>TMIN</th>\n",
       "      <th>PRCP</th>\n",
       "      <th>SNOW</th>\n",
       "    </tr>\n",
       "    <tr>\n",
       "      <th>Date</th>\n",
       "      <th></th>\n",
       "      <th></th>\n",
       "      <th></th>\n",
       "      <th></th>\n",
       "    </tr>\n",
       "  </thead>\n",
       "  <tbody>\n",
       "    <tr>\n",
       "      <th>2017-01-01</th>\n",
       "      <td>4.664701</td>\n",
       "      <td>-32.340744</td>\n",
       "      <td>0.893829</td>\n",
       "      <td>1.070780</td>\n",
       "    </tr>\n",
       "    <tr>\n",
       "      <th>2017-01-02</th>\n",
       "      <td>8.281360</td>\n",
       "      <td>-23.992933</td>\n",
       "      <td>5.661661</td>\n",
       "      <td>3.369700</td>\n",
       "    </tr>\n",
       "    <tr>\n",
       "      <th>2017-01-03</th>\n",
       "      <td>9.822938</td>\n",
       "      <td>-20.340310</td>\n",
       "      <td>48.751779</td>\n",
       "      <td>6.269150</td>\n",
       "    </tr>\n",
       "    <tr>\n",
       "      <th>2017-01-04</th>\n",
       "      <td>-9.803922</td>\n",
       "      <td>-59.617429</td>\n",
       "      <td>18.494553</td>\n",
       "      <td>2.424837</td>\n",
       "    </tr>\n",
       "    <tr>\n",
       "      <th>2017-01-05</th>\n",
       "      <td>-44.915941</td>\n",
       "      <td>-69.885889</td>\n",
       "      <td>4.396777</td>\n",
       "      <td>6.210366</td>\n",
       "    </tr>\n",
       "  </tbody>\n",
       "</table>\n",
       "</div>"
      ],
      "text/plain": [
       "                 TMAX       TMIN       PRCP      SNOW\n",
       "Date                                                 \n",
       "2017-01-01   4.664701 -32.340744   0.893829  1.070780\n",
       "2017-01-02   8.281360 -23.992933   5.661661  3.369700\n",
       "2017-01-03   9.822938 -20.340310  48.751779  6.269150\n",
       "2017-01-04  -9.803922 -59.617429  18.494553  2.424837\n",
       "2017-01-05 -44.915941 -69.885889   4.396777  6.210366"
      ]
     },
     "execution_count": 7,
     "metadata": {},
     "output_type": "execute_result"
    }
   ],
   "source": [
    "weather.head()"
   ]
  },
  {
   "cell_type": "code",
   "execution_count": 49,
   "metadata": {},
   "outputs": [
    {
     "data": {
      "text/html": [
       "<div>\n",
       "<style scoped>\n",
       "    .dataframe tbody tr th:only-of-type {\n",
       "        vertical-align: middle;\n",
       "    }\n",
       "\n",
       "    .dataframe tbody tr th {\n",
       "        vertical-align: top;\n",
       "    }\n",
       "\n",
       "    .dataframe thead th {\n",
       "        text-align: right;\n",
       "    }\n",
       "</style>\n",
       "<table border=\"1\" class=\"dataframe\">\n",
       "  <thead>\n",
       "    <tr style=\"text-align: right;\">\n",
       "      <th></th>\n",
       "      <th>Price</th>\n",
       "      <th>Open</th>\n",
       "      <th>High</th>\n",
       "      <th>Low</th>\n",
       "      <th>Vol.</th>\n",
       "      <th>Change %</th>\n",
       "      <th>TMAX</th>\n",
       "      <th>TMIN</th>\n",
       "      <th>PRCP</th>\n",
       "      <th>SNOW</th>\n",
       "    </tr>\n",
       "    <tr>\n",
       "      <th>Date</th>\n",
       "      <th></th>\n",
       "      <th></th>\n",
       "      <th></th>\n",
       "      <th></th>\n",
       "      <th></th>\n",
       "      <th></th>\n",
       "      <th></th>\n",
       "      <th></th>\n",
       "      <th></th>\n",
       "      <th></th>\n",
       "    </tr>\n",
       "  </thead>\n",
       "  <tbody>\n",
       "    <tr>\n",
       "      <th>2017-01-01</th>\n",
       "      <td>0.00</td>\n",
       "      <td>0.0</td>\n",
       "      <td>0.00</td>\n",
       "      <td>0.00</td>\n",
       "      <td>0</td>\n",
       "      <td>0</td>\n",
       "      <td>4.664701</td>\n",
       "      <td>-32.340744</td>\n",
       "      <td>0.893829</td>\n",
       "      <td>1.070780</td>\n",
       "    </tr>\n",
       "    <tr>\n",
       "      <th>2017-01-02</th>\n",
       "      <td>0.00</td>\n",
       "      <td>0.0</td>\n",
       "      <td>0.00</td>\n",
       "      <td>0.00</td>\n",
       "      <td>0</td>\n",
       "      <td>0</td>\n",
       "      <td>8.281360</td>\n",
       "      <td>-23.992933</td>\n",
       "      <td>5.661661</td>\n",
       "      <td>3.369700</td>\n",
       "    </tr>\n",
       "    <tr>\n",
       "      <th>2017-01-03</th>\n",
       "      <td>355.75</td>\n",
       "      <td>352.0</td>\n",
       "      <td>358.50</td>\n",
       "      <td>351.50</td>\n",
       "      <td>174.70K</td>\n",
       "      <td>1.07%</td>\n",
       "      <td>9.822938</td>\n",
       "      <td>-20.340310</td>\n",
       "      <td>48.751779</td>\n",
       "      <td>6.269150</td>\n",
       "    </tr>\n",
       "    <tr>\n",
       "      <th>2017-01-04</th>\n",
       "      <td>359.75</td>\n",
       "      <td>355.0</td>\n",
       "      <td>360.00</td>\n",
       "      <td>354.75</td>\n",
       "      <td>171.29K</td>\n",
       "      <td>1.12%</td>\n",
       "      <td>-9.803922</td>\n",
       "      <td>-59.617429</td>\n",
       "      <td>18.494553</td>\n",
       "      <td>2.424837</td>\n",
       "    </tr>\n",
       "    <tr>\n",
       "      <th>2017-01-05</th>\n",
       "      <td>361.25</td>\n",
       "      <td>359.5</td>\n",
       "      <td>362.75</td>\n",
       "      <td>358.50</td>\n",
       "      <td>194.54K</td>\n",
       "      <td>0.42%</td>\n",
       "      <td>-44.915941</td>\n",
       "      <td>-69.885889</td>\n",
       "      <td>4.396777</td>\n",
       "      <td>6.210366</td>\n",
       "    </tr>\n",
       "  </tbody>\n",
       "</table>\n",
       "</div>"
      ],
      "text/plain": [
       "             Price   Open    High     Low     Vol. Change %       TMAX  \\\n",
       "Date                                                                     \n",
       "2017-01-01    0.00    0.0    0.00    0.00        0        0   4.664701   \n",
       "2017-01-02    0.00    0.0    0.00    0.00        0        0   8.281360   \n",
       "2017-01-03  355.75  352.0  358.50  351.50  174.70K    1.07%   9.822938   \n",
       "2017-01-04  359.75  355.0  360.00  354.75  171.29K    1.12%  -9.803922   \n",
       "2017-01-05  361.25  359.5  362.75  358.50  194.54K    0.42% -44.915941   \n",
       "\n",
       "                 TMIN       PRCP      SNOW  \n",
       "Date                                        \n",
       "2017-01-01 -32.340744   0.893829  1.070780  \n",
       "2017-01-02 -23.992933   5.661661  3.369700  \n",
       "2017-01-03 -20.340310  48.751779  6.269150  \n",
       "2017-01-04 -59.617429  18.494553  2.424837  \n",
       "2017-01-05 -69.885889   4.396777  6.210366  "
      ]
     },
     "execution_count": 49,
     "metadata": {},
     "output_type": "execute_result"
    }
   ],
   "source": [
    "#Merge the two dataframes based on Index\n",
    "final = pd.concat([price, weather],axis=1)\n",
    "final = final.fillna(0)\n",
    "index = final.index.values\n",
    "final.head()"
   ]
  },
  {
   "cell_type": "code",
   "execution_count": 24,
   "metadata": {},
   "outputs": [],
   "source": [
    "from sklearn.preprocessing import MinMaxScaler"
   ]
  },
  {
   "cell_type": "code",
   "execution_count": 50,
   "metadata": {},
   "outputs": [],
   "source": [
    "model = MinMaxScaler()\n",
    "final = final.drop(['Vol.','Change %'], axis=1)"
   ]
  },
  {
   "cell_type": "code",
   "execution_count": 56,
   "metadata": {},
   "outputs": [],
   "source": [
    "final = pd.DataFrame(model.fit_transform(final))\n",
    "final.columns = ['Price', 'Open', 'High', 'Low', 'TMAX', 'TMIN','PRCP','SNOW']\n",
    "final = final.set_index(index)"
   ]
  },
  {
   "cell_type": "code",
   "execution_count": 63,
   "metadata": {},
   "outputs": [
    {
     "data": {
      "text/html": [
       "<div>\n",
       "<style scoped>\n",
       "    .dataframe tbody tr th:only-of-type {\n",
       "        vertical-align: middle;\n",
       "    }\n",
       "\n",
       "    .dataframe tbody tr th {\n",
       "        vertical-align: top;\n",
       "    }\n",
       "\n",
       "    .dataframe thead th {\n",
       "        text-align: right;\n",
       "    }\n",
       "</style>\n",
       "<table border=\"1\" class=\"dataframe\">\n",
       "  <thead>\n",
       "    <tr style=\"text-align: right;\">\n",
       "      <th></th>\n",
       "      <th>Price</th>\n",
       "      <th>Open</th>\n",
       "      <th>High</th>\n",
       "      <th>Low</th>\n",
       "      <th>TMAX</th>\n",
       "      <th>TMIN</th>\n",
       "      <th>PRCP</th>\n",
       "      <th>SNOW</th>\n",
       "    </tr>\n",
       "  </thead>\n",
       "  <tbody>\n",
       "    <tr>\n",
       "      <th>2017-01-01</th>\n",
       "      <td>0.000000</td>\n",
       "      <td>0.000000</td>\n",
       "      <td>0.000000</td>\n",
       "      <td>0.000000</td>\n",
       "      <td>0.391782</td>\n",
       "      <td>0.399550</td>\n",
       "      <td>0.004039</td>\n",
       "      <td>0.026895</td>\n",
       "    </tr>\n",
       "    <tr>\n",
       "      <th>2017-01-02</th>\n",
       "      <td>0.000000</td>\n",
       "      <td>0.000000</td>\n",
       "      <td>0.000000</td>\n",
       "      <td>0.000000</td>\n",
       "      <td>0.414032</td>\n",
       "      <td>0.454095</td>\n",
       "      <td>0.025722</td>\n",
       "      <td>0.084637</td>\n",
       "    </tr>\n",
       "    <tr>\n",
       "      <th>2017-01-03</th>\n",
       "      <td>0.906947</td>\n",
       "      <td>0.895105</td>\n",
       "      <td>0.908745</td>\n",
       "      <td>0.906512</td>\n",
       "      <td>0.423516</td>\n",
       "      <td>0.477961</td>\n",
       "      <td>0.221686</td>\n",
       "      <td>0.157462</td>\n",
       "    </tr>\n",
       "    <tr>\n",
       "      <th>2017-01-04</th>\n",
       "      <td>0.917145</td>\n",
       "      <td>0.902734</td>\n",
       "      <td>0.912548</td>\n",
       "      <td>0.914894</td>\n",
       "      <td>0.302769</td>\n",
       "      <td>0.221325</td>\n",
       "      <td>0.084083</td>\n",
       "      <td>0.060905</td>\n",
       "    </tr>\n",
       "    <tr>\n",
       "      <th>2017-01-05</th>\n",
       "      <td>0.920969</td>\n",
       "      <td>0.914177</td>\n",
       "      <td>0.919518</td>\n",
       "      <td>0.924565</td>\n",
       "      <td>0.086755</td>\n",
       "      <td>0.154231</td>\n",
       "      <td>0.019969</td>\n",
       "      <td>0.155986</td>\n",
       "    </tr>\n",
       "  </tbody>\n",
       "</table>\n",
       "</div>"
      ],
      "text/plain": [
       "               Price      Open      High       Low      TMAX      TMIN  \\\n",
       "2017-01-01  0.000000  0.000000  0.000000  0.000000  0.391782  0.399550   \n",
       "2017-01-02  0.000000  0.000000  0.000000  0.000000  0.414032  0.454095   \n",
       "2017-01-03  0.906947  0.895105  0.908745  0.906512  0.423516  0.477961   \n",
       "2017-01-04  0.917145  0.902734  0.912548  0.914894  0.302769  0.221325   \n",
       "2017-01-05  0.920969  0.914177  0.919518  0.924565  0.086755  0.154231   \n",
       "\n",
       "                PRCP      SNOW  \n",
       "2017-01-01  0.004039  0.026895  \n",
       "2017-01-02  0.025722  0.084637  \n",
       "2017-01-03  0.221686  0.157462  \n",
       "2017-01-04  0.084083  0.060905  \n",
       "2017-01-05  0.019969  0.155986  "
      ]
     },
     "execution_count": 63,
     "metadata": {},
     "output_type": "execute_result"
    }
   ],
   "source": [
    "final.head()"
   ]
  },
  {
   "cell_type": "code",
   "execution_count": 178,
   "metadata": {},
   "outputs": [],
   "source": [
    "#Train Test Split\n",
    "test = final.tail(182)\n",
    "train = final.head(183)"
   ]
  },
  {
   "cell_type": "code",
   "execution_count": 61,
   "metadata": {},
   "outputs": [
    {
     "name": "stdout",
     "output_type": "stream",
     "text": [
      "<class 'pandas.core.frame.DataFrame'>\n",
      "DatetimeIndex: 25 entries, 2017-12-07 to 2017-12-31\n",
      "Data columns (total 8 columns):\n",
      "Price    25 non-null float64\n",
      "Open     25 non-null float64\n",
      "High     25 non-null float64\n",
      "Low      25 non-null float64\n",
      "TMAX     25 non-null float64\n",
      "TMIN     25 non-null float64\n",
      "PRCP     25 non-null float64\n",
      "SNOW     25 non-null float64\n",
      "dtypes: float64(8)\n",
      "memory usage: 1.8 KB\n"
     ]
    }
   ],
   "source": [
    "test.info()"
   ]
  },
  {
   "cell_type": "code",
   "execution_count": 62,
   "metadata": {},
   "outputs": [
    {
     "name": "stdout",
     "output_type": "stream",
     "text": [
      "<class 'pandas.core.frame.DataFrame'>\n",
      "DatetimeIndex: 340 entries, 2017-01-01 to 2017-12-06\n",
      "Data columns (total 8 columns):\n",
      "Price    340 non-null float64\n",
      "Open     340 non-null float64\n",
      "High     340 non-null float64\n",
      "Low      340 non-null float64\n",
      "TMAX     340 non-null float64\n",
      "TMIN     340 non-null float64\n",
      "PRCP     340 non-null float64\n",
      "SNOW     340 non-null float64\n",
      "dtypes: float64(8)\n",
      "memory usage: 23.9 KB\n"
     ]
    }
   ],
   "source": [
    "train.info()"
   ]
  },
  {
   "cell_type": "code",
   "execution_count": 67,
   "metadata": {},
   "outputs": [
    {
     "data": {
      "text/plain": [
       "2017-01-01    0.000000\n",
       "2017-01-02    0.000000\n",
       "2017-01-03    0.906947\n",
       "2017-01-04    0.917145\n",
       "2017-01-05    0.920969\n",
       "Name: Price, dtype: float64"
      ]
     },
     "execution_count": 67,
     "metadata": {},
     "output_type": "execute_result"
    }
   ],
   "source": [
    "train['Price'].head()"
   ]
  },
  {
   "cell_type": "code",
   "execution_count": 179,
   "metadata": {},
   "outputs": [],
   "source": [
    "from keras.layers import Dense, LSTM\n",
    "from keras.models import Sequential"
   ]
  },
  {
   "cell_type": "code",
   "execution_count": 181,
   "metadata": {},
   "outputs": [
    {
     "name": "stdout",
     "output_type": "stream",
     "text": [
      "Epoch 1/25\n",
      "183/183 [==============================] - 2s 8ms/step - loss: 0.1174 - acc: 0.1202\n",
      "Epoch 2/25\n",
      "183/183 [==============================] - 0s 684us/step - loss: 0.0177 - acc: 0.3169\n",
      "Epoch 3/25\n",
      "183/183 [==============================] - 0s 694us/step - loss: 0.0028 - acc: 0.3169\n",
      "Epoch 4/25\n",
      "183/183 [==============================] - 0s 742us/step - loss: 0.0010 - acc: 0.3169\n",
      "Epoch 5/25\n",
      "183/183 [==============================] - 0s 676us/step - loss: 5.8106e-04 - acc: 0.3169\n",
      "Epoch 6/25\n",
      "183/183 [==============================] - 0s 712us/step - loss: 4.1782e-04 - acc: 0.3169\n",
      "Epoch 7/25\n",
      "183/183 [==============================] - 0s 741us/step - loss: 3.3805e-04 - acc: 0.3169\n",
      "Epoch 8/25\n",
      "183/183 [==============================] - 0s 786us/step - loss: 3.0391e-04 - acc: 0.3169\n",
      "Epoch 9/25\n",
      "183/183 [==============================] - 0s 841us/step - loss: 2.7400e-04 - acc: 0.3169\n",
      "Epoch 10/25\n",
      "183/183 [==============================] - 0s 840us/step - loss: 2.5915e-04 - acc: 0.3169\n",
      "Epoch 11/25\n",
      "183/183 [==============================] - 0s 859us/step - loss: 2.4947e-04 - acc: 0.3169\n",
      "Epoch 12/25\n",
      "183/183 [==============================] - 0s 866us/step - loss: 2.4068e-04 - acc: 0.3169\n",
      "Epoch 13/25\n",
      "183/183 [==============================] - 0s 867us/step - loss: 2.3473e-04 - acc: 0.3169\n",
      "Epoch 14/25\n",
      "183/183 [==============================] - 0s 861us/step - loss: 2.3288e-04 - acc: 0.3169\n",
      "Epoch 15/25\n",
      "183/183 [==============================] - 0s 861us/step - loss: 2.2814e-04 - acc: 0.3169\n",
      "Epoch 16/25\n",
      "183/183 [==============================] - 0s 863us/step - loss: 2.2385e-04 - acc: 0.3169\n",
      "Epoch 17/25\n",
      "183/183 [==============================] - 0s 867us/step - loss: 2.2079e-04 - acc: 0.3169\n",
      "Epoch 18/25\n",
      "183/183 [==============================] - 0s 863us/step - loss: 2.1814e-04 - acc: 0.3169\n",
      "Epoch 19/25\n",
      "183/183 [==============================] - 0s 858us/step - loss: 2.1747e-04 - acc: 0.3169\n",
      "Epoch 20/25\n",
      "183/183 [==============================] - 0s 864us/step - loss: 2.2417e-04 - acc: 0.3169\n",
      "Epoch 21/25\n",
      "183/183 [==============================] - 0s 869us/step - loss: 2.1069e-04 - acc: 0.3169\n",
      "Epoch 22/25\n",
      "183/183 [==============================] - 0s 872us/step - loss: 2.0967e-04 - acc: 0.3169\n",
      "Epoch 23/25\n",
      "183/183 [==============================] - 0s 876us/step - loss: 2.0795e-04 - acc: 0.3169\n",
      "Epoch 24/25\n",
      "183/183 [==============================] - 0s 885us/step - loss: 2.0439e-04 - acc: 0.3169\n",
      "Epoch 25/25\n",
      "183/183 [==============================] - 0s 860us/step - loss: 2.0704e-04 - acc: 0.3169\n"
     ]
    }
   ],
   "source": [
    "model = Sequential()\n",
    "model.add(Dense(18,activation='relu',input_shape=(7, )))\n",
    "model.add(Dense(64, activation='relu'))\n",
    "model.add(Dense(32, activation='sigmoid'))\n",
    "model.add(Dense(1, activation='sigmoid'))\n",
    "model.compile(optimizer='adam',loss='mse',metrics=['accuracy'])\n",
    "model.fit(train.drop(\"Price\", axis=1),train['Price'],epochs=25,batch_size=2)\n",
    "predictions = model.predict(test.drop('Price', axis=1))"
   ]
  },
  {
   "cell_type": "code",
   "execution_count": 183,
   "metadata": {},
   "outputs": [],
   "source": [
    "predictions\n",
    "results = np.array(predictions).reshape(1,182)"
   ]
  },
  {
   "cell_type": "code",
   "execution_count": 184,
   "metadata": {},
   "outputs": [],
   "source": [
    "true = test['Price'].values"
   ]
  },
  {
   "cell_type": "code",
   "execution_count": 185,
   "metadata": {},
   "outputs": [
    {
     "data": {
      "text/plain": [
       "array([[ 0.02485112, -0.00928798,  0.03431241,  0.03153754,  0.03507475,\n",
       "        -0.00929806, -0.00929093,  0.05915476,  0.05900574,  0.02180058,\n",
       "        -0.01437956, -0.00545985, -0.00929734, -0.00928834,  0.0178754 ,\n",
       "         0.02157181,  0.03585574,  0.05973806,  0.02792491, -0.00929004,\n",
       "        -0.0092797 ,  0.02393614,  0.00096619,  0.01448149,  0.01735226,\n",
       "         0.01633064, -0.00929329, -0.00929168,  0.01008705, -0.00913485,\n",
       "        -0.00289643, -0.0078759 ,  0.00296352, -0.00932175, -0.00931028,\n",
       "         0.0125419 ,  0.00520264,  0.01217181, -0.02471691, -0.01329791,\n",
       "        -0.00930735, -0.00930995, -0.00849667, -0.02598408, -0.02785121,\n",
       "        -0.02273782, -0.02490906, -0.00929376, -0.009287  , -0.02009081,\n",
       "        -0.03830606, -0.05538345, -0.05446971, -0.063069  , -0.00932732,\n",
       "        -0.00931475, -0.06086579, -0.05942016, -0.05555253, -0.03331263,\n",
       "        -0.06027469, -0.00933918, -0.00931883, -0.00929981, -0.05049095,\n",
       "        -0.04426446, -0.05776018, -0.05094133, -0.00934422, -0.00933483,\n",
       "        -0.04719454, -0.05716023, -0.05394257, -0.04438263, -0.0211853 ,\n",
       "        -0.00928944, -0.00930378, -0.03556088, -0.04089824, -0.03348161,\n",
       "        -0.02462895, -0.00024742, -0.00927117, -0.0092757 , -0.01834965,\n",
       "        -0.03168307, -0.02853162, -0.03310137, -0.02611568, -0.00937551,\n",
       "        -0.00936499, -0.03495005, -0.03684533, -0.04198901, -0.03872377,\n",
       "        -0.03623164, -0.00934997, -0.00934336, -0.03975713, -0.03920346,\n",
       "        -0.03890914, -0.03970902, -0.03184878, -0.0093669 , -0.00945833,\n",
       "        -0.0360309 , -0.0378157 , -0.04224549, -0.04097038, -0.05141894,\n",
       "        -0.00932127, -0.00933924, -0.03035012, -0.02597552, -0.03318246,\n",
       "        -0.03576018, -0.03763025, -0.00958005, -0.00963336, -0.03842776,\n",
       "        -0.04444331, -0.03807859, -0.03091802, -0.0394964 , -0.00950766,\n",
       "        -0.00949207, -0.03700141, -0.03986594, -0.03848318, -0.05219376,\n",
       "        -0.04501393, -0.00993663, -0.00970414, -0.05214126, -0.06470328,\n",
       "        -0.06110424, -0.06357972, -0.04963823, -0.00962126, -0.00982371,\n",
       "        -0.04515188, -0.04639595, -0.04381167, -0.00983682, -0.05364663,\n",
       "        -0.00950402, -0.009673  , -0.06162979, -0.06813321, -0.0595506 ,\n",
       "        -0.05354929, -0.04638533, -0.00959563, -0.00959003, -0.0604287 ,\n",
       "        -0.05315283, -0.05640819, -0.05509801, -0.05197624, -0.00993744,\n",
       "        -0.01001373, -0.0605918 , -0.05785832, -0.05570613, -0.04819403,\n",
       "        -0.0350751 , -0.00984821, -0.00979349, -0.04178282, -0.04063901,\n",
       "        -0.03525841, -0.02808138, -0.02627985, -0.01004666, -0.01038322,\n",
       "        -0.01084536, -0.01711856, -0.01471425, -0.01800624, -0.01792951,\n",
       "        -0.01188157, -0.01472276]])"
      ]
     },
     "execution_count": 185,
     "metadata": {},
     "output_type": "execute_result"
    }
   ],
   "source": [
    "diff = (true-results)\n",
    "diff"
   ]
  },
  {
   "cell_type": "code",
   "execution_count": 186,
   "metadata": {},
   "outputs": [],
   "source": [
    "import matplotlib.pyplot as plt\n",
    "import seaborn as sns\n",
    "%matplotlib inline"
   ]
  },
  {
   "cell_type": "code",
   "execution_count": 187,
   "metadata": {},
   "outputs": [
    {
     "data": {
      "text/plain": [
       "<matplotlib.axes._subplots.AxesSubplot at 0x7f91f9657810>"
      ]
     },
     "execution_count": 187,
     "metadata": {},
     "output_type": "execute_result"
    },
    {
     "data": {
      "image/png": "[encoded data removed]",
      "text/plain": [
       "<Figure size 432x288 with 1 Axes>"
      ]
     },
     "metadata": {
      "needs_background": "light"
     },
     "output_type": "display_data"
    }
   ],
   "source": [
    "sns.distplot(diff, bins=25)"
   ]
  },
  {
   "cell_type": "code",
   "execution_count": null,
   "metadata": {},
   "outputs": [],
   "source": []
  }
 ],
 "metadata": {
  "kernelspec": {
   "display_name": "Python 3",
   "language": "python",
   "name": "python3"
  },
  "language_info": {
   "codemirror_mode": {
    "name": "ipython",
    "version": 3
   },
   "file_extension": ".py",
   "mimetype": "text/x-python",
   "name": "python",
   "nbconvert_exporter": "python",
   "pygments_lexer": "ipython3",
   "version": "3.7.4"
  }
 },
 "nbformat": 4,
 "nbformat_minor": 2
}
