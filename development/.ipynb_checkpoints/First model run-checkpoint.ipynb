{
 "cells": [
  {
   "cell_type": "code",
   "execution_count": 1,
   "metadata": {},
   "outputs": [],
   "source": [
    "import numpy as np\n",
    "import pandas as pd"
   ]
  },
  {
   "cell_type": "code",
   "execution_count": 2,
   "metadata": {},
   "outputs": [],
   "source": [
    "weather = pd.read_csv('Datasets/weather.csv', index_col = 'Date')\n",
    "price = pd.read_csv('Datasets/Data.csv', index_col='Date', parse_dates=True)"
   ]
  },
  {
   "cell_type": "code",
   "execution_count": 3,
   "metadata": {},
   "outputs": [
    {
     "data": {
      "text/html": [
       "<div>\n",
       "<style scoped>\n",
       "    .dataframe tbody tr th:only-of-type {\n",
       "        vertical-align: middle;\n",
       "    }\n",
       "\n",
       "    .dataframe tbody tr th {\n",
       "        vertical-align: top;\n",
       "    }\n",
       "\n",
       "    .dataframe thead th {\n",
       "        text-align: right;\n",
       "    }\n",
       "</style>\n",
       "<table border=\"1\" class=\"dataframe\">\n",
       "  <thead>\n",
       "    <tr style=\"text-align: right;\">\n",
       "      <th></th>\n",
       "      <th>Price</th>\n",
       "      <th>Open</th>\n",
       "      <th>High</th>\n",
       "      <th>Low</th>\n",
       "      <th>Vol.</th>\n",
       "      <th>Change %</th>\n",
       "    </tr>\n",
       "    <tr>\n",
       "      <th>Date</th>\n",
       "      <th></th>\n",
       "      <th></th>\n",
       "      <th></th>\n",
       "      <th></th>\n",
       "      <th></th>\n",
       "      <th></th>\n",
       "    </tr>\n",
       "  </thead>\n",
       "  <tbody>\n",
       "    <tr>\n",
       "      <th>2010-01-04</th>\n",
       "      <td>418.50</td>\n",
       "      <td>415.75</td>\n",
       "      <td>426.25</td>\n",
       "      <td>413.25</td>\n",
       "      <td>140.55K</td>\n",
       "      <td>1.03%</td>\n",
       "    </tr>\n",
       "    <tr>\n",
       "      <th>2010-01-05</th>\n",
       "      <td>418.75</td>\n",
       "      <td>417.25</td>\n",
       "      <td>420.00</td>\n",
       "      <td>415.25</td>\n",
       "      <td>80.97K</td>\n",
       "      <td>0.06%</td>\n",
       "    </tr>\n",
       "    <tr>\n",
       "      <th>2010-01-06</th>\n",
       "      <td>421.75</td>\n",
       "      <td>418.00</td>\n",
       "      <td>422.00</td>\n",
       "      <td>416.00</td>\n",
       "      <td>96.45K</td>\n",
       "      <td>0.72%</td>\n",
       "    </tr>\n",
       "    <tr>\n",
       "      <th>2010-01-07</th>\n",
       "      <td>417.50</td>\n",
       "      <td>421.00</td>\n",
       "      <td>424.00</td>\n",
       "      <td>414.50</td>\n",
       "      <td>137.40K</td>\n",
       "      <td>-1.01%</td>\n",
       "    </tr>\n",
       "    <tr>\n",
       "      <th>2010-01-08</th>\n",
       "      <td>423.00</td>\n",
       "      <td>417.50</td>\n",
       "      <td>423.75</td>\n",
       "      <td>415.00</td>\n",
       "      <td>135.00K</td>\n",
       "      <td>1.32%</td>\n",
       "    </tr>\n",
       "  </tbody>\n",
       "</table>\n",
       "</div>"
      ],
      "text/plain": [
       "             Price    Open    High     Low     Vol. Change %\n",
       "Date                                                        \n",
       "2010-01-04  418.50  415.75  426.25  413.25  140.55K    1.03%\n",
       "2010-01-05  418.75  417.25  420.00  415.25   80.97K    0.06%\n",
       "2010-01-06  421.75  418.00  422.00  416.00   96.45K    0.72%\n",
       "2010-01-07  417.50  421.00  424.00  414.50  137.40K   -1.01%\n",
       "2010-01-08  423.00  417.50  423.75  415.00  135.00K    1.32%"
      ]
     },
     "execution_count": 3,
     "metadata": {},
     "output_type": "execute_result"
    }
   ],
   "source": [
    "price = price[(price.index > '2010-01-01') & (price.index < '2019-01-01')]\n",
    "price = price[::-1]\n",
    "price.head()"
   ]
  },
  {
   "cell_type": "code",
   "execution_count": 4,
   "metadata": {},
   "outputs": [
    {
     "data": {
      "text/html": [
       "<div>\n",
       "<style scoped>\n",
       "    .dataframe tbody tr th:only-of-type {\n",
       "        vertical-align: middle;\n",
       "    }\n",
       "\n",
       "    .dataframe tbody tr th {\n",
       "        vertical-align: top;\n",
       "    }\n",
       "\n",
       "    .dataframe thead th {\n",
       "        text-align: right;\n",
       "    }\n",
       "</style>\n",
       "<table border=\"1\" class=\"dataframe\">\n",
       "  <thead>\n",
       "    <tr style=\"text-align: right;\">\n",
       "      <th></th>\n",
       "      <th>TMAX</th>\n",
       "      <th>TMIN</th>\n",
       "      <th>PRCP</th>\n",
       "      <th>SNOW</th>\n",
       "    </tr>\n",
       "    <tr>\n",
       "      <th>Date</th>\n",
       "      <th></th>\n",
       "      <th></th>\n",
       "      <th></th>\n",
       "      <th></th>\n",
       "    </tr>\n",
       "  </thead>\n",
       "  <tbody>\n",
       "    <tr>\n",
       "      <th>2010-01-01</th>\n",
       "      <td>-31.046402</td>\n",
       "      <td>-74.829545</td>\n",
       "      <td>3.594223</td>\n",
       "      <td>4.698390</td>\n",
       "    </tr>\n",
       "    <tr>\n",
       "      <th>2010-01-02</th>\n",
       "      <td>-52.175943</td>\n",
       "      <td>-101.472170</td>\n",
       "      <td>3.552830</td>\n",
       "      <td>7.444340</td>\n",
       "    </tr>\n",
       "    <tr>\n",
       "      <th>2010-01-03</th>\n",
       "      <td>-57.468414</td>\n",
       "      <td>-103.546093</td>\n",
       "      <td>2.228358</td>\n",
       "      <td>5.344408</td>\n",
       "    </tr>\n",
       "    <tr>\n",
       "      <th>2010-01-04</th>\n",
       "      <td>-46.521938</td>\n",
       "      <td>-88.392139</td>\n",
       "      <td>2.521024</td>\n",
       "      <td>5.994973</td>\n",
       "    </tr>\n",
       "    <tr>\n",
       "      <th>2010-01-05</th>\n",
       "      <td>-40.622883</td>\n",
       "      <td>-76.595881</td>\n",
       "      <td>2.895195</td>\n",
       "      <td>4.625172</td>\n",
       "    </tr>\n",
       "  </tbody>\n",
       "</table>\n",
       "</div>"
      ],
      "text/plain": [
       "                 TMAX        TMIN      PRCP      SNOW\n",
       "Date                                                 \n",
       "2010-01-01 -31.046402  -74.829545  3.594223  4.698390\n",
       "2010-01-02 -52.175943 -101.472170  3.552830  7.444340\n",
       "2010-01-03 -57.468414 -103.546093  2.228358  5.344408\n",
       "2010-01-04 -46.521938  -88.392139  2.521024  5.994973\n",
       "2010-01-05 -40.622883  -76.595881  2.895195  4.625172"
      ]
     },
     "execution_count": 4,
     "metadata": {},
     "output_type": "execute_result"
    }
   ],
   "source": [
    "weather.head()"
   ]
  },
  {
   "cell_type": "code",
   "execution_count": 5,
   "metadata": {},
   "outputs": [
    {
     "data": {
      "text/html": [
       "<div>\n",
       "<style scoped>\n",
       "    .dataframe tbody tr th:only-of-type {\n",
       "        vertical-align: middle;\n",
       "    }\n",
       "\n",
       "    .dataframe tbody tr th {\n",
       "        vertical-align: top;\n",
       "    }\n",
       "\n",
       "    .dataframe thead th {\n",
       "        text-align: right;\n",
       "    }\n",
       "</style>\n",
       "<table border=\"1\" class=\"dataframe\">\n",
       "  <thead>\n",
       "    <tr style=\"text-align: right;\">\n",
       "      <th></th>\n",
       "      <th>Price</th>\n",
       "      <th>Open</th>\n",
       "      <th>High</th>\n",
       "      <th>Low</th>\n",
       "      <th>Vol.</th>\n",
       "      <th>Change %</th>\n",
       "      <th>TMAX</th>\n",
       "      <th>TMIN</th>\n",
       "      <th>PRCP</th>\n",
       "      <th>SNOW</th>\n",
       "    </tr>\n",
       "    <tr>\n",
       "      <th>Date</th>\n",
       "      <th></th>\n",
       "      <th></th>\n",
       "      <th></th>\n",
       "      <th></th>\n",
       "      <th></th>\n",
       "      <th></th>\n",
       "      <th></th>\n",
       "      <th></th>\n",
       "      <th></th>\n",
       "      <th></th>\n",
       "    </tr>\n",
       "  </thead>\n",
       "  <tbody>\n",
       "    <tr>\n",
       "      <th>2010-01-01</th>\n",
       "      <td>354.879221</td>\n",
       "      <td>0.00</td>\n",
       "      <td>0.00</td>\n",
       "      <td>0.00</td>\n",
       "      <td>0</td>\n",
       "      <td>0</td>\n",
       "      <td>-31.046402</td>\n",
       "      <td>-74.829545</td>\n",
       "      <td>3.594223</td>\n",
       "      <td>4.698390</td>\n",
       "    </tr>\n",
       "    <tr>\n",
       "      <th>2010-01-02</th>\n",
       "      <td>354.879221</td>\n",
       "      <td>0.00</td>\n",
       "      <td>0.00</td>\n",
       "      <td>0.00</td>\n",
       "      <td>0</td>\n",
       "      <td>0</td>\n",
       "      <td>-52.175943</td>\n",
       "      <td>-101.472170</td>\n",
       "      <td>3.552830</td>\n",
       "      <td>7.444340</td>\n",
       "    </tr>\n",
       "    <tr>\n",
       "      <th>2010-01-03</th>\n",
       "      <td>354.879221</td>\n",
       "      <td>0.00</td>\n",
       "      <td>0.00</td>\n",
       "      <td>0.00</td>\n",
       "      <td>0</td>\n",
       "      <td>0</td>\n",
       "      <td>-57.468414</td>\n",
       "      <td>-103.546093</td>\n",
       "      <td>2.228358</td>\n",
       "      <td>5.344408</td>\n",
       "    </tr>\n",
       "    <tr>\n",
       "      <th>2010-01-04</th>\n",
       "      <td>418.500000</td>\n",
       "      <td>415.75</td>\n",
       "      <td>426.25</td>\n",
       "      <td>413.25</td>\n",
       "      <td>140.55K</td>\n",
       "      <td>1.03%</td>\n",
       "      <td>-46.521938</td>\n",
       "      <td>-88.392139</td>\n",
       "      <td>2.521024</td>\n",
       "      <td>5.994973</td>\n",
       "    </tr>\n",
       "    <tr>\n",
       "      <th>2010-01-05</th>\n",
       "      <td>418.750000</td>\n",
       "      <td>417.25</td>\n",
       "      <td>420.00</td>\n",
       "      <td>415.25</td>\n",
       "      <td>80.97K</td>\n",
       "      <td>0.06%</td>\n",
       "      <td>-40.622883</td>\n",
       "      <td>-76.595881</td>\n",
       "      <td>2.895195</td>\n",
       "      <td>4.625172</td>\n",
       "    </tr>\n",
       "  </tbody>\n",
       "</table>\n",
       "</div>"
      ],
      "text/plain": [
       "                 Price    Open    High     Low     Vol. Change %       TMAX  \\\n",
       "Date                                                                          \n",
       "2010-01-01  354.879221    0.00    0.00    0.00        0        0 -31.046402   \n",
       "2010-01-02  354.879221    0.00    0.00    0.00        0        0 -52.175943   \n",
       "2010-01-03  354.879221    0.00    0.00    0.00        0        0 -57.468414   \n",
       "2010-01-04  418.500000  415.75  426.25  413.25  140.55K    1.03% -46.521938   \n",
       "2010-01-05  418.750000  417.25  420.00  415.25   80.97K    0.06% -40.622883   \n",
       "\n",
       "                  TMIN      PRCP      SNOW  \n",
       "Date                                        \n",
       "2010-01-01  -74.829545  3.594223  4.698390  \n",
       "2010-01-02 -101.472170  3.552830  7.444340  \n",
       "2010-01-03 -103.546093  2.228358  5.344408  \n",
       "2010-01-04  -88.392139  2.521024  5.994973  \n",
       "2010-01-05  -76.595881  2.895195  4.625172  "
      ]
     },
     "execution_count": 5,
     "metadata": {},
     "output_type": "execute_result"
    }
   ],
   "source": [
    "#Merge the two dataframes based on Index\n",
    "final = pd.concat([price, weather],axis=1)\n",
    "final = final.fillna(0)\n",
    "final['Price']=final['Price'].map(lambda x: final.Price.mean() if x == 0 else x)\n",
    "index = final.index.values\n",
    "final.head()"
   ]
  },
  {
   "cell_type": "code",
   "execution_count": 6,
   "metadata": {},
   "outputs": [],
   "source": [
    "from sklearn.preprocessing import MinMaxScaler"
   ]
  },
  {
   "cell_type": "code",
   "execution_count": 7,
   "metadata": {},
   "outputs": [],
   "source": [
    "scaler = MinMaxScaler()\n",
    "labels = final.drop(['Price','Vol.','Change %'], axis=1)"
   ]
  },
  {
   "cell_type": "code",
   "execution_count": 8,
   "metadata": {},
   "outputs": [],
   "source": [
    "labels = pd.DataFrame(scaler.fit_transform(labels))\n",
    "labels.columns = ['Open', 'High', 'Low', 'TMAX', 'TMIN','PRCP','SNOW']\n",
    "labels = labels.set_index(index)"
   ]
  },
  {
   "cell_type": "code",
   "execution_count": 9,
   "metadata": {},
   "outputs": [
    {
     "data": {
      "text/html": [
       "<div>\n",
       "<style scoped>\n",
       "    .dataframe tbody tr th:only-of-type {\n",
       "        vertical-align: middle;\n",
       "    }\n",
       "\n",
       "    .dataframe tbody tr th {\n",
       "        vertical-align: top;\n",
       "    }\n",
       "\n",
       "    .dataframe thead th {\n",
       "        text-align: right;\n",
       "    }\n",
       "</style>\n",
       "<table border=\"1\" class=\"dataframe\">\n",
       "  <thead>\n",
       "    <tr style=\"text-align: right;\">\n",
       "      <th></th>\n",
       "      <th>Open</th>\n",
       "      <th>High</th>\n",
       "      <th>Low</th>\n",
       "      <th>TMAX</th>\n",
       "      <th>TMIN</th>\n",
       "      <th>PRCP</th>\n",
       "      <th>SNOW</th>\n",
       "    </tr>\n",
       "  </thead>\n",
       "  <tbody>\n",
       "    <tr>\n",
       "      <th>2010-01-01</th>\n",
       "      <td>0.000000</td>\n",
       "      <td>0.000000</td>\n",
       "      <td>0.000000</td>\n",
       "      <td>0.224588</td>\n",
       "      <td>0.194262</td>\n",
       "      <td>0.011184</td>\n",
       "      <td>0.039692</td>\n",
       "    </tr>\n",
       "    <tr>\n",
       "      <th>2010-01-02</th>\n",
       "      <td>0.000000</td>\n",
       "      <td>0.000000</td>\n",
       "      <td>0.000000</td>\n",
       "      <td>0.124014</td>\n",
       "      <td>0.060024</td>\n",
       "      <td>0.011055</td>\n",
       "      <td>0.062889</td>\n",
       "    </tr>\n",
       "    <tr>\n",
       "      <th>2010-01-03</th>\n",
       "      <td>0.000000</td>\n",
       "      <td>0.000000</td>\n",
       "      <td>0.000000</td>\n",
       "      <td>0.098823</td>\n",
       "      <td>0.049574</td>\n",
       "      <td>0.006934</td>\n",
       "      <td>0.045149</td>\n",
       "    </tr>\n",
       "    <tr>\n",
       "      <th>2010-01-04</th>\n",
       "      <td>0.500753</td>\n",
       "      <td>0.505185</td>\n",
       "      <td>0.502279</td>\n",
       "      <td>0.150927</td>\n",
       "      <td>0.125927</td>\n",
       "      <td>0.007845</td>\n",
       "      <td>0.050645</td>\n",
       "    </tr>\n",
       "    <tr>\n",
       "      <th>2010-01-05</th>\n",
       "      <td>0.502559</td>\n",
       "      <td>0.497778</td>\n",
       "      <td>0.504710</td>\n",
       "      <td>0.179005</td>\n",
       "      <td>0.185362</td>\n",
       "      <td>0.009009</td>\n",
       "      <td>0.039073</td>\n",
       "    </tr>\n",
       "  </tbody>\n",
       "</table>\n",
       "</div>"
      ],
      "text/plain": [
       "                Open      High       Low      TMAX      TMIN      PRCP  \\\n",
       "2010-01-01  0.000000  0.000000  0.000000  0.224588  0.194262  0.011184   \n",
       "2010-01-02  0.000000  0.000000  0.000000  0.124014  0.060024  0.011055   \n",
       "2010-01-03  0.000000  0.000000  0.000000  0.098823  0.049574  0.006934   \n",
       "2010-01-04  0.500753  0.505185  0.502279  0.150927  0.125927  0.007845   \n",
       "2010-01-05  0.502559  0.497778  0.504710  0.179005  0.185362  0.009009   \n",
       "\n",
       "                SNOW  \n",
       "2010-01-01  0.039692  \n",
       "2010-01-02  0.062889  \n",
       "2010-01-03  0.045149  \n",
       "2010-01-04  0.050645  \n",
       "2010-01-05  0.039073  "
      ]
     },
     "execution_count": 9,
     "metadata": {},
     "output_type": "execute_result"
    }
   ],
   "source": [
    "labels.head()"
   ]
  },
  {
   "cell_type": "code",
   "execution_count": 17,
   "metadata": {},
   "outputs": [
    {
     "name": "stdout",
     "output_type": "stream",
     "text": [
      "<class 'pandas.core.frame.DataFrame'>\n",
      "DatetimeIndex: 3287 entries, 2010-01-01 to 2018-12-31\n",
      "Data columns (total 7 columns):\n",
      "Open    3287 non-null float64\n",
      "High    3287 non-null float64\n",
      "Low     3287 non-null float64\n",
      "TMAX    3287 non-null float64\n",
      "TMIN    3287 non-null float64\n",
      "PRCP    3287 non-null float64\n",
      "SNOW    3287 non-null float64\n",
      "dtypes: float64(7)\n",
      "memory usage: 205.4 KB\n"
     ]
    }
   ],
   "source": [
    "labels.info()"
   ]
  },
  {
   "cell_type": "code",
   "execution_count": 18,
   "metadata": {},
   "outputs": [],
   "source": [
    "#Train Test Split X\n",
    "X_test= labels.tail(287)\n",
    "X_train = labels.head(3000)"
   ]
  },
  {
   "cell_type": "code",
   "execution_count": 19,
   "metadata": {},
   "outputs": [
    {
     "data": {
      "text/html": [
       "<div>\n",
       "<style scoped>\n",
       "    .dataframe tbody tr th:only-of-type {\n",
       "        vertical-align: middle;\n",
       "    }\n",
       "\n",
       "    .dataframe tbody tr th {\n",
       "        vertical-align: top;\n",
       "    }\n",
       "\n",
       "    .dataframe thead th {\n",
       "        text-align: right;\n",
       "    }\n",
       "</style>\n",
       "<table border=\"1\" class=\"dataframe\">\n",
       "  <thead>\n",
       "    <tr style=\"text-align: right;\">\n",
       "      <th></th>\n",
       "      <th>Price</th>\n",
       "      <th>Open</th>\n",
       "      <th>High</th>\n",
       "      <th>Low</th>\n",
       "      <th>Vol.</th>\n",
       "      <th>Change %</th>\n",
       "      <th>TMAX</th>\n",
       "      <th>TMIN</th>\n",
       "      <th>PRCP</th>\n",
       "      <th>SNOW</th>\n",
       "    </tr>\n",
       "    <tr>\n",
       "      <th>Date</th>\n",
       "      <th></th>\n",
       "      <th></th>\n",
       "      <th></th>\n",
       "      <th></th>\n",
       "      <th></th>\n",
       "      <th></th>\n",
       "      <th></th>\n",
       "      <th></th>\n",
       "      <th></th>\n",
       "      <th></th>\n",
       "    </tr>\n",
       "  </thead>\n",
       "  <tbody>\n",
       "  </tbody>\n",
       "</table>\n",
       "</div>"
      ],
      "text/plain": [
       "Empty DataFrame\n",
       "Columns: [Price, Open, High, Low, Vol., Change %, TMAX, TMIN, PRCP, SNOW]\n",
       "Index: []"
      ]
     },
     "execution_count": 19,
     "metadata": {},
     "output_type": "execute_result"
    }
   ],
   "source": [
    "final[final['Price']==0]"
   ]
  },
  {
   "cell_type": "code",
   "execution_count": 20,
   "metadata": {},
   "outputs": [],
   "source": [
    "prices = pd.DataFrame(scaler.fit_transform(pd.DataFrame(final['Price'])))\n",
    "prices.columns = ['Price']\n",
    "prices = prices.set_index(index)\n",
    "prices=prices['Price'].map(lambda x: prices.Price.mean() if x == 0 else x)"
   ]
  },
  {
   "cell_type": "code",
   "execution_count": 61,
   "metadata": {},
   "outputs": [],
   "source": [
    "# Test Train split Y\n",
    "y_test= prices.tail(287)\n",
    "y_train = prices.head(3000)"
   ]
  },
  {
   "cell_type": "code",
   "execution_count": 22,
   "metadata": {},
   "outputs": [
    {
     "data": {
      "text/plain": [
       "Series([], Name: Price, dtype: float64)"
      ]
     },
     "execution_count": 22,
     "metadata": {},
     "output_type": "execute_result"
    }
   ],
   "source": [
    "y_train[y_train==0]"
   ]
  },
  {
   "cell_type": "code",
   "execution_count": 23,
   "metadata": {},
   "outputs": [],
   "source": [
    "from keras.layers import Dense, LSTM\n",
    "from keras.models import Sequential"
   ]
  },
  {
   "cell_type": "code",
   "execution_count": 91,
   "metadata": {},
   "outputs": [],
   "source": [
    "model = Sequential()\n",
    "model.add(Dense(18,activation='relu',input_shape=(7, )))\n",
    "model.add(Dense(64, activation='relu'))\n",
    "model.add(Dense(32, activation='sigmoid'))\n",
    "model.add(Dense(1, activation='sigmoid'))\n",
    "model.compile(optimizer='adam',loss='mse',metrics=['accuracy'])\n",
    "model.fit(X_train, y_train,epochs=25,batch_size=50, verbose=0)\n",
    "predictions = model.predict(X_test)"
   ]
  },
  {
   "cell_type": "code",
   "execution_count": 84,
   "metadata": {},
   "outputs": [],
   "source": [
    "results = np.array(predictions).reshape(287\n",
    "                                        ,1)"
   ]
  },
  {
   "cell_type": "code",
   "execution_count": 85,
   "metadata": {},
   "outputs": [
    {
     "data": {
      "text/plain": [
       "array([373.68097], dtype=float32)"
      ]
     },
     "execution_count": 85,
     "metadata": {},
     "output_type": "execute_result"
    }
   ],
   "source": [
    "results = scaler.inverse_transform(results)\n",
    "y_test_scaled = scaler.inverse_transform(np.array(y_test).reshape(287,1))\n",
    "results[0]"
   ]
  },
  {
   "cell_type": "code",
   "execution_count": 86,
   "metadata": {},
   "outputs": [
    {
     "data": {
      "text/plain": [
       "array([374.5])"
      ]
     },
     "execution_count": 86,
     "metadata": {},
     "output_type": "execute_result"
    }
   ],
   "source": [
    "y_test_scaled[0]"
   ]
  },
  {
   "cell_type": "code",
   "execution_count": 113,
   "metadata": {},
   "outputs": [],
   "source": [
    "pred = pd.DataFrame(results)"
   ]
  },
  {
   "cell_type": "code",
   "execution_count": 114,
   "metadata": {},
   "outputs": [],
   "source": [
    "true = pd.DataFrame(y_test_scaled)"
   ]
  },
  {
   "cell_type": "code",
   "execution_count": 132,
   "metadata": {},
   "outputs": [],
   "source": [
    "date_rng = pd.date_range(start='19-3-2018', end='31-12-2018', freq='D')\n",
    "dq = pd.DataFrame(date_rng, columns=['date'])"
   ]
  },
  {
   "cell_type": "code",
   "execution_count": 145,
   "metadata": {},
   "outputs": [
    {
     "data": {
      "text/html": [
       "<div>\n",
       "<style scoped>\n",
       "    .dataframe tbody tr th:only-of-type {\n",
       "        vertical-align: middle;\n",
       "    }\n",
       "\n",
       "    .dataframe tbody tr th {\n",
       "        vertical-align: top;\n",
       "    }\n",
       "\n",
       "    .dataframe thead th {\n",
       "        text-align: right;\n",
       "    }\n",
       "</style>\n",
       "<table border=\"1\" class=\"dataframe\">\n",
       "  <thead>\n",
       "    <tr style=\"text-align: right;\">\n",
       "      <th></th>\n",
       "      <th>Predictions</th>\n",
       "      <th>Actual</th>\n",
       "      <th>Difference %</th>\n",
       "      <th>Difference</th>\n",
       "    </tr>\n",
       "    <tr>\n",
       "      <th>Date</th>\n",
       "      <th></th>\n",
       "      <th></th>\n",
       "      <th></th>\n",
       "      <th></th>\n",
       "    </tr>\n",
       "  </thead>\n",
       "  <tbody>\n",
       "    <tr>\n",
       "      <th>2018-03-19</th>\n",
       "      <td>373.680969</td>\n",
       "      <td>374.500000</td>\n",
       "      <td>0.002187</td>\n",
       "      <td>0.819031</td>\n",
       "    </tr>\n",
       "    <tr>\n",
       "      <th>2018-03-20</th>\n",
       "      <td>373.022522</td>\n",
       "      <td>375.000000</td>\n",
       "      <td>0.005273</td>\n",
       "      <td>1.977478</td>\n",
       "    </tr>\n",
       "    <tr>\n",
       "      <th>2018-03-21</th>\n",
       "      <td>374.034882</td>\n",
       "      <td>376.000000</td>\n",
       "      <td>0.005226</td>\n",
       "      <td>1.965118</td>\n",
       "    </tr>\n",
       "    <tr>\n",
       "      <th>2018-03-22</th>\n",
       "      <td>373.645142</td>\n",
       "      <td>377.250000</td>\n",
       "      <td>0.009556</td>\n",
       "      <td>3.604858</td>\n",
       "    </tr>\n",
       "    <tr>\n",
       "      <th>2018-03-23</th>\n",
       "      <td>355.904022</td>\n",
       "      <td>354.879221</td>\n",
       "      <td>-0.002888</td>\n",
       "      <td>-1.024801</td>\n",
       "    </tr>\n",
       "  </tbody>\n",
       "</table>\n",
       "</div>"
      ],
      "text/plain": [
       "            Predictions      Actual  Difference %  Difference\n",
       "Date                                                         \n",
       "2018-03-19   373.680969  374.500000      0.002187    0.819031\n",
       "2018-03-20   373.022522  375.000000      0.005273    1.977478\n",
       "2018-03-21   374.034882  376.000000      0.005226    1.965118\n",
       "2018-03-22   373.645142  377.250000      0.009556    3.604858\n",
       "2018-03-23   355.904022  354.879221     -0.002888   -1.024801"
      ]
     },
     "execution_count": 145,
     "metadata": {},
     "output_type": "execute_result"
    }
   ],
   "source": [
    "pred['Date'] = dq\n",
    "pred.columns = ['Predictions', 'Date']\n",
    "true['Date'] = dq\n",
    "true.columns = ['Actual', 'Date']\n",
    "final_results = pd.merge(pred, true, on='Date')\n",
    "final_results.set_index(final_results.Date, inplace = True)\n",
    "final_results.drop('Date', axis=1, inplace=True)\n",
    "final_results['Difference %'] = ((final_results.Actual- final_results.Predictions)/final_results.Actual)\n",
    "final_results['Difference'] = (final_results.Actual- final_results.Predictions)\n",
    "final_results.head()"
   ]
  },
  {
   "cell_type": "code",
   "execution_count": 146,
   "metadata": {},
   "outputs": [],
   "source": [
    "import matplotlib.pyplot as plt\n",
    "import seaborn as sns\n",
    "%matplotlib inline"
   ]
  },
  {
   "cell_type": "code",
   "execution_count": 147,
   "metadata": {},
   "outputs": [
    {
     "data": {
      "text/plain": [
       "<matplotlib.axes._subplots.AxesSubplot at 0x7fb98966e650>"
      ]
     },
     "execution_count": 147,
     "metadata": {},
     "output_type": "execute_result"
    },
    {
     "data": {
      "image/png": "[encoded data removed]",
      "text/plain": [
       "<Figure size 432x288 with 1 Axes>"
      ]
     },
     "metadata": {
      "needs_background": "light"
     },
     "output_type": "display_data"
    }
   ],
   "source": [
    "sns.scatterplot('Actual', 'Predictions', data=final_results)"
   ]
  },
  {
   "cell_type": "code",
   "execution_count": 152,
   "metadata": {},
   "outputs": [
    {
     "data": {
      "text/plain": [
       "<matplotlib.axes._subplots.AxesSubplot at 0x7fb949701f50>"
      ]
     },
     "execution_count": 152,
     "metadata": {},
     "output_type": "execute_result"
    },
    {
     "data": {
      "image/png": "[encoded data removed]",
      "text/plain": [
       "<Figure size 432x288 with 1 Axes>"
      ]
     },
     "metadata": {
      "needs_background": "light"
     },
     "output_type": "display_data"
    }
   ],
   "source": [
    "sns.distplot(final_results.Difference, bins=25)"
   ]
  },
  {
   "cell_type": "code",
   "execution_count": 156,
   "metadata": {},
   "outputs": [
    {
     "data": {
      "text/plain": [
       "<matplotlib.axes._subplots.AxesSubplot at 0x7fb949e44210>"
      ]
     },
     "execution_count": 156,
     "metadata": {},
     "output_type": "execute_result"
    },
    {
     "data": {
      "image/png": "[encoded data removed]",
      "text/plain": [
       "<Figure size 1152x576 with 1 Axes>"
      ]
     },
     "metadata": {
      "needs_background": "light"
     },
     "output_type": "display_data"
    }
   ],
   "source": [
    "final_results.Predictions.plot( figsize=(16,8))\n",
    "final_results.Actual.plot()"
   ]
  },
  {
   "cell_type": "code",
   "execution_count": null,
   "metadata": {},
   "outputs": [],
   "source": []
  }
 ],
 "metadata": {
  "kernelspec": {
   "display_name": "Python 3",
   "language": "python",
   "name": "python3"
  },
  "language_info": {
   "codemirror_mode": {
    "name": "ipython",
    "version": 3
   },
   "file_extension": ".py",
   "mimetype": "text/x-python",
   "name": "python",
   "nbconvert_exporter": "python",
   "pygments_lexer": "ipython3",
   "version": "3.7.4"
  }
 },
 "nbformat": 4,
 "nbformat_minor": 2
}
