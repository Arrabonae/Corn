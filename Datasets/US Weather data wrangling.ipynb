{
 "cells": [
  {
   "cell_type": "code",
   "execution_count": 1,
   "metadata": {},
   "outputs": [],
   "source": [
    "import pandas as pd\n",
    "import numpy as np"
   ]
  },
  {
   "cell_type": "code",
   "execution_count": 2,
   "metadata": {},
   "outputs": [],
   "source": [
    "df_1 = pd.read_csv('w_2010.csv', sep=',', header=None)\n",
    "df_2 = pd.read_csv('w_2011.csv', sep=',', header=None)\n",
    "df_3 = pd.read_csv('w_2012.csv', sep=',', header=None)\n",
    "df_4 = pd.read_csv('w_2013.csv', sep=',', header=None)\n",
    "df_5 = pd.read_csv('w_2014.csv', sep=',', header=None)\n",
    "df_6 = pd.read_csv('w_2015.csv', sep=',', header=None)\n",
    "df_7 = pd.read_csv('w_2016.csv', sep=',', header=None)\n",
    "df_8 = pd.read_csv('w_2017.csv', sep=',')\n",
    "df_9 = pd.read_csv('w_2018.csv', sep=',', header=None)\n",
    "df_1.columns = ['Station identifier','Date','Observation type','Observation value','Measurement Flag','Quality Flag','Source Flag','Observation Time']\n",
    "df_2.columns = ['Station identifier','Date','Observation type','Observation value','Measurement Flag','Quality Flag','Source Flag','Observation Time']\n",
    "df_3.columns = ['Station identifier','Date','Observation type','Observation value','Measurement Flag','Quality Flag','Source Flag','Observation Time']\n",
    "df_4.columns = ['Station identifier','Date','Observation type','Observation value','Measurement Flag','Quality Flag','Source Flag','Observation Time']\n",
    "df_5.columns = ['Station identifier','Date','Observation type','Observation value','Measurement Flag','Quality Flag','Source Flag','Observation Time']\n",
    "df_6.columns = ['Station identifier','Date','Observation type','Observation value','Measurement Flag','Quality Flag','Source Flag','Observation Time']\n",
    "df_7.columns = ['Station identifier','Date','Observation type','Observation value','Measurement Flag','Quality Flag','Source Flag','Observation Time']\n",
    "df_8 = df_8.drop('Unnamed: 0', axis=1)\n",
    "df_9.columns = ['Station identifier','Date','Observation type','Observation value','Measurement Flag','Quality Flag','Source Flag','Observation Time']"
   ]
  },
  {
   "cell_type": "code",
   "execution_count": 11,
   "metadata": {},
   "outputs": [
    {
     "data": {
      "text/html": [
       "<div>\n",
       "<style scoped>\n",
       "    .dataframe tbody tr th:only-of-type {\n",
       "        vertical-align: middle;\n",
       "    }\n",
       "\n",
       "    .dataframe tbody tr th {\n",
       "        vertical-align: top;\n",
       "    }\n",
       "\n",
       "    .dataframe thead th {\n",
       "        text-align: right;\n",
       "    }\n",
       "</style>\n",
       "<table border=\"1\" class=\"dataframe\">\n",
       "  <thead>\n",
       "    <tr style=\"text-align: right;\">\n",
       "      <th></th>\n",
       "      <th>Station identifier</th>\n",
       "      <th>Date</th>\n",
       "      <th>Observation type</th>\n",
       "      <th>Observation value</th>\n",
       "      <th>Measurement Flag</th>\n",
       "      <th>Quality Flag</th>\n",
       "      <th>Source Flag</th>\n",
       "      <th>Observation Time</th>\n",
       "    </tr>\n",
       "  </thead>\n",
       "  <tbody>\n",
       "    <tr>\n",
       "      <th>0</th>\n",
       "      <td>US1ILMG0006</td>\n",
       "      <td>20180101</td>\n",
       "      <td>PRCP</td>\n",
       "      <td>0</td>\n",
       "      <td>NaN</td>\n",
       "      <td>NaN</td>\n",
       "      <td>N</td>\n",
       "      <td>NaN</td>\n",
       "    </tr>\n",
       "    <tr>\n",
       "      <th>1</th>\n",
       "      <td>US1ILMG0006</td>\n",
       "      <td>20180101</td>\n",
       "      <td>SNOW</td>\n",
       "      <td>0</td>\n",
       "      <td>NaN</td>\n",
       "      <td>NaN</td>\n",
       "      <td>N</td>\n",
       "      <td>NaN</td>\n",
       "    </tr>\n",
       "    <tr>\n",
       "      <th>2</th>\n",
       "      <td>CA1MB000296</td>\n",
       "      <td>20180101</td>\n",
       "      <td>PRCP</td>\n",
       "      <td>0</td>\n",
       "      <td>NaN</td>\n",
       "      <td>NaN</td>\n",
       "      <td>N</td>\n",
       "      <td>NaN</td>\n",
       "    </tr>\n",
       "    <tr>\n",
       "      <th>3</th>\n",
       "      <td>US1ILCP0081</td>\n",
       "      <td>20180101</td>\n",
       "      <td>PRCP</td>\n",
       "      <td>0</td>\n",
       "      <td>NaN</td>\n",
       "      <td>NaN</td>\n",
       "      <td>N</td>\n",
       "      <td>NaN</td>\n",
       "    </tr>\n",
       "    <tr>\n",
       "      <th>4</th>\n",
       "      <td>US1ILCP0081</td>\n",
       "      <td>20180101</td>\n",
       "      <td>SNOW</td>\n",
       "      <td>0</td>\n",
       "      <td>NaN</td>\n",
       "      <td>NaN</td>\n",
       "      <td>N</td>\n",
       "      <td>NaN</td>\n",
       "    </tr>\n",
       "  </tbody>\n",
       "</table>\n",
       "</div>"
      ],
      "text/plain": [
       "  Station identifier      Date Observation type  Observation value  \\\n",
       "0        US1ILMG0006  20180101             PRCP                  0   \n",
       "1        US1ILMG0006  20180101             SNOW                  0   \n",
       "2        CA1MB000296  20180101             PRCP                  0   \n",
       "3        US1ILCP0081  20180101             PRCP                  0   \n",
       "4        US1ILCP0081  20180101             SNOW                  0   \n",
       "\n",
       "  Measurement Flag Quality Flag Source Flag  Observation Time  \n",
       "0              NaN          NaN           N               NaN  \n",
       "1              NaN          NaN           N               NaN  \n",
       "2              NaN          NaN           N               NaN  \n",
       "3              NaN          NaN           N               NaN  \n",
       "4              NaN          NaN           N               NaN  "
      ]
     },
     "execution_count": 11,
     "metadata": {},
     "output_type": "execute_result"
    }
   ],
   "source": [
    "df_9.head()"
   ]
  },
  {
   "cell_type": "code",
   "execution_count": 12,
   "metadata": {},
   "outputs": [],
   "source": [
    "frames = [df_1,df_2,df_3,df_4,df_5,df_6,df_7,df_8,df_9]"
   ]
  },
  {
   "cell_type": "code",
   "execution_count": 13,
   "metadata": {},
   "outputs": [],
   "source": [
    "df = pd.concat(frames, sort=False)"
   ]
  },
  {
   "cell_type": "code",
   "execution_count": 14,
   "metadata": {},
   "outputs": [
    {
     "data": {
      "text/html": [
       "<div>\n",
       "<style scoped>\n",
       "    .dataframe tbody tr th:only-of-type {\n",
       "        vertical-align: middle;\n",
       "    }\n",
       "\n",
       "    .dataframe tbody tr th {\n",
       "        vertical-align: top;\n",
       "    }\n",
       "\n",
       "    .dataframe thead th {\n",
       "        text-align: right;\n",
       "    }\n",
       "</style>\n",
       "<table border=\"1\" class=\"dataframe\">\n",
       "  <thead>\n",
       "    <tr style=\"text-align: right;\">\n",
       "      <th></th>\n",
       "      <th>Station identifier</th>\n",
       "      <th>State</th>\n",
       "    </tr>\n",
       "  </thead>\n",
       "  <tbody>\n",
       "    <tr>\n",
       "      <th>0</th>\n",
       "      <td>Station</td>\n",
       "      <td>State</td>\n",
       "    </tr>\n",
       "    <tr>\n",
       "      <th>1</th>\n",
       "      <td>AQC00914000</td>\n",
       "      <td>AS</td>\n",
       "    </tr>\n",
       "    <tr>\n",
       "      <th>2</th>\n",
       "      <td>AQC00914005</td>\n",
       "      <td>AS</td>\n",
       "    </tr>\n",
       "    <tr>\n",
       "      <th>3</th>\n",
       "      <td>AQC00914021</td>\n",
       "      <td>AS</td>\n",
       "    </tr>\n",
       "    <tr>\n",
       "      <th>4</th>\n",
       "      <td>AQC00914060</td>\n",
       "      <td>AS</td>\n",
       "    </tr>\n",
       "  </tbody>\n",
       "</table>\n",
       "</div>"
      ],
      "text/plain": [
       "  Station identifier  State\n",
       "0            Station  State\n",
       "1        AQC00914000     AS\n",
       "2        AQC00914005     AS\n",
       "3        AQC00914021     AS\n",
       "4        AQC00914060     AS"
      ]
     },
     "execution_count": 14,
     "metadata": {},
     "output_type": "execute_result"
    }
   ],
   "source": [
    "station = pd.read_csv('ghcnd-stations.csv', sep=';', header=None)\n",
    "station.columns = ['Station identifier', 'State']\n",
    "station.head()"
   ]
  },
  {
   "cell_type": "code",
   "execution_count": null,
   "metadata": {},
   "outputs": [],
   "source": []
  },
  {
   "cell_type": "code",
   "execution_count": 15,
   "metadata": {},
   "outputs": [],
   "source": [
    "#Merge the two datasets\n",
    "\n",
    "weather = pd.merge(df, station, on='Station identifier')"
   ]
  },
  {
   "cell_type": "code",
   "execution_count": 16,
   "metadata": {},
   "outputs": [
    {
     "data": {
      "text/html": [
       "<div>\n",
       "<style scoped>\n",
       "    .dataframe tbody tr th:only-of-type {\n",
       "        vertical-align: middle;\n",
       "    }\n",
       "\n",
       "    .dataframe tbody tr th {\n",
       "        vertical-align: top;\n",
       "    }\n",
       "\n",
       "    .dataframe thead th {\n",
       "        text-align: right;\n",
       "    }\n",
       "</style>\n",
       "<table border=\"1\" class=\"dataframe\">\n",
       "  <thead>\n",
       "    <tr style=\"text-align: right;\">\n",
       "      <th></th>\n",
       "      <th>Station identifier</th>\n",
       "      <th>Date</th>\n",
       "      <th>Observation type</th>\n",
       "      <th>Observation value</th>\n",
       "      <th>Measurement Flag</th>\n",
       "      <th>Quality Flag</th>\n",
       "      <th>Source Flag</th>\n",
       "      <th>Observation Time</th>\n",
       "      <th>State</th>\n",
       "    </tr>\n",
       "  </thead>\n",
       "  <tbody>\n",
       "    <tr>\n",
       "      <th>0</th>\n",
       "      <td>US1ILMG0005</td>\n",
       "      <td>20100101</td>\n",
       "      <td>SNWD</td>\n",
       "      <td>51</td>\n",
       "      <td>NaN</td>\n",
       "      <td>NaN</td>\n",
       "      <td>N</td>\n",
       "      <td>NaN</td>\n",
       "      <td>IL</td>\n",
       "    </tr>\n",
       "    <tr>\n",
       "      <th>1</th>\n",
       "      <td>US1ILMG0005</td>\n",
       "      <td>20100101</td>\n",
       "      <td>DAPR</td>\n",
       "      <td>2</td>\n",
       "      <td>NaN</td>\n",
       "      <td>NaN</td>\n",
       "      <td>N</td>\n",
       "      <td>NaN</td>\n",
       "      <td>IL</td>\n",
       "    </tr>\n",
       "    <tr>\n",
       "      <th>2</th>\n",
       "      <td>US1ILMG0005</td>\n",
       "      <td>20100101</td>\n",
       "      <td>MDPR</td>\n",
       "      <td>15</td>\n",
       "      <td>NaN</td>\n",
       "      <td>NaN</td>\n",
       "      <td>N</td>\n",
       "      <td>NaN</td>\n",
       "      <td>IL</td>\n",
       "    </tr>\n",
       "    <tr>\n",
       "      <th>3</th>\n",
       "      <td>US1ILMG0005</td>\n",
       "      <td>20100102</td>\n",
       "      <td>PRCP</td>\n",
       "      <td>0</td>\n",
       "      <td>NaN</td>\n",
       "      <td>NaN</td>\n",
       "      <td>N</td>\n",
       "      <td>NaN</td>\n",
       "      <td>IL</td>\n",
       "    </tr>\n",
       "    <tr>\n",
       "      <th>4</th>\n",
       "      <td>US1ILMG0005</td>\n",
       "      <td>20100102</td>\n",
       "      <td>SNOW</td>\n",
       "      <td>0</td>\n",
       "      <td>NaN</td>\n",
       "      <td>NaN</td>\n",
       "      <td>N</td>\n",
       "      <td>NaN</td>\n",
       "      <td>IL</td>\n",
       "    </tr>\n",
       "  </tbody>\n",
       "</table>\n",
       "</div>"
      ],
      "text/plain": [
       "  Station identifier      Date Observation type  Observation value  \\\n",
       "0        US1ILMG0005  20100101             SNWD                 51   \n",
       "1        US1ILMG0005  20100101             DAPR                  2   \n",
       "2        US1ILMG0005  20100101             MDPR                 15   \n",
       "3        US1ILMG0005  20100102             PRCP                  0   \n",
       "4        US1ILMG0005  20100102             SNOW                  0   \n",
       "\n",
       "  Measurement Flag Quality Flag Source Flag  Observation Time State  \n",
       "0              NaN          NaN           N               NaN    IL  \n",
       "1              NaN          NaN           N               NaN    IL  \n",
       "2              NaN          NaN           N               NaN    IL  \n",
       "3              NaN          NaN           N               NaN    IL  \n",
       "4              NaN          NaN           N               NaN    IL  "
      ]
     },
     "execution_count": 16,
     "metadata": {},
     "output_type": "execute_result"
    }
   ],
   "source": [
    "weather.head()"
   ]
  },
  {
   "cell_type": "code",
   "execution_count": 80,
   "metadata": {},
   "outputs": [],
   "source": [
    "#Minesota = MN\n",
    "#Iowa = IA\n",
    "#Illinois = IL\n",
    "#Indiana = IN\n",
    "#Michigan = MI\n",
    "#Wisconsin = WI\n",
    "\n",
    "#We need to filter on these States in order to get the right data, these are the staes with significant Corn production"
   ]
  },
  {
   "cell_type": "code",
   "execution_count": 17,
   "metadata": {},
   "outputs": [],
   "source": [
    "weather= weather[weather['State'].isin(['MN','IA', 'IL','IN','MI','WI'])]"
   ]
  },
  {
   "cell_type": "code",
   "execution_count": 18,
   "metadata": {},
   "outputs": [
    {
     "name": "stdout",
     "output_type": "stream",
     "text": [
      "<class 'pandas.core.frame.DataFrame'>\n",
      "Int64Index: 29325663 entries, 0 to 245044738\n",
      "Data columns (total 9 columns):\n",
      "Station identifier    object\n",
      "Date                  int64\n",
      "Observation type      object\n",
      "Observation value     int64\n",
      "Measurement Flag      object\n",
      "Quality Flag          object\n",
      "Source Flag           object\n",
      "Observation Time      float64\n",
      "State                 object\n",
      "dtypes: float64(1), int64(2), object(6)\n",
      "memory usage: 2.2+ GB\n"
     ]
    }
   ],
   "source": [
    "weather.info()"
   ]
  },
  {
   "cell_type": "code",
   "execution_count": 19,
   "metadata": {},
   "outputs": [
    {
     "data": {
      "text/html": [
       "<div>\n",
       "<style scoped>\n",
       "    .dataframe tbody tr th:only-of-type {\n",
       "        vertical-align: middle;\n",
       "    }\n",
       "\n",
       "    .dataframe tbody tr th {\n",
       "        vertical-align: top;\n",
       "    }\n",
       "\n",
       "    .dataframe thead th {\n",
       "        text-align: right;\n",
       "    }\n",
       "</style>\n",
       "<table border=\"1\" class=\"dataframe\">\n",
       "  <thead>\n",
       "    <tr style=\"text-align: right;\">\n",
       "      <th></th>\n",
       "      <th>Station identifier</th>\n",
       "      <th>Date</th>\n",
       "      <th>Observation type</th>\n",
       "      <th>Observation value</th>\n",
       "      <th>State</th>\n",
       "    </tr>\n",
       "  </thead>\n",
       "  <tbody>\n",
       "    <tr>\n",
       "      <th>0</th>\n",
       "      <td>US1ILMG0005</td>\n",
       "      <td>20100101</td>\n",
       "      <td>SNWD</td>\n",
       "      <td>51</td>\n",
       "      <td>IL</td>\n",
       "    </tr>\n",
       "    <tr>\n",
       "      <th>1</th>\n",
       "      <td>US1ILMG0005</td>\n",
       "      <td>20100101</td>\n",
       "      <td>DAPR</td>\n",
       "      <td>2</td>\n",
       "      <td>IL</td>\n",
       "    </tr>\n",
       "    <tr>\n",
       "      <th>2</th>\n",
       "      <td>US1ILMG0005</td>\n",
       "      <td>20100101</td>\n",
       "      <td>MDPR</td>\n",
       "      <td>15</td>\n",
       "      <td>IL</td>\n",
       "    </tr>\n",
       "    <tr>\n",
       "      <th>3</th>\n",
       "      <td>US1ILMG0005</td>\n",
       "      <td>20100102</td>\n",
       "      <td>PRCP</td>\n",
       "      <td>0</td>\n",
       "      <td>IL</td>\n",
       "    </tr>\n",
       "    <tr>\n",
       "      <th>4</th>\n",
       "      <td>US1ILMG0005</td>\n",
       "      <td>20100102</td>\n",
       "      <td>SNOW</td>\n",
       "      <td>0</td>\n",
       "      <td>IL</td>\n",
       "    </tr>\n",
       "  </tbody>\n",
       "</table>\n",
       "</div>"
      ],
      "text/plain": [
       "  Station identifier      Date Observation type  Observation value State\n",
       "0        US1ILMG0005  20100101             SNWD                 51    IL\n",
       "1        US1ILMG0005  20100101             DAPR                  2    IL\n",
       "2        US1ILMG0005  20100101             MDPR                 15    IL\n",
       "3        US1ILMG0005  20100102             PRCP                  0    IL\n",
       "4        US1ILMG0005  20100102             SNOW                  0    IL"
      ]
     },
     "execution_count": 19,
     "metadata": {},
     "output_type": "execute_result"
    }
   ],
   "source": [
    "weather.drop(['Observation Time', 'Source Flag','Measurement Flag','Quality Flag'], axis=1, inplace=True)\n",
    "weather.head()"
   ]
  },
  {
   "cell_type": "code",
   "execution_count": 20,
   "metadata": {},
   "outputs": [
    {
     "data": {
      "text/plain": [
       "array(['SNWD', 'DAPR', 'MDPR', 'PRCP', 'SNOW', 'WESF', 'WESD', 'TMAX',\n",
       "       'TMIN', 'TOBS', 'WT01', 'WT03', 'WT05', 'WT04', 'WT06', 'WT11',\n",
       "       'TAVG', 'AWND', 'PGTM', 'WDF2', 'WDF5', 'WSF2', 'WSF5', 'WT02',\n",
       "       'WT08', 'WT09', 'PSUN', 'TSUN', 'WSFG', 'FMTM', 'WT13', 'WT16',\n",
       "       'WT18', 'WT07', 'WT22', 'WT19', 'WT17', 'SN32', 'SN52', 'SX32',\n",
       "       'SX52', 'MDSF', 'WT14', 'WT15', 'WT10', 'WT21', 'EVAP', 'MNPN',\n",
       "       'MXPN', 'WDMV', 'DASF', 'SN31', 'SN33', 'SX31', 'SX33', 'WDFG',\n",
       "       'SN53', 'SX53', 'SX36', 'THIC', 'SN12', 'SX12', 'SN35', 'SN36',\n",
       "       'SN51', 'SN55', 'SN56', 'SX35', 'SX51', 'SX55', 'SX56', 'DAEV',\n",
       "       'MDEV', 'SN34', 'SX34'], dtype=object)"
      ]
     },
     "execution_count": 20,
     "metadata": {},
     "output_type": "execute_result"
    }
   ],
   "source": [
    "weather['Observation type'].unique()"
   ]
  },
  {
   "cell_type": "code",
   "execution_count": 94,
   "metadata": {},
   "outputs": [],
   "source": [
    "#We are going to use TMAX, TMIN, PRCP, SNOW only and now We need to make them as a column. for better readability"
   ]
  },
  {
   "cell_type": "code",
   "execution_count": 21,
   "metadata": {},
   "outputs": [
    {
     "data": {
      "text/html": [
       "<div>\n",
       "<style scoped>\n",
       "    .dataframe tbody tr th:only-of-type {\n",
       "        vertical-align: middle;\n",
       "    }\n",
       "\n",
       "    .dataframe tbody tr th {\n",
       "        vertical-align: top;\n",
       "    }\n",
       "\n",
       "    .dataframe thead th {\n",
       "        text-align: right;\n",
       "    }\n",
       "</style>\n",
       "<table border=\"1\" class=\"dataframe\">\n",
       "  <thead>\n",
       "    <tr style=\"text-align: right;\">\n",
       "      <th></th>\n",
       "      <th>Observation type</th>\n",
       "      <th>TMAX</th>\n",
       "      <th>TMIN</th>\n",
       "      <th>PRCP</th>\n",
       "      <th>SNOW</th>\n",
       "    </tr>\n",
       "    <tr>\n",
       "      <th>Date</th>\n",
       "      <th>Station identifier</th>\n",
       "      <th></th>\n",
       "      <th></th>\n",
       "      <th></th>\n",
       "      <th></th>\n",
       "    </tr>\n",
       "  </thead>\n",
       "  <tbody>\n",
       "    <tr>\n",
       "      <th rowspan=\"5\" valign=\"top\">20100101</th>\n",
       "      <th>US1IAAP0001</th>\n",
       "      <td>0.0</td>\n",
       "      <td>0.0</td>\n",
       "      <td>0.0</td>\n",
       "      <td>0.0</td>\n",
       "    </tr>\n",
       "    <tr>\n",
       "      <th>US1IABC0002</th>\n",
       "      <td>0.0</td>\n",
       "      <td>0.0</td>\n",
       "      <td>0.0</td>\n",
       "      <td>0.0</td>\n",
       "    </tr>\n",
       "    <tr>\n",
       "      <th>US1IABH0006</th>\n",
       "      <td>0.0</td>\n",
       "      <td>0.0</td>\n",
       "      <td>0.0</td>\n",
       "      <td>0.0</td>\n",
       "    </tr>\n",
       "    <tr>\n",
       "      <th>US1IABH0007</th>\n",
       "      <td>0.0</td>\n",
       "      <td>0.0</td>\n",
       "      <td>0.0</td>\n",
       "      <td>0.0</td>\n",
       "    </tr>\n",
       "    <tr>\n",
       "      <th>US1IABH0008</th>\n",
       "      <td>0.0</td>\n",
       "      <td>0.0</td>\n",
       "      <td>0.0</td>\n",
       "      <td>0.0</td>\n",
       "    </tr>\n",
       "  </tbody>\n",
       "</table>\n",
       "</div>"
      ],
      "text/plain": [
       "Observation type             TMAX  TMIN  PRCP  SNOW\n",
       "Date     Station identifier                        \n",
       "20100101 US1IAAP0001          0.0   0.0   0.0   0.0\n",
       "         US1IABC0002          0.0   0.0   0.0   0.0\n",
       "         US1IABH0006          0.0   0.0   0.0   0.0\n",
       "         US1IABH0007          0.0   0.0   0.0   0.0\n",
       "         US1IABH0008          0.0   0.0   0.0   0.0"
      ]
     },
     "execution_count": 21,
     "metadata": {},
     "output_type": "execute_result"
    }
   ],
   "source": [
    "pivot = pd.pivot_table(weather, values='Observation value', index=['Date',\n",
    "                                                                    'Station identifier',], columns='Observation type')\n",
    "pivot = pivot.filter(['TMAX','TMIN','PRCP','SNOW'])\n",
    "pivot = pivot.fillna(0)\n",
    "pivot.head()"
   ]
  },
  {
   "cell_type": "code",
   "execution_count": 22,
   "metadata": {},
   "outputs": [
    {
     "data": {
      "text/html": [
       "<div>\n",
       "<style scoped>\n",
       "    .dataframe tbody tr th:only-of-type {\n",
       "        vertical-align: middle;\n",
       "    }\n",
       "\n",
       "    .dataframe tbody tr th {\n",
       "        vertical-align: top;\n",
       "    }\n",
       "\n",
       "    .dataframe thead th {\n",
       "        text-align: right;\n",
       "    }\n",
       "</style>\n",
       "<table border=\"1\" class=\"dataframe\">\n",
       "  <thead>\n",
       "    <tr style=\"text-align: right;\">\n",
       "      <th>Observation type</th>\n",
       "      <th>TMAX</th>\n",
       "      <th>TMIN</th>\n",
       "      <th>PRCP</th>\n",
       "      <th>SNOW</th>\n",
       "    </tr>\n",
       "    <tr>\n",
       "      <th>Date</th>\n",
       "      <th></th>\n",
       "      <th></th>\n",
       "      <th></th>\n",
       "      <th></th>\n",
       "    </tr>\n",
       "  </thead>\n",
       "  <tbody>\n",
       "    <tr>\n",
       "      <th>2010-01-01</th>\n",
       "      <td>-31.046402</td>\n",
       "      <td>-74.829545</td>\n",
       "      <td>3.594223</td>\n",
       "      <td>4.698390</td>\n",
       "    </tr>\n",
       "    <tr>\n",
       "      <th>2010-01-02</th>\n",
       "      <td>-52.175943</td>\n",
       "      <td>-101.472170</td>\n",
       "      <td>3.552830</td>\n",
       "      <td>7.444340</td>\n",
       "    </tr>\n",
       "    <tr>\n",
       "      <th>2010-01-03</th>\n",
       "      <td>-57.468414</td>\n",
       "      <td>-103.546093</td>\n",
       "      <td>2.228358</td>\n",
       "      <td>5.344408</td>\n",
       "    </tr>\n",
       "    <tr>\n",
       "      <th>2010-01-04</th>\n",
       "      <td>-46.521938</td>\n",
       "      <td>-88.392139</td>\n",
       "      <td>2.521024</td>\n",
       "      <td>5.994973</td>\n",
       "    </tr>\n",
       "    <tr>\n",
       "      <th>2010-01-05</th>\n",
       "      <td>-40.622883</td>\n",
       "      <td>-76.595881</td>\n",
       "      <td>2.895195</td>\n",
       "      <td>4.625172</td>\n",
       "    </tr>\n",
       "  </tbody>\n",
       "</table>\n",
       "</div>"
      ],
      "text/plain": [
       "Observation type       TMAX        TMIN      PRCP      SNOW\n",
       "Date                                                       \n",
       "2010-01-01       -31.046402  -74.829545  3.594223  4.698390\n",
       "2010-01-02       -52.175943 -101.472170  3.552830  7.444340\n",
       "2010-01-03       -57.468414 -103.546093  2.228358  5.344408\n",
       "2010-01-04       -46.521938  -88.392139  2.521024  5.994973\n",
       "2010-01-05       -40.622883  -76.595881  2.895195  4.625172"
      ]
     },
     "execution_count": 22,
     "metadata": {},
     "output_type": "execute_result"
    }
   ],
   "source": [
    "#Now we need to aggregate the data based on Dates, (i.e. one data one line)\n",
    "# one more thing to to => Make it a date format!\n",
    "final_data = pivot.groupby(level=0).mean()\n",
    "final_data.index = pd.to_datetime(final_data.index, format='%Y%m%d', errors='ignore')\n",
    "final_data.head()"
   ]
  },
  {
   "cell_type": "code",
   "execution_count": 23,
   "metadata": {},
   "outputs": [],
   "source": [
    "import matplotlib.pyplot as plt\n",
    "import seaborn as sns\n",
    "%matplotlib inline"
   ]
  },
  {
   "cell_type": "code",
   "execution_count": 24,
   "metadata": {},
   "outputs": [
    {
     "data": {
      "text/plain": [
       "<matplotlib.axes._subplots.AxesSubplot at 0x7fa2812978d0>"
      ]
     },
     "execution_count": 24,
     "metadata": {},
     "output_type": "execute_result"
    },
    {
     "data": {
      "image/png": "[encoded data removed]",
      "text/plain": [
       "<Figure size 1152x432 with 1 Axes>"
      ]
     },
     "metadata": {
      "needs_background": "light"
     },
     "output_type": "display_data"
    }
   ],
   "source": [
    "#Plot out the data to see if it makes sense\n",
    "final_data.plot(figsize=(16,6))"
   ]
  },
  {
   "cell_type": "code",
   "execution_count": 154,
   "metadata": {},
   "outputs": [],
   "source": [
    "#Alright, so looks like snow data is reasonable, we can only see data from Dec to March\n",
    "#TMAX and TMIN data looks ok too, over the summer, it's warmer, during winter time is coolder\n",
    "#PRCP looks okay, lots of rain over spring and fall, as expected"
   ]
  },
  {
   "cell_type": "code",
   "execution_count": 25,
   "metadata": {},
   "outputs": [],
   "source": [
    "final_data.to_csv('weather.csv')"
   ]
  },
  {
   "cell_type": "code",
   "execution_count": null,
   "metadata": {},
   "outputs": [],
   "source": []
  }
 ],
 "metadata": {
  "kernelspec": {
   "display_name": "Python 3",
   "language": "python",
   "name": "python3"
  },
  "language_info": {
   "codemirror_mode": {
    "name": "ipython",
    "version": 3
   },
   "file_extension": ".py",
   "mimetype": "text/x-python",
   "name": "python",
   "nbconvert_exporter": "python",
   "pygments_lexer": "ipython3",
   "version": "3.7.5"
  }
 },
 "nbformat": 4,
 "nbformat_minor": 2
}
